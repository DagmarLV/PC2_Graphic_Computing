{
  "cells": [
    {
      "cell_type": "code",
      "execution_count": 1,
      "metadata": {
        "colab": {
          "base_uri": "https://localhost:8080/"
        },
        "id": "VLZYdRYszoHV",
        "outputId": "fe034d7b-0752-4ef5-9d48-38cb1f455c73"
      },
      "outputs": [
        {
          "name": "stdout",
          "output_type": "stream",
          "text": [
            "Requirement already satisfied: q in c:\\users\\aztir\\appdata\\local\\programs\\python\\python311\\lib\\site-packages (2.7)\n",
            "Collecting keras==2.2.4\n",
            "  Using cached Keras-2.2.4-py2.py3-none-any.whl (312 kB)\n",
            "Requirement already satisfied: numpy>=1.9.1 in c:\\users\\aztir\\appdata\\local\\programs\\python\\python311\\lib\\site-packages (from keras==2.2.4) (1.23.5)\n",
            "Requirement already satisfied: scipy>=0.14 in c:\\users\\aztir\\appdata\\local\\programs\\python\\python311\\lib\\site-packages (from keras==2.2.4) (1.11.3)\n",
            "Requirement already satisfied: six>=1.9.0 in c:\\users\\aztir\\appdata\\local\\programs\\python\\python311\\lib\\site-packages (from keras==2.2.4) (1.16.0)\n",
            "Requirement already satisfied: pyyaml in c:\\users\\aztir\\appdata\\local\\programs\\python\\python311\\lib\\site-packages (from keras==2.2.4) (6.0.1)\n",
            "Requirement already satisfied: h5py in c:\\users\\aztir\\appdata\\local\\programs\\python\\python311\\lib\\site-packages (from keras==2.2.4) (3.10.0)\n",
            "Requirement already satisfied: keras-applications>=1.0.6 in c:\\users\\aztir\\appdata\\local\\programs\\python\\python311\\lib\\site-packages (from keras==2.2.4) (1.0.8)\n",
            "Requirement already satisfied: keras-preprocessing>=1.0.5 in c:\\users\\aztir\\appdata\\local\\programs\\python\\python311\\lib\\site-packages (from keras==2.2.4) (1.1.2)\n",
            "Installing collected packages: keras\n",
            "  Attempting uninstall: keras\n",
            "    Found existing installation: keras 2.12.0\n",
            "    Uninstalling keras-2.12.0:\n",
            "      Successfully uninstalled keras-2.12.0\n",
            "Successfully installed keras-2.2.4\n",
            "Note: you may need to restart the kernel to use updated packages.\n"
          ]
        },
        {
          "name": "stderr",
          "output_type": "stream",
          "text": [
            "ERROR: pip's dependency resolver does not currently take into account all the packages that are installed. This behaviour is the source of the following dependency conflicts.\n",
            "tensorflow-intel 2.12.0 requires keras<2.13,>=2.12.0, but you have keras 2.2.4 which is incompatible.\n"
          ]
        },
        {
          "name": "stdout",
          "output_type": "stream",
          "text": [
            "Requirement already satisfied: tensorflow==2.12 in c:\\users\\aztir\\appdata\\local\\programs\\python\\python311\\lib\\site-packages (2.12.0)\n",
            "Requirement already satisfied: tensorflow-intel==2.12.0 in c:\\users\\aztir\\appdata\\local\\programs\\python\\python311\\lib\\site-packages (from tensorflow==2.12) (2.12.0)\n",
            "Requirement already satisfied: absl-py>=1.0.0 in c:\\users\\aztir\\appdata\\local\\programs\\python\\python311\\lib\\site-packages (from tensorflow-intel==2.12.0->tensorflow==2.12) (2.0.0)\n",
            "Requirement already satisfied: astunparse>=1.6.0 in c:\\users\\aztir\\appdata\\local\\programs\\python\\python311\\lib\\site-packages (from tensorflow-intel==2.12.0->tensorflow==2.12) (1.6.3)\n",
            "Requirement already satisfied: flatbuffers>=2.0 in c:\\users\\aztir\\appdata\\local\\programs\\python\\python311\\lib\\site-packages (from tensorflow-intel==2.12.0->tensorflow==2.12) (23.5.26)\n",
            "Requirement already satisfied: gast<=0.4.0,>=0.2.1 in c:\\users\\aztir\\appdata\\local\\programs\\python\\python311\\lib\\site-packages (from tensorflow-intel==2.12.0->tensorflow==2.12) (0.4.0)\n",
            "Requirement already satisfied: google-pasta>=0.1.1 in c:\\users\\aztir\\appdata\\local\\programs\\python\\python311\\lib\\site-packages (from tensorflow-intel==2.12.0->tensorflow==2.12) (0.2.0)\n",
            "Requirement already satisfied: h5py>=2.9.0 in c:\\users\\aztir\\appdata\\local\\programs\\python\\python311\\lib\\site-packages (from tensorflow-intel==2.12.0->tensorflow==2.12) (3.10.0)\n",
            "Requirement already satisfied: jax>=0.3.15 in c:\\users\\aztir\\appdata\\local\\programs\\python\\python311\\lib\\site-packages (from tensorflow-intel==2.12.0->tensorflow==2.12) (0.4.18)\n",
            "Requirement already satisfied: libclang>=13.0.0 in c:\\users\\aztir\\appdata\\local\\programs\\python\\python311\\lib\\site-packages (from tensorflow-intel==2.12.0->tensorflow==2.12) (16.0.6)\n",
            "Requirement already satisfied: numpy<1.24,>=1.22 in c:\\users\\aztir\\appdata\\local\\programs\\python\\python311\\lib\\site-packages (from tensorflow-intel==2.12.0->tensorflow==2.12) (1.23.5)\n",
            "Requirement already satisfied: opt-einsum>=2.3.2 in c:\\users\\aztir\\appdata\\local\\programs\\python\\python311\\lib\\site-packages (from tensorflow-intel==2.12.0->tensorflow==2.12) (3.3.0)\n",
            "Requirement already satisfied: packaging in c:\\users\\aztir\\appdata\\local\\programs\\python\\python311\\lib\\site-packages (from tensorflow-intel==2.12.0->tensorflow==2.12) (23.1)\n",
            "Requirement already satisfied: protobuf!=4.21.0,!=4.21.1,!=4.21.2,!=4.21.3,!=4.21.4,!=4.21.5,<5.0.0dev,>=3.20.3 in c:\\users\\aztir\\appdata\\local\\programs\\python\\python311\\lib\\site-packages (from tensorflow-intel==2.12.0->tensorflow==2.12) (4.24.4)\n",
            "Requirement already satisfied: setuptools in c:\\users\\aztir\\appdata\\local\\programs\\python\\python311\\lib\\site-packages (from tensorflow-intel==2.12.0->tensorflow==2.12) (65.5.0)\n",
            "Requirement already satisfied: six>=1.12.0 in c:\\users\\aztir\\appdata\\local\\programs\\python\\python311\\lib\\site-packages (from tensorflow-intel==2.12.0->tensorflow==2.12) (1.16.0)\n",
            "Requirement already satisfied: termcolor>=1.1.0 in c:\\users\\aztir\\appdata\\local\\programs\\python\\python311\\lib\\site-packages (from tensorflow-intel==2.12.0->tensorflow==2.12) (2.3.0)\n",
            "Requirement already satisfied: typing-extensions>=3.6.6 in c:\\users\\aztir\\appdata\\local\\programs\\python\\python311\\lib\\site-packages (from tensorflow-intel==2.12.0->tensorflow==2.12) (4.8.0)\n",
            "Requirement already satisfied: wrapt<1.15,>=1.11.0 in c:\\users\\aztir\\appdata\\local\\programs\\python\\python311\\lib\\site-packages (from tensorflow-intel==2.12.0->tensorflow==2.12) (1.14.1)\n",
            "Requirement already satisfied: grpcio<2.0,>=1.24.3 in c:\\users\\aztir\\appdata\\local\\programs\\python\\python311\\lib\\site-packages (from tensorflow-intel==2.12.0->tensorflow==2.12) (1.59.0)\n",
            "Requirement already satisfied: tensorboard<2.13,>=2.12 in c:\\users\\aztir\\appdata\\local\\programs\\python\\python311\\lib\\site-packages (from tensorflow-intel==2.12.0->tensorflow==2.12) (2.12.3)\n",
            "Requirement already satisfied: tensorflow-estimator<2.13,>=2.12.0 in c:\\users\\aztir\\appdata\\local\\programs\\python\\python311\\lib\\site-packages (from tensorflow-intel==2.12.0->tensorflow==2.12) (2.12.0)\n",
            "Collecting keras<2.13,>=2.12.0 (from tensorflow-intel==2.12.0->tensorflow==2.12)\n",
            "  Using cached keras-2.12.0-py2.py3-none-any.whl (1.7 MB)\n",
            "Requirement already satisfied: tensorflow-io-gcs-filesystem>=0.23.1 in c:\\users\\aztir\\appdata\\local\\programs\\python\\python311\\lib\\site-packages (from tensorflow-intel==2.12.0->tensorflow==2.12) (0.31.0)\n",
            "Requirement already satisfied: wheel<1.0,>=0.23.0 in c:\\users\\aztir\\appdata\\local\\programs\\python\\python311\\lib\\site-packages (from astunparse>=1.6.0->tensorflow-intel==2.12.0->tensorflow==2.12) (0.41.2)\n",
            "Requirement already satisfied: ml-dtypes>=0.2.0 in c:\\users\\aztir\\appdata\\local\\programs\\python\\python311\\lib\\site-packages (from jax>=0.3.15->tensorflow-intel==2.12.0->tensorflow==2.12) (0.3.1)\n",
            "Requirement already satisfied: scipy>=1.7 in c:\\users\\aztir\\appdata\\local\\programs\\python\\python311\\lib\\site-packages (from jax>=0.3.15->tensorflow-intel==2.12.0->tensorflow==2.12) (1.11.3)\n",
            "Requirement already satisfied: google-auth<3,>=1.6.3 in c:\\users\\aztir\\appdata\\local\\programs\\python\\python311\\lib\\site-packages (from tensorboard<2.13,>=2.12->tensorflow-intel==2.12.0->tensorflow==2.12) (2.23.3)\n",
            "Requirement already satisfied: google-auth-oauthlib<1.1,>=0.5 in c:\\users\\aztir\\appdata\\local\\programs\\python\\python311\\lib\\site-packages (from tensorboard<2.13,>=2.12->tensorflow-intel==2.12.0->tensorflow==2.12) (1.0.0)\n",
            "Requirement already satisfied: markdown>=2.6.8 in c:\\users\\aztir\\appdata\\local\\programs\\python\\python311\\lib\\site-packages (from tensorboard<2.13,>=2.12->tensorflow-intel==2.12.0->tensorflow==2.12) (3.5)\n",
            "Requirement already satisfied: requests<3,>=2.21.0 in c:\\users\\aztir\\appdata\\local\\programs\\python\\python311\\lib\\site-packages (from tensorboard<2.13,>=2.12->tensorflow-intel==2.12.0->tensorflow==2.12) (2.31.0)\n",
            "Requirement already satisfied: tensorboard-data-server<0.8.0,>=0.7.0 in c:\\users\\aztir\\appdata\\local\\programs\\python\\python311\\lib\\site-packages (from tensorboard<2.13,>=2.12->tensorflow-intel==2.12.0->tensorflow==2.12) (0.7.1)\n",
            "Requirement already satisfied: werkzeug>=1.0.1 in c:\\users\\aztir\\appdata\\local\\programs\\python\\python311\\lib\\site-packages (from tensorboard<2.13,>=2.12->tensorflow-intel==2.12.0->tensorflow==2.12) (3.0.0)\n",
            "Requirement already satisfied: cachetools<6.0,>=2.0.0 in c:\\users\\aztir\\appdata\\local\\programs\\python\\python311\\lib\\site-packages (from google-auth<3,>=1.6.3->tensorboard<2.13,>=2.12->tensorflow-intel==2.12.0->tensorflow==2.12) (5.3.1)\n",
            "Requirement already satisfied: pyasn1-modules>=0.2.1 in c:\\users\\aztir\\appdata\\local\\programs\\python\\python311\\lib\\site-packages (from google-auth<3,>=1.6.3->tensorboard<2.13,>=2.12->tensorflow-intel==2.12.0->tensorflow==2.12) (0.3.0)\n",
            "Requirement already satisfied: rsa<5,>=3.1.4 in c:\\users\\aztir\\appdata\\local\\programs\\python\\python311\\lib\\site-packages (from google-auth<3,>=1.6.3->tensorboard<2.13,>=2.12->tensorflow-intel==2.12.0->tensorflow==2.12) (4.9)\n",
            "Requirement already satisfied: requests-oauthlib>=0.7.0 in c:\\users\\aztir\\appdata\\local\\programs\\python\\python311\\lib\\site-packages (from google-auth-oauthlib<1.1,>=0.5->tensorboard<2.13,>=2.12->tensorflow-intel==2.12.0->tensorflow==2.12) (1.3.1)\n",
            "Requirement already satisfied: charset-normalizer<4,>=2 in c:\\users\\aztir\\appdata\\local\\programs\\python\\python311\\lib\\site-packages (from requests<3,>=2.21.0->tensorboard<2.13,>=2.12->tensorflow-intel==2.12.0->tensorflow==2.12) (3.2.0)\n",
            "Requirement already satisfied: idna<4,>=2.5 in c:\\users\\aztir\\appdata\\local\\programs\\python\\python311\\lib\\site-packages (from requests<3,>=2.21.0->tensorboard<2.13,>=2.12->tensorflow-intel==2.12.0->tensorflow==2.12) (3.4)\n",
            "Requirement already satisfied: urllib3<3,>=1.21.1 in c:\\users\\aztir\\appdata\\local\\programs\\python\\python311\\lib\\site-packages (from requests<3,>=2.21.0->tensorboard<2.13,>=2.12->tensorflow-intel==2.12.0->tensorflow==2.12) (2.0.4)\n",
            "Requirement already satisfied: certifi>=2017.4.17 in c:\\users\\aztir\\appdata\\local\\programs\\python\\python311\\lib\\site-packages (from requests<3,>=2.21.0->tensorboard<2.13,>=2.12->tensorflow-intel==2.12.0->tensorflow==2.12) (2023.7.22)\n",
            "Requirement already satisfied: MarkupSafe>=2.1.1 in c:\\users\\aztir\\appdata\\local\\programs\\python\\python311\\lib\\site-packages (from werkzeug>=1.0.1->tensorboard<2.13,>=2.12->tensorflow-intel==2.12.0->tensorflow==2.12) (2.1.3)\n",
            "Requirement already satisfied: pyasn1<0.6.0,>=0.4.6 in c:\\users\\aztir\\appdata\\local\\programs\\python\\python311\\lib\\site-packages (from pyasn1-modules>=0.2.1->google-auth<3,>=1.6.3->tensorboard<2.13,>=2.12->tensorflow-intel==2.12.0->tensorflow==2.12) (0.5.0)\n",
            "Requirement already satisfied: oauthlib>=3.0.0 in c:\\users\\aztir\\appdata\\local\\programs\\python\\python311\\lib\\site-packages (from requests-oauthlib>=0.7.0->google-auth-oauthlib<1.1,>=0.5->tensorboard<2.13,>=2.12->tensorflow-intel==2.12.0->tensorflow==2.12) (3.2.2)\n",
            "Installing collected packages: keras\n",
            "  Attempting uninstall: keras\n",
            "    Found existing installation: Keras 2.2.4\n",
            "    Uninstalling Keras-2.2.4:\n",
            "      Successfully uninstalled Keras-2.2.4\n",
            "Successfully installed keras-2.12.0\n",
            "Note: you may need to restart the kernel to use updated packages.\n"
          ]
        }
      ],
      "source": [
        "%pip install q keras==2.2.4\n",
        "%pip install tensorflow==2.12"
      ]
    },
    {
      "cell_type": "code",
      "execution_count": 2,
      "metadata": {
        "colab": {
          "base_uri": "https://localhost:8080/"
        },
        "id": "m1pnW3AKsfRs",
        "outputId": "1f2d983a-1997-4534-bf8e-e1c1689d9401"
      },
      "outputs": [
        {
          "name": "stdout",
          "output_type": "stream",
          "text": [
            "2.12.0\n"
          ]
        }
      ],
      "source": [
        "import tensorflow as tf\n",
        "print(tf.__version__)\n"
      ]
    },
    {
      "cell_type": "code",
      "execution_count": 3,
      "metadata": {},
      "outputs": [
        {
          "name": "stdout",
          "output_type": "stream",
          "text": [
            "Requirement already satisfied: scikit-image in c:\\users\\aztir\\appdata\\local\\programs\\python\\python311\\lib\\site-packages (0.22.0)\n",
            "Requirement already satisfied: numpy>=1.22 in c:\\users\\aztir\\appdata\\local\\programs\\python\\python311\\lib\\site-packages (from scikit-image) (1.23.5)\n",
            "Requirement already satisfied: scipy>=1.8 in c:\\users\\aztir\\appdata\\local\\programs\\python\\python311\\lib\\site-packages (from scikit-image) (1.11.3)\n",
            "Requirement already satisfied: networkx>=2.8 in c:\\users\\aztir\\appdata\\local\\programs\\python\\python311\\lib\\site-packages (from scikit-image) (3.1)\n",
            "Requirement already satisfied: pillow>=9.0.1 in c:\\users\\aztir\\appdata\\local\\programs\\python\\python311\\lib\\site-packages (from scikit-image) (10.0.1)\n",
            "Requirement already satisfied: imageio>=2.27 in c:\\users\\aztir\\appdata\\local\\programs\\python\\python311\\lib\\site-packages (from scikit-image) (2.31.5)\n",
            "Requirement already satisfied: tifffile>=2022.8.12 in c:\\users\\aztir\\appdata\\local\\programs\\python\\python311\\lib\\site-packages (from scikit-image) (2023.9.26)\n",
            "Requirement already satisfied: packaging>=21 in c:\\users\\aztir\\appdata\\local\\programs\\python\\python311\\lib\\site-packages (from scikit-image) (23.1)\n",
            "Requirement already satisfied: lazy_loader>=0.3 in c:\\users\\aztir\\appdata\\local\\programs\\python\\python311\\lib\\site-packages (from scikit-image) (0.3)\n",
            "Note: you may need to restart the kernel to use updated packages.\n"
          ]
        }
      ],
      "source": [
        "%pip install scikit-image"
      ]
    },
    {
      "cell_type": "code",
      "execution_count": 4,
      "metadata": {},
      "outputs": [
        {
          "name": "stdout",
          "output_type": "stream",
          "text": [
            "Requirement already satisfied: scikit-learn in c:\\users\\aztir\\appdata\\local\\programs\\python\\python311\\lib\\site-packages (1.3.1)\n",
            "Requirement already satisfied: numpy<2.0,>=1.17.3 in c:\\users\\aztir\\appdata\\local\\programs\\python\\python311\\lib\\site-packages (from scikit-learn) (1.23.5)\n",
            "Requirement already satisfied: scipy>=1.5.0 in c:\\users\\aztir\\appdata\\local\\programs\\python\\python311\\lib\\site-packages (from scikit-learn) (1.11.3)\n",
            "Requirement already satisfied: joblib>=1.1.1 in c:\\users\\aztir\\appdata\\local\\programs\\python\\python311\\lib\\site-packages (from scikit-learn) (1.3.2)\n",
            "Requirement already satisfied: threadpoolctl>=2.0.0 in c:\\users\\aztir\\appdata\\local\\programs\\python\\python311\\lib\\site-packages (from scikit-learn) (3.2.0)\n",
            "Note: you may need to restart the kernel to use updated packages.\n"
          ]
        }
      ],
      "source": [
        "%pip install scikit-learn"
      ]
    },
    {
      "cell_type": "code",
      "execution_count": 5,
      "metadata": {
        "id": "M4tg9AulnhRa"
      },
      "outputs": [],
      "source": [
        "import numpy as np\n",
        "import matplotlib.pyplot as plt\n",
        "from skimage.transform import resize\n",
        "from sklearn.model_selection import train_test_split"
      ]
    },
    {
      "cell_type": "code",
      "execution_count": 6,
      "metadata": {
        "colab": {
          "base_uri": "https://localhost:8080/"
        },
        "id": "f2pbBqnSLYc8",
        "outputId": "baeb7d9d-8b33-4d06-c4ef-d152fe293f3e"
      },
      "outputs": [
        {
          "name": "stdout",
          "output_type": "stream",
          "text": [
            "Thu Oct 12 14:21:33 2023       \n",
            "+---------------------------------------------------------------------------------------+\n",
            "| NVIDIA-SMI 537.34                 Driver Version: 537.34       CUDA Version: 12.2     |\n",
            "|-----------------------------------------+----------------------+----------------------+\n",
            "| GPU  Name                     TCC/WDDM  | Bus-Id        Disp.A | Volatile Uncorr. ECC |\n",
            "| Fan  Temp   Perf          Pwr:Usage/Cap |         Memory-Usage | GPU-Util  Compute M. |\n",
            "|                                         |                      |               MIG M. |\n",
            "|=========================================+======================+======================|\n",
            "|   0  NVIDIA GeForce RTX 4060 ...  WDDM  | 00000000:01:00.0  On |                  N/A |\n",
            "| N/A   53C    P0              14W / 140W |    838MiB /  8188MiB |      0%      Default |\n",
            "|                                         |                      |                  N/A |\n",
            "+-----------------------------------------+----------------------+----------------------+\n",
            "                                                                                         \n",
            "+---------------------------------------------------------------------------------------+\n",
            "| Processes:                                                                            |\n",
            "|  GPU   GI   CI        PID   Type   Process name                            GPU Memory |\n",
            "|        ID   ID                                                             Usage      |\n",
            "|=======================================================================================|\n",
            "|    0   N/A  N/A      1628    C+G   C:\\Windows\\explorer.exe                   N/A      |\n",
            "|    0   N/A  N/A      4868    C+G   ...on\\117.0.2045.60\\msedgewebview2.exe    N/A      |\n",
            "|    0   N/A  N/A      6532    C+G   ...Desktop\\app-3.3.3\\GitHubDesktop.exe    N/A      |\n",
            "|    0   N/A  N/A      7292    C+G   ...1.0_x64__8wekyb3d8bbwe\\Video.UI.exe    N/A      |\n",
            "|    0   N/A  N/A      9584    C+G   ...Programs\\Microsoft VS Code\\Code.exe    N/A      |\n",
            "|    0   N/A  N/A      9668    C+G   ...B\\system_tray\\lghub_system_tray.exe    N/A      |\n",
            "|    0   N/A  N/A     10544    C+G   ...\\cef\\cef.win7x64\\steamwebhelper.exe    N/A      |\n",
            "|    0   N/A  N/A     13012    C+G   ...nt.CBS_cw5n1h2txyewy\\SearchHost.exe    N/A      |\n",
            "|    0   N/A  N/A     13040    C+G   ...2txyewy\\StartMenuExperienceHost.exe    N/A      |\n",
            "|    0   N/A  N/A     14688    C+G   ...on\\117.0.2045.60\\msedgewebview2.exe    N/A      |\n",
            "|    0   N/A  N/A     15484    C+G   ...t.LockApp_cw5n1h2txyewy\\LockApp.exe    N/A      |\n",
            "|    0   N/A  N/A     17468    C+G   ...5n1h2txyewy\\ShellExperienceHost.exe    N/A      |\n",
            "|    0   N/A  N/A     19108    C+G   ...GeForce Experience\\NVIDIA Share.exe    N/A      |\n",
            "|    0   N/A  N/A     19372    C+G   ...GeForce Experience\\NVIDIA Share.exe    N/A      |\n",
            "|    0   N/A  N/A     20168    C+G   ...ekyb3d8bbwe\\PhoneExperienceHost.exe    N/A      |\n",
            "|    0   N/A  N/A     20304    C+G   ...les\\Microsoft OneDrive\\OneDrive.exe    N/A      |\n",
            "|    0   N/A  N/A     21352    C+G   ...crosoft\\Edge\\Application\\msedge.exe    N/A      |\n",
            "|    0   N/A  N/A     23124    C+G   ...al\\Discord\\app-1.0.9019\\Discord.exe    N/A      |\n",
            "|    0   N/A  N/A     26024    C+G   ...l\\Microsoft\\Teams\\current\\Teams.exe    N/A      |\n",
            "|    0   N/A  N/A     26244    C+G   ...l\\Microsoft\\Teams\\current\\Teams.exe    N/A      |\n",
            "|    0   N/A  N/A     30652    C+G   ...siveControlPanel\\SystemSettings.exe    N/A      |\n",
            "|    0   N/A  N/A     31536    C+G   ...8bbwe\\SnippingTool\\SnippingTool.exe    N/A      |\n",
            "+---------------------------------------------------------------------------------------+\n"
          ]
        }
      ],
      "source": [
        "!nvidia-smi"
      ]
    },
    {
      "cell_type": "markdown",
      "metadata": {
        "id": "L3cG-u68k4NB"
      },
      "source": [
        "### Preparar datos"
      ]
    },
    {
      "cell_type": "code",
      "execution_count": 45,
      "metadata": {
        "id": "DOzikEiN9niE"
      },
      "outputs": [],
      "source": [
        "X_raw = np.load('X.npy')\n",
        "X_raw = X_raw/255.\n",
        "y = np.load('y.npy')\n",
        "X = []\n",
        "size = (28,28)\n",
        "for x in X_raw:\n",
        "    X.append(resize(x, size))\n",
        "X = np.array(X)"
      ]
    },
    {
      "cell_type": "code",
      "execution_count": 46,
      "metadata": {
        "colab": {
          "base_uri": "https://localhost:8080/",
          "height": 491
        },
        "id": "Us59s3Blpi_y",
        "outputId": "fb5c89e0-7652-4460-8cef-4a993467de32"
      },
      "outputs": [
        {
          "data": {
            "text/plain": [
              "[]"
            ]
          },
          "execution_count": 46,
          "metadata": {},
          "output_type": "execute_result"
        },
        {
          "data": {
            "image/png": "[encoded data removed]",
            "text/plain": [
              "<Figure size 640x480 with 1 Axes>"
            ]
          },
          "metadata": {},
          "output_type": "display_data"
        }
      ],
      "source": [
        "plt.figure()\n",
        "plt.title(\"Cantidad de muestras x dígito\")\n",
        "plt.ylabel(\"Cantidad\")\n",
        "plt.xlabel(\"Dígito\")\n",
        "plt.hist(y, bins=4)\n",
        "plt.plot()"
      ]
    },
    {
      "cell_type": "markdown",
      "metadata": {
        "id": "VnygyOx_kVgV"
      },
      "source": [
        "### Visualizando el `dataset`"
      ]
    },
    {
      "cell_type": "code",
      "execution_count": 47,
      "metadata": {
        "colab": {
          "base_uri": "https://localhost:8080/",
          "height": 744
        },
        "id": "XPuhkifOjMas",
        "outputId": "acb69e5f-7317-4b54-f651-c7a3f729472f"
      },
      "outputs": [
        {
          "data": {
            "image/png": "[encoded data removed]",
            "text/plain": [
              "<Figure size 2000x1000 with 25 Axes>"
            ]
          },
          "metadata": {},
          "output_type": "display_data"
        }
      ],
      "source": [
        "plt.figure(figsize=(20,10))\n",
        "for i in range(25):\n",
        "    plt.subplot(5,5, i+1)\n",
        "    idx = np.random.choice(X.shape[0], 1)[0]\n",
        "    plt.title('id:{} val:{}'.format(idx, y[idx] ))\n",
        "    plt.imshow(-X[idx], cmap='gray')\n",
        "    plt.axis('off')\n",
        "plt.show()"
      ]
    },
    {
      "cell_type": "markdown",
      "metadata": {
        "id": "ADHOOaWik7BQ"
      },
      "source": [
        "### Split de train-test"
      ]
    },
    {
      "cell_type": "code",
      "execution_count": 48,
      "metadata": {
        "colab": {
          "base_uri": "https://localhost:8080/"
        },
        "id": "VF2_YHPk24kz",
        "outputId": "da53cc7d-6b95-49e9-f01f-f716d9e9aead"
      },
      "outputs": [
        {
          "data": {
            "text/plain": [
              "(601, 28, 28)"
            ]
          },
          "execution_count": 48,
          "metadata": {},
          "output_type": "execute_result"
        }
      ],
      "source": [
        "X.shape"
      ]
    },
    {
      "cell_type": "code",
      "execution_count": 49,
      "metadata": {
        "colab": {
          "base_uri": "https://localhost:8080/"
        },
        "id": "cxhkaG56265Q",
        "outputId": "e32ea5fb-9233-4e06-d197-02b9c65a1a7d"
      },
      "outputs": [
        {
          "data": {
            "text/plain": [
              "(601,)"
            ]
          },
          "execution_count": 49,
          "metadata": {},
          "output_type": "execute_result"
        }
      ],
      "source": [
        "y.shape"
      ]
    },
    {
      "cell_type": "code",
      "execution_count": 50,
      "metadata": {
        "id": "npamkfojIxjF"
      },
      "outputs": [],
      "source": [
        "X_train, X_test, y_train, y_test = train_test_split(X, y, test_size=0.20, random_state=42, stratify=y)"
      ]
    },
    {
      "cell_type": "code",
      "execution_count": 51,
      "metadata": {
        "colab": {
          "base_uri": "https://localhost:8080/",
          "height": 491
        },
        "id": "naSOHz06XiAL",
        "outputId": "59fd0aa8-8dee-4fac-b563-f710ee89daf9"
      },
      "outputs": [
        {
          "data": {
            "text/plain": [
              "[]"
            ]
          },
          "execution_count": 51,
          "metadata": {},
          "output_type": "execute_result"
        },
        {
          "data": {
            "image/png": "[encoded data removed]",
            "text/plain": [
              "<Figure size 640x480 with 1 Axes>"
            ]
          },
          "metadata": {},
          "output_type": "display_data"
        }
      ],
      "source": [
        "plt.figure()\n",
        "plt.title(\"Cantidad de muestras x dígito (train)\")\n",
        "plt.ylabel(\"Cantidad\")\n",
        "plt.xlabel(\"Dígito\")\n",
        "plt.hist(y_train, bins=4)\n",
        "plt.plot()"
      ]
    },
    {
      "cell_type": "code",
      "execution_count": 52,
      "metadata": {
        "colab": {
          "base_uri": "https://localhost:8080/",
          "height": 491
        },
        "id": "ze4tCjwWXp6u",
        "outputId": "c1b01aca-7a6c-4b78-a4c1-12d6e53b8421"
      },
      "outputs": [
        {
          "data": {
            "text/plain": [
              "[]"
            ]
          },
          "execution_count": 52,
          "metadata": {},
          "output_type": "execute_result"
        },
        {
          "data": {
            "image/png": "[encoded data removed]",
            "text/plain": [
              "<Figure size 640x480 with 1 Axes>"
            ]
          },
          "metadata": {},
          "output_type": "display_data"
        }
      ],
      "source": [
        "plt.figure()\n",
        "plt.title(\"Cantidad de muestras x dígito (test)\")\n",
        "plt.ylabel(\"Cantidad\")\n",
        "plt.xlabel(\"Dígito\")\n",
        "plt.hist(y_test, bins=8)\n",
        "plt.plot()"
      ]
    },
    {
      "cell_type": "code",
      "execution_count": 53,
      "metadata": {
        "colab": {
          "base_uri": "https://localhost:8080/"
        },
        "id": "YICha4VOORNe",
        "outputId": "94eacbdf-9674-48f2-b685-0a7662cd3493"
      },
      "outputs": [
        {
          "name": "stdout",
          "output_type": "stream",
          "text": [
            "(480, 28, 28, 1) (121, 28, 28, 1)\n"
          ]
        }
      ],
      "source": [
        "# Ajustamos las dimensiones de las imágenes\n",
        "if X_train.ndim == 3:\n",
        "    X_train = X_train[...,None]\n",
        "    X_test = X_test[..., None]\n",
        "    print(X_train.shape, X_test.shape)"
      ]
    },
    {
      "cell_type": "markdown",
      "metadata": {
        "id": "QNFock6RrosL"
      },
      "source": [
        "## Definimos un modelo"
      ]
    },
    {
      "cell_type": "code",
      "execution_count": 55,
      "metadata": {
        "colab": {
          "base_uri": "https://localhost:8080/"
        },
        "id": "pfe9qQgProsM",
        "outputId": "027d72fd-d3ce-4c6e-b67f-f22d7abb4e86"
      },
      "outputs": [
        {
          "name": "stdout",
          "output_type": "stream",
          "text": [
            "Model: \"sequential_6\"\n",
            "_________________________________________________________________\n",
            "Layer (type)                 Output Shape              Param #   \n",
            "=================================================================\n",
            "conv2d_18 (Conv2D)           (None, 26, 26, 32)        320       \n",
            "_________________________________________________________________\n",
            "max_pooling2d_18 (MaxPooling (None, 13, 13, 32)        0         \n",
            "_________________________________________________________________\n",
            "conv2d_19 (Conv2D)           (None, 13, 13, 64)        18496     \n",
            "_________________________________________________________________\n",
            "max_pooling2d_19 (MaxPooling (None, 6, 6, 64)          0         \n",
            "_________________________________________________________________\n",
            "conv2d_20 (Conv2D)           (None, 6, 6, 128)         73856     \n",
            "_________________________________________________________________\n",
            "max_pooling2d_20 (MaxPooling (None, 3, 3, 128)         0         \n",
            "_________________________________________________________________\n",
            "flatten_6 (Flatten)          (None, 1152)              0         \n",
            "_________________________________________________________________\n",
            "dense_12 (Dense)             (None, 1024)              1180672   \n",
            "_________________________________________________________________\n",
            "dense_13 (Dense)             (None, 4)                 4100      \n",
            "=================================================================\n",
            "Total params: 1,277,444\n",
            "Trainable params: 1,277,444\n",
            "Non-trainable params: 0\n",
            "_________________________________________________________________\n"
          ]
        }
      ],
      "source": [
        "from tensorflow.python.keras.models import Sequential\n",
        "from tensorflow.python.keras.layers import Dense, Conv2D, MaxPool2D, Flatten\n",
        "from tensorflow.python.keras.optimizers import gradient_descent_v2\n",
        "\n",
        "\n",
        "bs = 16\n",
        "lr = 0.0005\n",
        "\n",
        "#Espacio de busqueda\n",
        "#Cantidad Filtros: 32, 64, 128, 256\n",
        "#Tamaño del Filtro: 3, 5, 7\n",
        "#Activaciones: 'relu', 'sigmoid', 'tanh'\n",
        "#Unidades Dense: 128, 256, 100..\n",
        "#lr: 0.001, 0.0001, 0.00001, etc\n",
        "#bs: 8, 16, 32...\n",
        "\n",
        "model = Sequential([Conv2D(32, 3, activation='tanh', input_shape=(*size,1)),\n",
        "                    MaxPool2D(),\n",
        "                    Conv2D(64, 3, activation='tanh', padding ='same'),\n",
        "                    MaxPool2D(),\n",
        "                    Conv2D(128, 3, activation='tanh', padding ='same'),\n",
        "                    MaxPool2D(),\n",
        "                    Flatten(),\n",
        "                    Dense(1024, activation='tanh'), #modificar!\n",
        "                    Dense(4, activation='softmax')]) #no modificar\n",
        "\n",
        "optimizer1=gradient_descent_v2.SGD(learning_rate=lr)\n",
        "model.compile(optimizer= optimizer1, loss='sparse_categorical_crossentropy' , metrics=['accuracy'])\n",
        "# La pérdida 'sparse_categorical_crossentropy' realiza automaticamente la conversión\n",
        "# del target a one-hot encoding.\n",
        "\n",
        "model.summary()"
      ]
    },
    {
      "cell_type": "code",
      "execution_count": 56,
      "metadata": {
        "colab": {
          "base_uri": "https://localhost:8080/"
        },
        "id": "_2tTR6m4Pycp",
        "outputId": "de805e9f-634e-4958-a49e-40bd18708ca1"
      },
      "outputs": [
        {
          "name": "stdout",
          "output_type": "stream",
          "text": [
            "<class 'numpy.int32'>\n"
          ]
        }
      ],
      "source": [
        "import numpy as np\n",
        "\n",
        "print(type(y_train[0]))"
      ]
    },
    {
      "cell_type": "code",
      "execution_count": 57,
      "metadata": {
        "colab": {
          "base_uri": "https://localhost:8080/"
        },
        "id": "WtvV2QMvP9iQ",
        "outputId": "9e1611bc-53da-4efe-f688-5037902857c2"
      },
      "outputs": [
        {
          "name": "stdout",
          "output_type": "stream",
          "text": [
            "[1 0 2 0 0 2 2 3 1 1 3 3 0 1 3 3 3 2 0 1 3 2 0 0 2 3 0 0 1 2 0 0 3 2 2 2 3\n",
            " 0 1 2 2 2 3 3 1 1 1 1 1 1 3 3 0 1 1 3 2 0 2 3 0 1 3 3 0 1 3 1 0 3 3 3 2 0\n",
            " 2 3 0 3 2 0 1 1 0 2 3 3 2 1 1 1 1 0 1 1 2 2 2 0 3 2 3 0 0 0 0 1 1 1 3 2 1\n",
            " 1 3 3 0 0 3 1 2 1 1 1 2 3 2 2 2 3 3 2 1 2 3 0 1 3 2 1 1 0 0 1 1 0 2 2 0 2\n",
            " 2 0 2 1 2 1 0 1 1 0 0 1 3 0 0 2 3 3 1 1 1 1 3 2 0 2 0 1 0 3 0 3 2 0 0 2 1\n",
            " 2 0 1 0 0 1 2 2 0 3 1 1 1 2 2 0 1 1 3 3 1 1 3 2 1 2 0 2 3 0 3 2 1 0 3 0 0\n",
            " 0 1 1 3 0 0 2 0 1 2 2 2 2 3 3 3 2 2 3 3 0 2 3 0 1 2 0 3 2 3 0 3 3 0 1 2 1\n",
            " 2 3 2 1 1 2 0 2 0 1 3 2 2 2 2 0 2 1 1 2 0 3 0 1 0 1 1 2 2 1 3 2 0 0 0 3 1\n",
            " 2 0 2 1 1 3 2 3 1 1 1 1 3 0 0 0 2 2 1 3 0 3 0 0 2 0 3 3 0 0 3 1 3 0 2 0 0\n",
            " 0 2 3 2 3 0 2 2 2 1 1 3 1 0 2 1 3 1 3 2 3 0 3 1 2 0 2 0 0 1 3 1 1 3 1 1 0\n",
            " 2 3 0 1 2 1 3 0 3 3 3 0 3 1 2 2 1 2 0 1 2 3 0 3 3 1 0 2 1 0 0 1 1 1 1 3 1\n",
            " 1 3 0 1 2 3 3 1 3 0 3 1 1 3 2 3 3 1 1 2 3 0 3 2 3 2 1 0 3 1 1 3 1 1 0 0 2\n",
            " 1 0 1 1 2 3 2 3 2 0 2 1 2 1 2 1 2 2 2 1 2 3 1 0 0 1 1 2 3 3 1 1 1 1 0 1]\n"
          ]
        }
      ],
      "source": [
        "print(y_train)"
      ]
    },
    {
      "cell_type": "markdown",
      "metadata": {
        "id": "ViSNqBdCrosX"
      },
      "source": [
        "## Entrenamiento"
      ]
    },
    {
      "cell_type": "code",
      "execution_count": 61,
      "metadata": {
        "colab": {
          "base_uri": "https://localhost:8080/"
        },
        "id": "CLPujN72rosZ",
        "outputId": "bd8f9520-1b29-42ca-beb8-bc8300c925ac",
        "scrolled": true
      },
      "outputs": [
        {
          "name": "stdout",
          "output_type": "stream",
          "text": [
            "Epoch 1/500\n",
            "30/30 [==============================] - 0s 10ms/step - loss: 0.8000 - accuracy: 0.8208 - val_loss: 0.8781 - val_accuracy: 0.7355\n",
            "Epoch 2/500\n",
            "30/30 [==============================] - 0s 9ms/step - loss: 0.7967 - accuracy: 0.8188 - val_loss: 0.8753 - val_accuracy: 0.7355\n",
            "Epoch 3/500\n",
            "30/30 [==============================] - 0s 9ms/step - loss: 0.7935 - accuracy: 0.8229 - val_loss: 0.8723 - val_accuracy: 0.7355\n",
            "Epoch 4/500\n",
            "30/30 [==============================] - 0s 10ms/step - loss: 0.7901 - accuracy: 0.8208 - val_loss: 0.8694 - val_accuracy: 0.7273\n",
            "Epoch 5/500\n",
            "30/30 [==============================] - 0s 9ms/step - loss: 0.7867 - accuracy: 0.8250 - val_loss: 0.8666 - val_accuracy: 0.7438\n",
            "Epoch 6/500\n",
            "30/30 [==============================] - 0s 9ms/step - loss: 0.7833 - accuracy: 0.8333 - val_loss: 0.8635 - val_accuracy: 0.7355\n",
            "Epoch 7/500\n",
            "30/30 [==============================] - 0s 10ms/step - loss: 0.7801 - accuracy: 0.8313 - val_loss: 0.8606 - val_accuracy: 0.7438\n",
            "Epoch 8/500\n",
            "30/30 [==============================] - 0s 10ms/step - loss: 0.7768 - accuracy: 0.8354 - val_loss: 0.8575 - val_accuracy: 0.7273\n",
            "Epoch 9/500\n",
            "30/30 [==============================] - 0s 10ms/step - loss: 0.7735 - accuracy: 0.8333 - val_loss: 0.8546 - val_accuracy: 0.7355\n",
            "Epoch 10/500\n",
            "30/30 [==============================] - 0s 10ms/step - loss: 0.7701 - accuracy: 0.8333 - val_loss: 0.8517 - val_accuracy: 0.7521\n",
            "Epoch 11/500\n",
            "30/30 [==============================] - 0s 10ms/step - loss: 0.7666 - accuracy: 0.8313 - val_loss: 0.8489 - val_accuracy: 0.7438\n",
            "Epoch 12/500\n",
            "30/30 [==============================] - 0s 9ms/step - loss: 0.7632 - accuracy: 0.8354 - val_loss: 0.8460 - val_accuracy: 0.7438\n",
            "Epoch 13/500\n",
            "30/30 [==============================] - 0s 9ms/step - loss: 0.7601 - accuracy: 0.8438 - val_loss: 0.8430 - val_accuracy: 0.7521\n",
            "Epoch 14/500\n",
            "30/30 [==============================] - 0s 10ms/step - loss: 0.7569 - accuracy: 0.8417 - val_loss: 0.8401 - val_accuracy: 0.7438\n",
            "Epoch 15/500\n",
            "30/30 [==============================] - 0s 9ms/step - loss: 0.7534 - accuracy: 0.8396 - val_loss: 0.8372 - val_accuracy: 0.7521\n",
            "Epoch 16/500\n",
            "30/30 [==============================] - 0s 9ms/step - loss: 0.7500 - accuracy: 0.8354 - val_loss: 0.8343 - val_accuracy: 0.7521\n",
            "Epoch 17/500\n",
            "30/30 [==============================] - 0s 10ms/step - loss: 0.7464 - accuracy: 0.8396 - val_loss: 0.8313 - val_accuracy: 0.7521\n",
            "Epoch 18/500\n",
            "30/30 [==============================] - 0s 9ms/step - loss: 0.7433 - accuracy: 0.8438 - val_loss: 0.8284 - val_accuracy: 0.7355\n",
            "Epoch 19/500\n",
            "30/30 [==============================] - 0s 10ms/step - loss: 0.7400 - accuracy: 0.8458 - val_loss: 0.8255 - val_accuracy: 0.7438\n",
            "Epoch 20/500\n",
            "30/30 [==============================] - 0s 10ms/step - loss: 0.7368 - accuracy: 0.8521 - val_loss: 0.8225 - val_accuracy: 0.7521\n",
            "Epoch 21/500\n",
            "30/30 [==============================] - 0s 10ms/step - loss: 0.7335 - accuracy: 0.8500 - val_loss: 0.8197 - val_accuracy: 0.7438\n",
            "Epoch 22/500\n",
            "30/30 [==============================] - 0s 10ms/step - loss: 0.7303 - accuracy: 0.8583 - val_loss: 0.8169 - val_accuracy: 0.7438\n",
            "Epoch 23/500\n",
            "30/30 [==============================] - 0s 9ms/step - loss: 0.7268 - accuracy: 0.8521 - val_loss: 0.8137 - val_accuracy: 0.7438\n",
            "Epoch 24/500\n",
            "30/30 [==============================] - 0s 10ms/step - loss: 0.7234 - accuracy: 0.8500 - val_loss: 0.8108 - val_accuracy: 0.7521\n",
            "Epoch 25/500\n",
            "30/30 [==============================] - 0s 9ms/step - loss: 0.7202 - accuracy: 0.8542 - val_loss: 0.8080 - val_accuracy: 0.7521\n",
            "Epoch 26/500\n",
            "30/30 [==============================] - 0s 9ms/step - loss: 0.7169 - accuracy: 0.8562 - val_loss: 0.8048 - val_accuracy: 0.7603\n",
            "Epoch 27/500\n",
            "30/30 [==============================] - 0s 9ms/step - loss: 0.7138 - accuracy: 0.8542 - val_loss: 0.8019 - val_accuracy: 0.7686\n",
            "Epoch 28/500\n",
            "30/30 [==============================] - 0s 9ms/step - loss: 0.7110 - accuracy: 0.8521 - val_loss: 0.7991 - val_accuracy: 0.7686\n",
            "Epoch 29/500\n",
            "30/30 [==============================] - 0s 9ms/step - loss: 0.7073 - accuracy: 0.8521 - val_loss: 0.7961 - val_accuracy: 0.7521\n",
            "Epoch 30/500\n",
            "30/30 [==============================] - 0s 10ms/step - loss: 0.7040 - accuracy: 0.8562 - val_loss: 0.7933 - val_accuracy: 0.7521\n",
            "Epoch 31/500\n",
            "30/30 [==============================] - 0s 10ms/step - loss: 0.7008 - accuracy: 0.8667 - val_loss: 0.7904 - val_accuracy: 0.7603\n",
            "Epoch 32/500\n",
            "30/30 [==============================] - 0s 10ms/step - loss: 0.6978 - accuracy: 0.8667 - val_loss: 0.7875 - val_accuracy: 0.7521\n",
            "Epoch 33/500\n",
            "30/30 [==============================] - 0s 10ms/step - loss: 0.6942 - accuracy: 0.8667 - val_loss: 0.7845 - val_accuracy: 0.7603\n",
            "Epoch 34/500\n",
            "30/30 [==============================] - 0s 10ms/step - loss: 0.6912 - accuracy: 0.8687 - val_loss: 0.7816 - val_accuracy: 0.7603\n",
            "Epoch 35/500\n",
            "30/30 [==============================] - 0s 9ms/step - loss: 0.6883 - accuracy: 0.8729 - val_loss: 0.7789 - val_accuracy: 0.7603\n",
            "Epoch 36/500\n",
            "30/30 [==============================] - 0s 9ms/step - loss: 0.6847 - accuracy: 0.8667 - val_loss: 0.7759 - val_accuracy: 0.7603\n",
            "Epoch 37/500\n",
            "30/30 [==============================] - 0s 9ms/step - loss: 0.6816 - accuracy: 0.8729 - val_loss: 0.7731 - val_accuracy: 0.7603\n",
            "Epoch 38/500\n",
            "30/30 [==============================] - 0s 9ms/step - loss: 0.6786 - accuracy: 0.8687 - val_loss: 0.7703 - val_accuracy: 0.7603\n",
            "Epoch 39/500\n",
            "30/30 [==============================] - 0s 9ms/step - loss: 0.6754 - accuracy: 0.8750 - val_loss: 0.7675 - val_accuracy: 0.7603\n",
            "Epoch 40/500\n",
            "30/30 [==============================] - 0s 9ms/step - loss: 0.6723 - accuracy: 0.8729 - val_loss: 0.7648 - val_accuracy: 0.7603\n",
            "Epoch 41/500\n",
            "30/30 [==============================] - 0s 9ms/step - loss: 0.6690 - accuracy: 0.8729 - val_loss: 0.7620 - val_accuracy: 0.7603\n",
            "Epoch 42/500\n",
            "30/30 [==============================] - 0s 9ms/step - loss: 0.6661 - accuracy: 0.8792 - val_loss: 0.7594 - val_accuracy: 0.7521\n",
            "Epoch 43/500\n",
            "30/30 [==============================] - 0s 10ms/step - loss: 0.6632 - accuracy: 0.8771 - val_loss: 0.7565 - val_accuracy: 0.7521\n",
            "Epoch 44/500\n",
            "30/30 [==============================] - 0s 10ms/step - loss: 0.6597 - accuracy: 0.8687 - val_loss: 0.7535 - val_accuracy: 0.7686\n",
            "Epoch 45/500\n",
            "30/30 [==============================] - 0s 9ms/step - loss: 0.6567 - accuracy: 0.8771 - val_loss: 0.7508 - val_accuracy: 0.7686\n",
            "Epoch 46/500\n",
            "30/30 [==============================] - 0s 9ms/step - loss: 0.6533 - accuracy: 0.8771 - val_loss: 0.7479 - val_accuracy: 0.7603\n",
            "Epoch 47/500\n",
            "30/30 [==============================] - 0s 10ms/step - loss: 0.6507 - accuracy: 0.8750 - val_loss: 0.7453 - val_accuracy: 0.7686\n",
            "Epoch 48/500\n",
            "30/30 [==============================] - 0s 9ms/step - loss: 0.6475 - accuracy: 0.8750 - val_loss: 0.7423 - val_accuracy: 0.7603\n",
            "Epoch 49/500\n",
            "30/30 [==============================] - 0s 9ms/step - loss: 0.6443 - accuracy: 0.8792 - val_loss: 0.7394 - val_accuracy: 0.7603\n",
            "Epoch 50/500\n",
            "30/30 [==============================] - 0s 9ms/step - loss: 0.6414 - accuracy: 0.8771 - val_loss: 0.7369 - val_accuracy: 0.7769\n",
            "Epoch 51/500\n",
            "30/30 [==============================] - 0s 10ms/step - loss: 0.6385 - accuracy: 0.8771 - val_loss: 0.7341 - val_accuracy: 0.7769\n",
            "Epoch 52/500\n",
            "30/30 [==============================] - 0s 9ms/step - loss: 0.6354 - accuracy: 0.8833 - val_loss: 0.7316 - val_accuracy: 0.7769\n",
            "Epoch 53/500\n",
            "30/30 [==============================] - 0s 9ms/step - loss: 0.6326 - accuracy: 0.8771 - val_loss: 0.7286 - val_accuracy: 0.7769\n",
            "Epoch 54/500\n",
            "30/30 [==============================] - 0s 9ms/step - loss: 0.6294 - accuracy: 0.8771 - val_loss: 0.7258 - val_accuracy: 0.7769\n",
            "Epoch 55/500\n",
            "30/30 [==============================] - 0s 10ms/step - loss: 0.6268 - accuracy: 0.8833 - val_loss: 0.7231 - val_accuracy: 0.7769\n",
            "Epoch 56/500\n",
            "30/30 [==============================] - 0s 10ms/step - loss: 0.6235 - accuracy: 0.8833 - val_loss: 0.7205 - val_accuracy: 0.7769\n",
            "Epoch 57/500\n",
            "30/30 [==============================] - 0s 9ms/step - loss: 0.6205 - accuracy: 0.8792 - val_loss: 0.7176 - val_accuracy: 0.7769\n",
            "Epoch 58/500\n",
            "30/30 [==============================] - 0s 9ms/step - loss: 0.6176 - accuracy: 0.8854 - val_loss: 0.7150 - val_accuracy: 0.7769\n",
            "Epoch 59/500\n",
            "30/30 [==============================] - 0s 9ms/step - loss: 0.6147 - accuracy: 0.8854 - val_loss: 0.7124 - val_accuracy: 0.7769\n",
            "Epoch 60/500\n",
            "30/30 [==============================] - 0s 9ms/step - loss: 0.6119 - accuracy: 0.8792 - val_loss: 0.7095 - val_accuracy: 0.7769\n",
            "Epoch 61/500\n",
            "30/30 [==============================] - 0s 10ms/step - loss: 0.6090 - accuracy: 0.8875 - val_loss: 0.7068 - val_accuracy: 0.7769\n",
            "Epoch 62/500\n",
            "30/30 [==============================] - 0s 9ms/step - loss: 0.6061 - accuracy: 0.8854 - val_loss: 0.7043 - val_accuracy: 0.7769\n",
            "Epoch 63/500\n",
            "30/30 [==============================] - 0s 10ms/step - loss: 0.6031 - accuracy: 0.8875 - val_loss: 0.7017 - val_accuracy: 0.7769\n",
            "Epoch 64/500\n",
            "30/30 [==============================] - 0s 10ms/step - loss: 0.6006 - accuracy: 0.8875 - val_loss: 0.6990 - val_accuracy: 0.7769\n",
            "Epoch 65/500\n",
            "30/30 [==============================] - 0s 10ms/step - loss: 0.5975 - accuracy: 0.8875 - val_loss: 0.6964 - val_accuracy: 0.7769\n",
            "Epoch 66/500\n",
            "30/30 [==============================] - 0s 10ms/step - loss: 0.5946 - accuracy: 0.8896 - val_loss: 0.6936 - val_accuracy: 0.7769\n",
            "Epoch 67/500\n",
            "30/30 [==============================] - 0s 9ms/step - loss: 0.5920 - accuracy: 0.8875 - val_loss: 0.6911 - val_accuracy: 0.7851\n",
            "Epoch 68/500\n",
            "30/30 [==============================] - 0s 10ms/step - loss: 0.5892 - accuracy: 0.8917 - val_loss: 0.6887 - val_accuracy: 0.7934\n",
            "Epoch 69/500\n",
            "30/30 [==============================] - 0s 10ms/step - loss: 0.5860 - accuracy: 0.8896 - val_loss: 0.6862 - val_accuracy: 0.7934\n",
            "Epoch 70/500\n",
            "30/30 [==============================] - 0s 10ms/step - loss: 0.5837 - accuracy: 0.8896 - val_loss: 0.6834 - val_accuracy: 0.7934\n",
            "Epoch 71/500\n",
            "30/30 [==============================] - 0s 9ms/step - loss: 0.5808 - accuracy: 0.8938 - val_loss: 0.6807 - val_accuracy: 0.7851\n",
            "Epoch 72/500\n",
            "30/30 [==============================] - 0s 10ms/step - loss: 0.5779 - accuracy: 0.8917 - val_loss: 0.6784 - val_accuracy: 0.7934\n",
            "Epoch 73/500\n",
            "30/30 [==============================] - 0s 10ms/step - loss: 0.5751 - accuracy: 0.8958 - val_loss: 0.6756 - val_accuracy: 0.7934\n",
            "Epoch 74/500\n",
            "30/30 [==============================] - 0s 9ms/step - loss: 0.5722 - accuracy: 0.8896 - val_loss: 0.6735 - val_accuracy: 0.7934\n",
            "Epoch 75/500\n",
            "30/30 [==============================] - 0s 9ms/step - loss: 0.5698 - accuracy: 0.8979 - val_loss: 0.6709 - val_accuracy: 0.7934\n",
            "Epoch 76/500\n",
            "30/30 [==============================] - 0s 9ms/step - loss: 0.5670 - accuracy: 0.8917 - val_loss: 0.6684 - val_accuracy: 0.8017\n",
            "Epoch 77/500\n",
            "30/30 [==============================] - 0s 9ms/step - loss: 0.5643 - accuracy: 0.8958 - val_loss: 0.6657 - val_accuracy: 0.8017\n",
            "Epoch 78/500\n",
            "30/30 [==============================] - 0s 9ms/step - loss: 0.5617 - accuracy: 0.8979 - val_loss: 0.6631 - val_accuracy: 0.8017\n",
            "Epoch 79/500\n",
            "30/30 [==============================] - 0s 10ms/step - loss: 0.5588 - accuracy: 0.8896 - val_loss: 0.6609 - val_accuracy: 0.8017\n",
            "Epoch 80/500\n",
            "30/30 [==============================] - 0s 10ms/step - loss: 0.5565 - accuracy: 0.8958 - val_loss: 0.6582 - val_accuracy: 0.8017\n",
            "Epoch 81/500\n",
            "30/30 [==============================] - 0s 10ms/step - loss: 0.5537 - accuracy: 0.8979 - val_loss: 0.6557 - val_accuracy: 0.8017\n",
            "Epoch 82/500\n",
            "30/30 [==============================] - 0s 9ms/step - loss: 0.5512 - accuracy: 0.9021 - val_loss: 0.6529 - val_accuracy: 0.8017\n",
            "Epoch 83/500\n",
            "30/30 [==============================] - 0s 9ms/step - loss: 0.5484 - accuracy: 0.8958 - val_loss: 0.6508 - val_accuracy: 0.8017\n",
            "Epoch 84/500\n",
            "30/30 [==============================] - 0s 9ms/step - loss: 0.5460 - accuracy: 0.9021 - val_loss: 0.6487 - val_accuracy: 0.8099\n",
            "Epoch 85/500\n",
            "30/30 [==============================] - 0s 10ms/step - loss: 0.5434 - accuracy: 0.9021 - val_loss: 0.6464 - val_accuracy: 0.8099\n",
            "Epoch 86/500\n",
            "30/30 [==============================] - 0s 10ms/step - loss: 0.5410 - accuracy: 0.9042 - val_loss: 0.6436 - val_accuracy: 0.8099\n",
            "Epoch 87/500\n",
            "30/30 [==============================] - 0s 10ms/step - loss: 0.5386 - accuracy: 0.9021 - val_loss: 0.6411 - val_accuracy: 0.8017\n",
            "Epoch 88/500\n",
            "30/30 [==============================] - 0s 9ms/step - loss: 0.5355 - accuracy: 0.9000 - val_loss: 0.6384 - val_accuracy: 0.8017\n",
            "Epoch 89/500\n",
            "30/30 [==============================] - 0s 9ms/step - loss: 0.5332 - accuracy: 0.9042 - val_loss: 0.6359 - val_accuracy: 0.8017\n",
            "Epoch 90/500\n",
            "30/30 [==============================] - 0s 9ms/step - loss: 0.5307 - accuracy: 0.9042 - val_loss: 0.6339 - val_accuracy: 0.8182\n",
            "Epoch 91/500\n",
            "30/30 [==============================] - 0s 9ms/step - loss: 0.5281 - accuracy: 0.9021 - val_loss: 0.6314 - val_accuracy: 0.8017\n",
            "Epoch 92/500\n",
            "30/30 [==============================] - 0s 10ms/step - loss: 0.5256 - accuracy: 0.9083 - val_loss: 0.6291 - val_accuracy: 0.8264\n",
            "Epoch 93/500\n",
            "30/30 [==============================] - 0s 9ms/step - loss: 0.5231 - accuracy: 0.9021 - val_loss: 0.6268 - val_accuracy: 0.8264\n",
            "Epoch 94/500\n",
            "30/30 [==============================] - 0s 9ms/step - loss: 0.5206 - accuracy: 0.9042 - val_loss: 0.6244 - val_accuracy: 0.8264\n",
            "Epoch 95/500\n",
            "30/30 [==============================] - 0s 9ms/step - loss: 0.5185 - accuracy: 0.9062 - val_loss: 0.6221 - val_accuracy: 0.8264\n",
            "Epoch 96/500\n",
            "30/30 [==============================] - 0s 9ms/step - loss: 0.5156 - accuracy: 0.9062 - val_loss: 0.6197 - val_accuracy: 0.8264\n",
            "Epoch 97/500\n",
            "30/30 [==============================] - 0s 9ms/step - loss: 0.5131 - accuracy: 0.9104 - val_loss: 0.6177 - val_accuracy: 0.8264\n",
            "Epoch 98/500\n",
            "30/30 [==============================] - 0s 9ms/step - loss: 0.5108 - accuracy: 0.9083 - val_loss: 0.6155 - val_accuracy: 0.8264\n",
            "Epoch 99/500\n",
            "30/30 [==============================] - 0s 9ms/step - loss: 0.5083 - accuracy: 0.9042 - val_loss: 0.6129 - val_accuracy: 0.8264\n",
            "Epoch 100/500\n",
            "30/30 [==============================] - 0s 9ms/step - loss: 0.5058 - accuracy: 0.9062 - val_loss: 0.6104 - val_accuracy: 0.8347\n",
            "Epoch 101/500\n",
            "30/30 [==============================] - 0s 10ms/step - loss: 0.5039 - accuracy: 0.9104 - val_loss: 0.6081 - val_accuracy: 0.8347\n",
            "Epoch 102/500\n",
            "30/30 [==============================] - 0s 9ms/step - loss: 0.5014 - accuracy: 0.9104 - val_loss: 0.6060 - val_accuracy: 0.8264\n",
            "Epoch 103/500\n",
            "30/30 [==============================] - 0s 10ms/step - loss: 0.4991 - accuracy: 0.9062 - val_loss: 0.6042 - val_accuracy: 0.8264\n",
            "Epoch 104/500\n",
            "30/30 [==============================] - 0s 10ms/step - loss: 0.4965 - accuracy: 0.9125 - val_loss: 0.6017 - val_accuracy: 0.8264\n",
            "Epoch 105/500\n",
            "30/30 [==============================] - 0s 9ms/step - loss: 0.4942 - accuracy: 0.9125 - val_loss: 0.5990 - val_accuracy: 0.8347\n",
            "Epoch 106/500\n",
            "30/30 [==============================] - 0s 9ms/step - loss: 0.4920 - accuracy: 0.9125 - val_loss: 0.5970 - val_accuracy: 0.8347\n",
            "Epoch 107/500\n",
            "30/30 [==============================] - 0s 9ms/step - loss: 0.4896 - accuracy: 0.9083 - val_loss: 0.5947 - val_accuracy: 0.8347\n",
            "Epoch 108/500\n",
            "30/30 [==============================] - 0s 9ms/step - loss: 0.4870 - accuracy: 0.9104 - val_loss: 0.5931 - val_accuracy: 0.8264\n",
            "Epoch 109/500\n",
            "30/30 [==============================] - 0s 9ms/step - loss: 0.4851 - accuracy: 0.9125 - val_loss: 0.5906 - val_accuracy: 0.8264\n",
            "Epoch 110/500\n",
            "30/30 [==============================] - 0s 9ms/step - loss: 0.4826 - accuracy: 0.9104 - val_loss: 0.5880 - val_accuracy: 0.8347\n",
            "Epoch 111/500\n",
            "30/30 [==============================] - 0s 9ms/step - loss: 0.4805 - accuracy: 0.9125 - val_loss: 0.5860 - val_accuracy: 0.8347\n",
            "Epoch 112/500\n",
            "30/30 [==============================] - 0s 9ms/step - loss: 0.4783 - accuracy: 0.9146 - val_loss: 0.5837 - val_accuracy: 0.8347\n",
            "Epoch 113/500\n",
            "30/30 [==============================] - 0s 9ms/step - loss: 0.4760 - accuracy: 0.9146 - val_loss: 0.5816 - val_accuracy: 0.8347\n",
            "Epoch 114/500\n",
            "30/30 [==============================] - 0s 10ms/step - loss: 0.4738 - accuracy: 0.9125 - val_loss: 0.5796 - val_accuracy: 0.8347\n",
            "Epoch 115/500\n",
            "30/30 [==============================] - 0s 9ms/step - loss: 0.4714 - accuracy: 0.9167 - val_loss: 0.5777 - val_accuracy: 0.8347\n",
            "Epoch 116/500\n",
            "30/30 [==============================] - 0s 9ms/step - loss: 0.4693 - accuracy: 0.9167 - val_loss: 0.5754 - val_accuracy: 0.8347\n",
            "Epoch 117/500\n",
            "30/30 [==============================] - 0s 9ms/step - loss: 0.4672 - accuracy: 0.9146 - val_loss: 0.5733 - val_accuracy: 0.8347\n",
            "Epoch 118/500\n",
            "30/30 [==============================] - 0s 10ms/step - loss: 0.4649 - accuracy: 0.9146 - val_loss: 0.5713 - val_accuracy: 0.8430\n",
            "Epoch 119/500\n",
            "30/30 [==============================] - 0s 9ms/step - loss: 0.4628 - accuracy: 0.9187 - val_loss: 0.5697 - val_accuracy: 0.8512\n",
            "Epoch 120/500\n",
            "30/30 [==============================] - 0s 9ms/step - loss: 0.4607 - accuracy: 0.9167 - val_loss: 0.5672 - val_accuracy: 0.8512\n",
            "Epoch 121/500\n",
            "30/30 [==============================] - 0s 9ms/step - loss: 0.4584 - accuracy: 0.9187 - val_loss: 0.5648 - val_accuracy: 0.8512\n",
            "Epoch 122/500\n",
            "30/30 [==============================] - 0s 10ms/step - loss: 0.4564 - accuracy: 0.9146 - val_loss: 0.5628 - val_accuracy: 0.8512\n",
            "Epoch 123/500\n",
            "30/30 [==============================] - 0s 9ms/step - loss: 0.4541 - accuracy: 0.9187 - val_loss: 0.5609 - val_accuracy: 0.8512\n",
            "Epoch 124/500\n",
            "30/30 [==============================] - 0s 9ms/step - loss: 0.4521 - accuracy: 0.9167 - val_loss: 0.5590 - val_accuracy: 0.8512\n",
            "Epoch 125/500\n",
            "30/30 [==============================] - 0s 10ms/step - loss: 0.4500 - accuracy: 0.9229 - val_loss: 0.5566 - val_accuracy: 0.8512\n",
            "Epoch 126/500\n",
            "30/30 [==============================] - 0s 9ms/step - loss: 0.4479 - accuracy: 0.9167 - val_loss: 0.5546 - val_accuracy: 0.8512\n",
            "Epoch 127/500\n",
            "30/30 [==============================] - 0s 9ms/step - loss: 0.4458 - accuracy: 0.9208 - val_loss: 0.5527 - val_accuracy: 0.8595\n",
            "Epoch 128/500\n",
            "30/30 [==============================] - 0s 10ms/step - loss: 0.4437 - accuracy: 0.9208 - val_loss: 0.5505 - val_accuracy: 0.8595\n",
            "Epoch 129/500\n",
            "30/30 [==============================] - 0s 9ms/step - loss: 0.4416 - accuracy: 0.9229 - val_loss: 0.5482 - val_accuracy: 0.8595\n",
            "Epoch 130/500\n",
            "30/30 [==============================] - 0s 9ms/step - loss: 0.4397 - accuracy: 0.9146 - val_loss: 0.5462 - val_accuracy: 0.8595\n",
            "Epoch 131/500\n",
            "30/30 [==============================] - 0s 10ms/step - loss: 0.4374 - accuracy: 0.9229 - val_loss: 0.5441 - val_accuracy: 0.8595\n",
            "Epoch 132/500\n",
            "30/30 [==============================] - 0s 9ms/step - loss: 0.4355 - accuracy: 0.9146 - val_loss: 0.5428 - val_accuracy: 0.8595\n",
            "Epoch 133/500\n",
            "30/30 [==============================] - 0s 9ms/step - loss: 0.4333 - accuracy: 0.9146 - val_loss: 0.5409 - val_accuracy: 0.8595\n",
            "Epoch 134/500\n",
            "30/30 [==============================] - 0s 9ms/step - loss: 0.4316 - accuracy: 0.9229 - val_loss: 0.5385 - val_accuracy: 0.8595\n",
            "Epoch 135/500\n",
            "30/30 [==============================] - 0s 9ms/step - loss: 0.4295 - accuracy: 0.9146 - val_loss: 0.5368 - val_accuracy: 0.8595\n",
            "Epoch 136/500\n",
            "30/30 [==============================] - 0s 10ms/step - loss: 0.4277 - accuracy: 0.9229 - val_loss: 0.5344 - val_accuracy: 0.8595\n",
            "Epoch 137/500\n",
            "30/30 [==============================] - 0s 9ms/step - loss: 0.4253 - accuracy: 0.9208 - val_loss: 0.5328 - val_accuracy: 0.8678\n",
            "Epoch 138/500\n",
            "30/30 [==============================] - 0s 9ms/step - loss: 0.4234 - accuracy: 0.9250 - val_loss: 0.5307 - val_accuracy: 0.8678\n",
            "Epoch 139/500\n",
            "30/30 [==============================] - 0s 10ms/step - loss: 0.4215 - accuracy: 0.9208 - val_loss: 0.5285 - val_accuracy: 0.8678\n",
            "Epoch 140/500\n",
            "30/30 [==============================] - 0s 10ms/step - loss: 0.4194 - accuracy: 0.9250 - val_loss: 0.5266 - val_accuracy: 0.8678\n",
            "Epoch 141/500\n",
            "30/30 [==============================] - 0s 10ms/step - loss: 0.4177 - accuracy: 0.9292 - val_loss: 0.5251 - val_accuracy: 0.8678\n",
            "Epoch 142/500\n",
            "30/30 [==============================] - 0s 10ms/step - loss: 0.4158 - accuracy: 0.9333 - val_loss: 0.5228 - val_accuracy: 0.8595\n",
            "Epoch 143/500\n",
            "30/30 [==============================] - 0s 10ms/step - loss: 0.4135 - accuracy: 0.9271 - val_loss: 0.5210 - val_accuracy: 0.8678\n",
            "Epoch 144/500\n",
            "30/30 [==============================] - 0s 10ms/step - loss: 0.4118 - accuracy: 0.9292 - val_loss: 0.5189 - val_accuracy: 0.8678\n",
            "Epoch 145/500\n",
            "30/30 [==============================] - 0s 10ms/step - loss: 0.4099 - accuracy: 0.9312 - val_loss: 0.5170 - val_accuracy: 0.8760\n",
            "Epoch 146/500\n",
            "30/30 [==============================] - 0s 9ms/step - loss: 0.4079 - accuracy: 0.9292 - val_loss: 0.5150 - val_accuracy: 0.8760\n",
            "Epoch 147/500\n",
            "30/30 [==============================] - 0s 9ms/step - loss: 0.4062 - accuracy: 0.9250 - val_loss: 0.5134 - val_accuracy: 0.8678\n",
            "Epoch 148/500\n",
            "30/30 [==============================] - 0s 10ms/step - loss: 0.4047 - accuracy: 0.9271 - val_loss: 0.5116 - val_accuracy: 0.8678\n",
            "Epoch 149/500\n",
            "30/30 [==============================] - 0s 10ms/step - loss: 0.4025 - accuracy: 0.9354 - val_loss: 0.5095 - val_accuracy: 0.8760\n",
            "Epoch 150/500\n",
            "30/30 [==============================] - 0s 10ms/step - loss: 0.4004 - accuracy: 0.9250 - val_loss: 0.5079 - val_accuracy: 0.8760\n",
            "Epoch 151/500\n",
            "30/30 [==============================] - 0s 10ms/step - loss: 0.3985 - accuracy: 0.9292 - val_loss: 0.5065 - val_accuracy: 0.8760\n",
            "Epoch 152/500\n",
            "30/30 [==============================] - 0s 10ms/step - loss: 0.3968 - accuracy: 0.9354 - val_loss: 0.5043 - val_accuracy: 0.8760\n",
            "Epoch 153/500\n",
            "30/30 [==============================] - 0s 10ms/step - loss: 0.3948 - accuracy: 0.9312 - val_loss: 0.5024 - val_accuracy: 0.8760\n",
            "Epoch 154/500\n",
            "30/30 [==============================] - 0s 9ms/step - loss: 0.3932 - accuracy: 0.9417 - val_loss: 0.5006 - val_accuracy: 0.8760\n",
            "Epoch 155/500\n",
            "30/30 [==============================] - 0s 10ms/step - loss: 0.3911 - accuracy: 0.9375 - val_loss: 0.4986 - val_accuracy: 0.8760\n",
            "Epoch 156/500\n",
            "30/30 [==============================] - 0s 10ms/step - loss: 0.3896 - accuracy: 0.9396 - val_loss: 0.4968 - val_accuracy: 0.8760\n",
            "Epoch 157/500\n",
            "30/30 [==============================] - 0s 10ms/step - loss: 0.3879 - accuracy: 0.9333 - val_loss: 0.4950 - val_accuracy: 0.8760\n",
            "Epoch 158/500\n",
            "30/30 [==============================] - 0s 10ms/step - loss: 0.3858 - accuracy: 0.9417 - val_loss: 0.4934 - val_accuracy: 0.8760\n",
            "Epoch 159/500\n",
            "30/30 [==============================] - 0s 10ms/step - loss: 0.3841 - accuracy: 0.9417 - val_loss: 0.4916 - val_accuracy: 0.8760\n",
            "Epoch 160/500\n",
            "30/30 [==============================] - 0s 10ms/step - loss: 0.3826 - accuracy: 0.9375 - val_loss: 0.4899 - val_accuracy: 0.8760\n",
            "Epoch 161/500\n",
            "30/30 [==============================] - 0s 10ms/step - loss: 0.3806 - accuracy: 0.9375 - val_loss: 0.4887 - val_accuracy: 0.8760\n",
            "Epoch 162/500\n",
            "30/30 [==============================] - 0s 11ms/step - loss: 0.3786 - accuracy: 0.9396 - val_loss: 0.4868 - val_accuracy: 0.8760\n",
            "Epoch 163/500\n",
            "30/30 [==============================] - 0s 10ms/step - loss: 0.3776 - accuracy: 0.9438 - val_loss: 0.4851 - val_accuracy: 0.8760\n",
            "Epoch 164/500\n",
            "30/30 [==============================] - 0s 10ms/step - loss: 0.3752 - accuracy: 0.9479 - val_loss: 0.4833 - val_accuracy: 0.8760\n",
            "Epoch 165/500\n",
            "30/30 [==============================] - 0s 10ms/step - loss: 0.3737 - accuracy: 0.9438 - val_loss: 0.4814 - val_accuracy: 0.8843\n",
            "Epoch 166/500\n",
            "30/30 [==============================] - 0s 10ms/step - loss: 0.3721 - accuracy: 0.9500 - val_loss: 0.4798 - val_accuracy: 0.8760\n",
            "Epoch 167/500\n",
            "30/30 [==============================] - 0s 10ms/step - loss: 0.3701 - accuracy: 0.9479 - val_loss: 0.4783 - val_accuracy: 0.8760\n",
            "Epoch 168/500\n",
            "30/30 [==============================] - 0s 10ms/step - loss: 0.3686 - accuracy: 0.9438 - val_loss: 0.4764 - val_accuracy: 0.8843\n",
            "Epoch 169/500\n",
            "30/30 [==============================] - 0s 9ms/step - loss: 0.3668 - accuracy: 0.9479 - val_loss: 0.4749 - val_accuracy: 0.8843\n",
            "Epoch 170/500\n",
            "30/30 [==============================] - 0s 9ms/step - loss: 0.3654 - accuracy: 0.9438 - val_loss: 0.4732 - val_accuracy: 0.8843\n",
            "Epoch 171/500\n",
            "30/30 [==============================] - 0s 9ms/step - loss: 0.3638 - accuracy: 0.9458 - val_loss: 0.4722 - val_accuracy: 0.8760\n",
            "Epoch 172/500\n",
            "30/30 [==============================] - 0s 10ms/step - loss: 0.3621 - accuracy: 0.9458 - val_loss: 0.4701 - val_accuracy: 0.8843\n",
            "Epoch 173/500\n",
            "30/30 [==============================] - 0s 9ms/step - loss: 0.3602 - accuracy: 0.9521 - val_loss: 0.4681 - val_accuracy: 0.8843\n",
            "Epoch 174/500\n",
            "30/30 [==============================] - 0s 9ms/step - loss: 0.3584 - accuracy: 0.9500 - val_loss: 0.4665 - val_accuracy: 0.8843\n",
            "Epoch 175/500\n",
            "30/30 [==============================] - 0s 9ms/step - loss: 0.3568 - accuracy: 0.9500 - val_loss: 0.4647 - val_accuracy: 0.8843\n",
            "Epoch 176/500\n",
            "30/30 [==============================] - 0s 10ms/step - loss: 0.3552 - accuracy: 0.9563 - val_loss: 0.4631 - val_accuracy: 0.8843\n",
            "Epoch 177/500\n",
            "30/30 [==============================] - 0s 9ms/step - loss: 0.3537 - accuracy: 0.9500 - val_loss: 0.4616 - val_accuracy: 0.8843\n",
            "Epoch 178/500\n",
            "30/30 [==============================] - 0s 9ms/step - loss: 0.3520 - accuracy: 0.9542 - val_loss: 0.4602 - val_accuracy: 0.8843\n",
            "Epoch 179/500\n",
            "30/30 [==============================] - 0s 10ms/step - loss: 0.3505 - accuracy: 0.9479 - val_loss: 0.4589 - val_accuracy: 0.8843\n",
            "Epoch 180/500\n",
            "30/30 [==============================] - 0s 9ms/step - loss: 0.3489 - accuracy: 0.9563 - val_loss: 0.4570 - val_accuracy: 0.8843\n",
            "Epoch 181/500\n",
            "30/30 [==============================] - 0s 9ms/step - loss: 0.3472 - accuracy: 0.9563 - val_loss: 0.4554 - val_accuracy: 0.8843\n",
            "Epoch 182/500\n",
            "30/30 [==============================] - 0s 10ms/step - loss: 0.3454 - accuracy: 0.9583 - val_loss: 0.4539 - val_accuracy: 0.8843\n",
            "Epoch 183/500\n",
            "30/30 [==============================] - 0s 10ms/step - loss: 0.3440 - accuracy: 0.9563 - val_loss: 0.4526 - val_accuracy: 0.8843\n",
            "Epoch 184/500\n",
            "30/30 [==============================] - 0s 9ms/step - loss: 0.3426 - accuracy: 0.9542 - val_loss: 0.4508 - val_accuracy: 0.8843\n",
            "Epoch 185/500\n",
            "30/30 [==============================] - 0s 9ms/step - loss: 0.3411 - accuracy: 0.9563 - val_loss: 0.4490 - val_accuracy: 0.8843\n",
            "Epoch 186/500\n",
            "30/30 [==============================] - 0s 9ms/step - loss: 0.3395 - accuracy: 0.9604 - val_loss: 0.4478 - val_accuracy: 0.8843\n",
            "Epoch 187/500\n",
            "30/30 [==============================] - 0s 10ms/step - loss: 0.3381 - accuracy: 0.9583 - val_loss: 0.4461 - val_accuracy: 0.8843\n",
            "Epoch 188/500\n",
            "30/30 [==============================] - 0s 9ms/step - loss: 0.3365 - accuracy: 0.9583 - val_loss: 0.4444 - val_accuracy: 0.8843\n",
            "Epoch 189/500\n",
            "30/30 [==============================] - 0s 9ms/step - loss: 0.3346 - accuracy: 0.9563 - val_loss: 0.4428 - val_accuracy: 0.8843\n",
            "Epoch 190/500\n",
            "30/30 [==============================] - 0s 10ms/step - loss: 0.3333 - accuracy: 0.9604 - val_loss: 0.4413 - val_accuracy: 0.8843\n",
            "Epoch 191/500\n",
            "30/30 [==============================] - 0s 10ms/step - loss: 0.3319 - accuracy: 0.9583 - val_loss: 0.4399 - val_accuracy: 0.8843\n",
            "Epoch 192/500\n",
            "30/30 [==============================] - 0s 9ms/step - loss: 0.3299 - accuracy: 0.9583 - val_loss: 0.4393 - val_accuracy: 0.8843\n",
            "Epoch 193/500\n",
            "30/30 [==============================] - 0s 10ms/step - loss: 0.3290 - accuracy: 0.9563 - val_loss: 0.4370 - val_accuracy: 0.8843\n",
            "Epoch 194/500\n",
            "30/30 [==============================] - 0s 9ms/step - loss: 0.3274 - accuracy: 0.9604 - val_loss: 0.4355 - val_accuracy: 0.8843\n",
            "Epoch 195/500\n",
            "30/30 [==============================] - 0s 10ms/step - loss: 0.3257 - accuracy: 0.9604 - val_loss: 0.4343 - val_accuracy: 0.8843\n",
            "Epoch 196/500\n",
            "30/30 [==============================] - 0s 10ms/step - loss: 0.3247 - accuracy: 0.9583 - val_loss: 0.4330 - val_accuracy: 0.8843\n",
            "Epoch 197/500\n",
            "30/30 [==============================] - 0s 10ms/step - loss: 0.3229 - accuracy: 0.9563 - val_loss: 0.4310 - val_accuracy: 0.8843\n",
            "Epoch 198/500\n",
            "30/30 [==============================] - 0s 9ms/step - loss: 0.3213 - accuracy: 0.9583 - val_loss: 0.4293 - val_accuracy: 0.8843\n",
            "Epoch 199/500\n",
            "30/30 [==============================] - 0s 9ms/step - loss: 0.3202 - accuracy: 0.9604 - val_loss: 0.4284 - val_accuracy: 0.8843\n",
            "Epoch 200/500\n",
            "30/30 [==============================] - 0s 9ms/step - loss: 0.3183 - accuracy: 0.9604 - val_loss: 0.4268 - val_accuracy: 0.8843\n",
            "Epoch 201/500\n",
            "30/30 [==============================] - 0s 9ms/step - loss: 0.3172 - accuracy: 0.9604 - val_loss: 0.4255 - val_accuracy: 0.8843\n",
            "Epoch 202/500\n",
            "30/30 [==============================] - 0s 10ms/step - loss: 0.3155 - accuracy: 0.9625 - val_loss: 0.4236 - val_accuracy: 0.8843\n",
            "Epoch 203/500\n",
            "30/30 [==============================] - 0s 9ms/step - loss: 0.3139 - accuracy: 0.9604 - val_loss: 0.4225 - val_accuracy: 0.8843\n",
            "Epoch 204/500\n",
            "30/30 [==============================] - 0s 9ms/step - loss: 0.3127 - accuracy: 0.9604 - val_loss: 0.4211 - val_accuracy: 0.8843\n",
            "Epoch 205/500\n",
            "30/30 [==============================] - 0s 10ms/step - loss: 0.3115 - accuracy: 0.9583 - val_loss: 0.4199 - val_accuracy: 0.8843\n",
            "Epoch 206/500\n",
            "30/30 [==============================] - 0s 10ms/step - loss: 0.3101 - accuracy: 0.9604 - val_loss: 0.4187 - val_accuracy: 0.8843\n",
            "Epoch 207/500\n",
            "30/30 [==============================] - 0s 9ms/step - loss: 0.3084 - accuracy: 0.9625 - val_loss: 0.4166 - val_accuracy: 0.8926\n",
            "Epoch 208/500\n",
            "30/30 [==============================] - 0s 9ms/step - loss: 0.3071 - accuracy: 0.9604 - val_loss: 0.4151 - val_accuracy: 0.8926\n",
            "Epoch 209/500\n",
            "30/30 [==============================] - 0s 10ms/step - loss: 0.3060 - accuracy: 0.9604 - val_loss: 0.4141 - val_accuracy: 0.8926\n",
            "Epoch 210/500\n",
            "30/30 [==============================] - 0s 10ms/step - loss: 0.3045 - accuracy: 0.9604 - val_loss: 0.4126 - val_accuracy: 0.8926\n",
            "Epoch 211/500\n",
            "30/30 [==============================] - 0s 9ms/step - loss: 0.3029 - accuracy: 0.9604 - val_loss: 0.4116 - val_accuracy: 0.8843\n",
            "Epoch 212/500\n",
            "30/30 [==============================] - 0s 10ms/step - loss: 0.3017 - accuracy: 0.9583 - val_loss: 0.4101 - val_accuracy: 0.8843\n",
            "Epoch 213/500\n",
            "30/30 [==============================] - 0s 9ms/step - loss: 0.3002 - accuracy: 0.9625 - val_loss: 0.4082 - val_accuracy: 0.8926\n",
            "Epoch 214/500\n",
            "30/30 [==============================] - 0s 9ms/step - loss: 0.2989 - accuracy: 0.9604 - val_loss: 0.4074 - val_accuracy: 0.8926\n",
            "Epoch 215/500\n",
            "30/30 [==============================] - 0s 10ms/step - loss: 0.2979 - accuracy: 0.9604 - val_loss: 0.4062 - val_accuracy: 0.8843\n",
            "Epoch 216/500\n",
            "30/30 [==============================] - 0s 10ms/step - loss: 0.2962 - accuracy: 0.9604 - val_loss: 0.4043 - val_accuracy: 0.8843\n",
            "Epoch 217/500\n",
            "30/30 [==============================] - 0s 9ms/step - loss: 0.2951 - accuracy: 0.9604 - val_loss: 0.4029 - val_accuracy: 0.8926\n",
            "Epoch 218/500\n",
            "30/30 [==============================] - 0s 10ms/step - loss: 0.2939 - accuracy: 0.9625 - val_loss: 0.4012 - val_accuracy: 0.9008\n",
            "Epoch 219/500\n",
            "30/30 [==============================] - 0s 9ms/step - loss: 0.2920 - accuracy: 0.9604 - val_loss: 0.3999 - val_accuracy: 0.9008\n",
            "Epoch 220/500\n",
            "30/30 [==============================] - 0s 10ms/step - loss: 0.2910 - accuracy: 0.9604 - val_loss: 0.3985 - val_accuracy: 0.9008\n",
            "Epoch 221/500\n",
            "30/30 [==============================] - 0s 10ms/step - loss: 0.2899 - accuracy: 0.9583 - val_loss: 0.3973 - val_accuracy: 0.9008\n",
            "Epoch 222/500\n",
            "30/30 [==============================] - 0s 10ms/step - loss: 0.2885 - accuracy: 0.9583 - val_loss: 0.3961 - val_accuracy: 0.8926\n",
            "Epoch 223/500\n",
            "30/30 [==============================] - 0s 9ms/step - loss: 0.2871 - accuracy: 0.9583 - val_loss: 0.3946 - val_accuracy: 0.9008\n",
            "Epoch 224/500\n",
            "30/30 [==============================] - 0s 9ms/step - loss: 0.2857 - accuracy: 0.9604 - val_loss: 0.3930 - val_accuracy: 0.9008\n",
            "Epoch 225/500\n",
            "30/30 [==============================] - 0s 9ms/step - loss: 0.2846 - accuracy: 0.9604 - val_loss: 0.3922 - val_accuracy: 0.9008\n",
            "Epoch 226/500\n",
            "30/30 [==============================] - 0s 9ms/step - loss: 0.2830 - accuracy: 0.9625 - val_loss: 0.3907 - val_accuracy: 0.9008\n",
            "Epoch 227/500\n",
            "30/30 [==============================] - 0s 10ms/step - loss: 0.2819 - accuracy: 0.9625 - val_loss: 0.3896 - val_accuracy: 0.9008\n",
            "Epoch 228/500\n",
            "30/30 [==============================] - 0s 9ms/step - loss: 0.2807 - accuracy: 0.9625 - val_loss: 0.3884 - val_accuracy: 0.9008\n",
            "Epoch 229/500\n",
            "30/30 [==============================] - 0s 9ms/step - loss: 0.2796 - accuracy: 0.9646 - val_loss: 0.3867 - val_accuracy: 0.9008\n",
            "Epoch 230/500\n",
            "30/30 [==============================] - 0s 9ms/step - loss: 0.2782 - accuracy: 0.9625 - val_loss: 0.3853 - val_accuracy: 0.9008\n",
            "Epoch 231/500\n",
            "30/30 [==============================] - 0s 9ms/step - loss: 0.2773 - accuracy: 0.9625 - val_loss: 0.3840 - val_accuracy: 0.9008\n",
            "Epoch 232/500\n",
            "30/30 [==============================] - 0s 9ms/step - loss: 0.2758 - accuracy: 0.9625 - val_loss: 0.3830 - val_accuracy: 0.9008\n",
            "Epoch 233/500\n",
            "30/30 [==============================] - 0s 10ms/step - loss: 0.2745 - accuracy: 0.9646 - val_loss: 0.3814 - val_accuracy: 0.9008\n",
            "Epoch 234/500\n",
            "30/30 [==============================] - 0s 9ms/step - loss: 0.2733 - accuracy: 0.9604 - val_loss: 0.3808 - val_accuracy: 0.9008\n",
            "Epoch 235/500\n",
            "30/30 [==============================] - 0s 9ms/step - loss: 0.2721 - accuracy: 0.9625 - val_loss: 0.3793 - val_accuracy: 0.9008\n",
            "Epoch 236/500\n",
            "30/30 [==============================] - 0s 9ms/step - loss: 0.2711 - accuracy: 0.9646 - val_loss: 0.3779 - val_accuracy: 0.9008\n",
            "Epoch 237/500\n",
            "30/30 [==============================] - 0s 9ms/step - loss: 0.2698 - accuracy: 0.9646 - val_loss: 0.3772 - val_accuracy: 0.9008\n",
            "Epoch 238/500\n",
            "30/30 [==============================] - 0s 9ms/step - loss: 0.2686 - accuracy: 0.9625 - val_loss: 0.3755 - val_accuracy: 0.9008\n",
            "Epoch 239/500\n",
            "30/30 [==============================] - 0s 10ms/step - loss: 0.2673 - accuracy: 0.9625 - val_loss: 0.3741 - val_accuracy: 0.9008\n",
            "Epoch 240/500\n",
            "30/30 [==============================] - 0s 9ms/step - loss: 0.2661 - accuracy: 0.9604 - val_loss: 0.3731 - val_accuracy: 0.9008\n",
            "Epoch 241/500\n",
            "30/30 [==============================] - 0s 10ms/step - loss: 0.2647 - accuracy: 0.9646 - val_loss: 0.3717 - val_accuracy: 0.9008\n",
            "Epoch 242/500\n",
            "30/30 [==============================] - 0s 9ms/step - loss: 0.2639 - accuracy: 0.9625 - val_loss: 0.3705 - val_accuracy: 0.9008\n",
            "Epoch 243/500\n",
            "30/30 [==============================] - 0s 10ms/step - loss: 0.2625 - accuracy: 0.9646 - val_loss: 0.3693 - val_accuracy: 0.9008\n",
            "Epoch 244/500\n",
            "30/30 [==============================] - 0s 10ms/step - loss: 0.2617 - accuracy: 0.9625 - val_loss: 0.3680 - val_accuracy: 0.9008\n",
            "Epoch 245/500\n",
            "30/30 [==============================] - 0s 10ms/step - loss: 0.2602 - accuracy: 0.9646 - val_loss: 0.3668 - val_accuracy: 0.9008\n",
            "Epoch 246/500\n",
            "30/30 [==============================] - 0s 10ms/step - loss: 0.2590 - accuracy: 0.9625 - val_loss: 0.3658 - val_accuracy: 0.9091\n",
            "Epoch 247/500\n",
            "30/30 [==============================] - 0s 10ms/step - loss: 0.2580 - accuracy: 0.9625 - val_loss: 0.3643 - val_accuracy: 0.9008\n",
            "Epoch 248/500\n",
            "30/30 [==============================] - 0s 10ms/step - loss: 0.2568 - accuracy: 0.9646 - val_loss: 0.3634 - val_accuracy: 0.9091\n",
            "Epoch 249/500\n",
            "30/30 [==============================] - 0s 10ms/step - loss: 0.2557 - accuracy: 0.9646 - val_loss: 0.3623 - val_accuracy: 0.9091\n",
            "Epoch 250/500\n",
            "30/30 [==============================] - 0s 10ms/step - loss: 0.2545 - accuracy: 0.9646 - val_loss: 0.3611 - val_accuracy: 0.9091\n",
            "Epoch 251/500\n",
            "30/30 [==============================] - 0s 10ms/step - loss: 0.2537 - accuracy: 0.9625 - val_loss: 0.3601 - val_accuracy: 0.9174\n",
            "Epoch 252/500\n",
            "30/30 [==============================] - 0s 10ms/step - loss: 0.2523 - accuracy: 0.9667 - val_loss: 0.3590 - val_accuracy: 0.9256\n",
            "Epoch 253/500\n",
            "30/30 [==============================] - 0s 9ms/step - loss: 0.2511 - accuracy: 0.9688 - val_loss: 0.3576 - val_accuracy: 0.9174\n",
            "Epoch 254/500\n",
            "30/30 [==============================] - 0s 10ms/step - loss: 0.2504 - accuracy: 0.9646 - val_loss: 0.3566 - val_accuracy: 0.9174\n",
            "Epoch 255/500\n",
            "30/30 [==============================] - 0s 10ms/step - loss: 0.2491 - accuracy: 0.9646 - val_loss: 0.3554 - val_accuracy: 0.9174\n",
            "Epoch 256/500\n",
            "30/30 [==============================] - 0s 10ms/step - loss: 0.2479 - accuracy: 0.9625 - val_loss: 0.3544 - val_accuracy: 0.9256\n",
            "Epoch 257/500\n",
            "30/30 [==============================] - 0s 10ms/step - loss: 0.2467 - accuracy: 0.9646 - val_loss: 0.3534 - val_accuracy: 0.9256\n",
            "Epoch 258/500\n",
            "30/30 [==============================] - 0s 9ms/step - loss: 0.2456 - accuracy: 0.9667 - val_loss: 0.3518 - val_accuracy: 0.9256\n",
            "Epoch 259/500\n",
            "30/30 [==============================] - 0s 9ms/step - loss: 0.2445 - accuracy: 0.9646 - val_loss: 0.3508 - val_accuracy: 0.9256\n",
            "Epoch 260/500\n",
            "30/30 [==============================] - 0s 9ms/step - loss: 0.2434 - accuracy: 0.9667 - val_loss: 0.3494 - val_accuracy: 0.9256\n",
            "Epoch 261/500\n",
            "30/30 [==============================] - 0s 9ms/step - loss: 0.2423 - accuracy: 0.9667 - val_loss: 0.3483 - val_accuracy: 0.9256\n",
            "Epoch 262/500\n",
            "30/30 [==============================] - 0s 9ms/step - loss: 0.2415 - accuracy: 0.9646 - val_loss: 0.3473 - val_accuracy: 0.9256\n",
            "Epoch 263/500\n",
            "30/30 [==============================] - 0s 9ms/step - loss: 0.2405 - accuracy: 0.9667 - val_loss: 0.3462 - val_accuracy: 0.9256\n",
            "Epoch 264/500\n",
            "30/30 [==============================] - 0s 10ms/step - loss: 0.2394 - accuracy: 0.9646 - val_loss: 0.3456 - val_accuracy: 0.9256\n",
            "Epoch 265/500\n",
            "30/30 [==============================] - 0s 9ms/step - loss: 0.2384 - accuracy: 0.9667 - val_loss: 0.3439 - val_accuracy: 0.9256\n",
            "Epoch 266/500\n",
            "30/30 [==============================] - 0s 10ms/step - loss: 0.2372 - accuracy: 0.9688 - val_loss: 0.3428 - val_accuracy: 0.9256\n",
            "Epoch 267/500\n",
            "30/30 [==============================] - 0s 10ms/step - loss: 0.2362 - accuracy: 0.9646 - val_loss: 0.3413 - val_accuracy: 0.9256\n",
            "Epoch 268/500\n",
            "30/30 [==============================] - 0s 10ms/step - loss: 0.2352 - accuracy: 0.9688 - val_loss: 0.3406 - val_accuracy: 0.9256\n",
            "Epoch 269/500\n",
            "30/30 [==============================] - 0s 10ms/step - loss: 0.2340 - accuracy: 0.9688 - val_loss: 0.3391 - val_accuracy: 0.9256\n",
            "Epoch 270/500\n",
            "30/30 [==============================] - 0s 10ms/step - loss: 0.2331 - accuracy: 0.9708 - val_loss: 0.3380 - val_accuracy: 0.9256\n",
            "Epoch 271/500\n",
            "30/30 [==============================] - 0s 10ms/step - loss: 0.2321 - accuracy: 0.9708 - val_loss: 0.3369 - val_accuracy: 0.9256\n",
            "Epoch 272/500\n",
            "30/30 [==============================] - 0s 10ms/step - loss: 0.2312 - accuracy: 0.9688 - val_loss: 0.3361 - val_accuracy: 0.9256\n",
            "Epoch 273/500\n",
            "30/30 [==============================] - 0s 10ms/step - loss: 0.2301 - accuracy: 0.9708 - val_loss: 0.3354 - val_accuracy: 0.9256\n",
            "Epoch 274/500\n",
            "30/30 [==============================] - 0s 10ms/step - loss: 0.2289 - accuracy: 0.9708 - val_loss: 0.3344 - val_accuracy: 0.9256\n",
            "Epoch 275/500\n",
            "30/30 [==============================] - 0s 10ms/step - loss: 0.2282 - accuracy: 0.9729 - val_loss: 0.3328 - val_accuracy: 0.9256\n",
            "Epoch 276/500\n",
            "30/30 [==============================] - 0s 10ms/step - loss: 0.2271 - accuracy: 0.9708 - val_loss: 0.3316 - val_accuracy: 0.9256\n",
            "Epoch 277/500\n",
            "30/30 [==============================] - 0s 10ms/step - loss: 0.2259 - accuracy: 0.9708 - val_loss: 0.3308 - val_accuracy: 0.9256\n",
            "Epoch 278/500\n",
            "30/30 [==============================] - 0s 10ms/step - loss: 0.2254 - accuracy: 0.9708 - val_loss: 0.3297 - val_accuracy: 0.9256\n",
            "Epoch 279/500\n",
            "30/30 [==============================] - 0s 10ms/step - loss: 0.2239 - accuracy: 0.9708 - val_loss: 0.3286 - val_accuracy: 0.9256\n",
            "Epoch 280/500\n",
            "30/30 [==============================] - 0s 10ms/step - loss: 0.2233 - accuracy: 0.9750 - val_loss: 0.3274 - val_accuracy: 0.9339\n",
            "Epoch 281/500\n",
            "30/30 [==============================] - 0s 10ms/step - loss: 0.2220 - accuracy: 0.9708 - val_loss: 0.3262 - val_accuracy: 0.9339\n",
            "Epoch 282/500\n",
            "30/30 [==============================] - 0s 10ms/step - loss: 0.2212 - accuracy: 0.9729 - val_loss: 0.3251 - val_accuracy: 0.9339\n",
            "Epoch 283/500\n",
            "30/30 [==============================] - 0s 10ms/step - loss: 0.2201 - accuracy: 0.9708 - val_loss: 0.3243 - val_accuracy: 0.9339\n",
            "Epoch 284/500\n",
            "30/30 [==============================] - 0s 10ms/step - loss: 0.2192 - accuracy: 0.9729 - val_loss: 0.3231 - val_accuracy: 0.9339\n",
            "Epoch 285/500\n",
            "30/30 [==============================] - 0s 10ms/step - loss: 0.2184 - accuracy: 0.9729 - val_loss: 0.3221 - val_accuracy: 0.9339\n",
            "Epoch 286/500\n",
            "30/30 [==============================] - 0s 10ms/step - loss: 0.2174 - accuracy: 0.9729 - val_loss: 0.3212 - val_accuracy: 0.9339\n",
            "Epoch 287/500\n",
            "30/30 [==============================] - 0s 10ms/step - loss: 0.2166 - accuracy: 0.9708 - val_loss: 0.3203 - val_accuracy: 0.9339\n",
            "Epoch 288/500\n",
            "30/30 [==============================] - 0s 10ms/step - loss: 0.2156 - accuracy: 0.9729 - val_loss: 0.3192 - val_accuracy: 0.9339\n",
            "Epoch 289/500\n",
            "30/30 [==============================] - 0s 10ms/step - loss: 0.2145 - accuracy: 0.9750 - val_loss: 0.3186 - val_accuracy: 0.9339\n",
            "Epoch 290/500\n",
            "30/30 [==============================] - 0s 10ms/step - loss: 0.2136 - accuracy: 0.9750 - val_loss: 0.3175 - val_accuracy: 0.9339\n",
            "Epoch 291/500\n",
            "30/30 [==============================] - 0s 10ms/step - loss: 0.2124 - accuracy: 0.9750 - val_loss: 0.3162 - val_accuracy: 0.9339\n",
            "Epoch 292/500\n",
            "30/30 [==============================] - 0s 10ms/step - loss: 0.2117 - accuracy: 0.9750 - val_loss: 0.3148 - val_accuracy: 0.9339\n",
            "Epoch 293/500\n",
            "30/30 [==============================] - 0s 10ms/step - loss: 0.2108 - accuracy: 0.9729 - val_loss: 0.3140 - val_accuracy: 0.9339\n",
            "Epoch 294/500\n",
            "30/30 [==============================] - 0s 10ms/step - loss: 0.2099 - accuracy: 0.9750 - val_loss: 0.3129 - val_accuracy: 0.9339\n",
            "Epoch 295/500\n",
            "30/30 [==============================] - 0s 10ms/step - loss: 0.2087 - accuracy: 0.9771 - val_loss: 0.3125 - val_accuracy: 0.9339\n",
            "Epoch 296/500\n",
            "30/30 [==============================] - 0s 10ms/step - loss: 0.2080 - accuracy: 0.9771 - val_loss: 0.3116 - val_accuracy: 0.9339\n",
            "Epoch 297/500\n",
            "30/30 [==============================] - 0s 10ms/step - loss: 0.2074 - accuracy: 0.9750 - val_loss: 0.3104 - val_accuracy: 0.9339\n",
            "Epoch 298/500\n",
            "30/30 [==============================] - 0s 10ms/step - loss: 0.2064 - accuracy: 0.9750 - val_loss: 0.3094 - val_accuracy: 0.9339\n",
            "Epoch 299/500\n",
            "30/30 [==============================] - 0s 10ms/step - loss: 0.2054 - accuracy: 0.9729 - val_loss: 0.3084 - val_accuracy: 0.9339\n",
            "Epoch 300/500\n",
            "30/30 [==============================] - 0s 10ms/step - loss: 0.2045 - accuracy: 0.9771 - val_loss: 0.3075 - val_accuracy: 0.9339\n",
            "Epoch 301/500\n",
            "30/30 [==============================] - 0s 10ms/step - loss: 0.2038 - accuracy: 0.9771 - val_loss: 0.3065 - val_accuracy: 0.9339\n",
            "Epoch 302/500\n",
            "30/30 [==============================] - 0s 10ms/step - loss: 0.2026 - accuracy: 0.9750 - val_loss: 0.3050 - val_accuracy: 0.9339\n",
            "Epoch 303/500\n",
            "30/30 [==============================] - 0s 10ms/step - loss: 0.2019 - accuracy: 0.9771 - val_loss: 0.3043 - val_accuracy: 0.9339\n",
            "Epoch 304/500\n",
            "30/30 [==============================] - 0s 10ms/step - loss: 0.2008 - accuracy: 0.9771 - val_loss: 0.3039 - val_accuracy: 0.9339\n",
            "Epoch 305/500\n",
            "30/30 [==============================] - 0s 10ms/step - loss: 0.2004 - accuracy: 0.9750 - val_loss: 0.3030 - val_accuracy: 0.9339\n",
            "Epoch 306/500\n",
            "30/30 [==============================] - 0s 10ms/step - loss: 0.1993 - accuracy: 0.9792 - val_loss: 0.3014 - val_accuracy: 0.9339\n",
            "Epoch 307/500\n",
            "30/30 [==============================] - 0s 10ms/step - loss: 0.1986 - accuracy: 0.9792 - val_loss: 0.3009 - val_accuracy: 0.9339\n",
            "Epoch 308/500\n",
            "30/30 [==============================] - 0s 10ms/step - loss: 0.1976 - accuracy: 0.9771 - val_loss: 0.2999 - val_accuracy: 0.9339\n",
            "Epoch 309/500\n",
            "30/30 [==============================] - 0s 10ms/step - loss: 0.1968 - accuracy: 0.9792 - val_loss: 0.2987 - val_accuracy: 0.9339\n",
            "Epoch 310/500\n",
            "30/30 [==============================] - 0s 11ms/step - loss: 0.1960 - accuracy: 0.9792 - val_loss: 0.2979 - val_accuracy: 0.9339\n",
            "Epoch 311/500\n",
            "30/30 [==============================] - 0s 11ms/step - loss: 0.1952 - accuracy: 0.9792 - val_loss: 0.2971 - val_accuracy: 0.9339\n",
            "Epoch 312/500\n",
            "30/30 [==============================] - 0s 10ms/step - loss: 0.1942 - accuracy: 0.9792 - val_loss: 0.2965 - val_accuracy: 0.9339\n",
            "Epoch 313/500\n",
            "30/30 [==============================] - 0s 10ms/step - loss: 0.1935 - accuracy: 0.9792 - val_loss: 0.2952 - val_accuracy: 0.9339\n",
            "Epoch 314/500\n",
            "30/30 [==============================] - 0s 10ms/step - loss: 0.1926 - accuracy: 0.9792 - val_loss: 0.2941 - val_accuracy: 0.9339\n",
            "Epoch 315/500\n",
            "30/30 [==============================] - 0s 10ms/step - loss: 0.1919 - accuracy: 0.9792 - val_loss: 0.2933 - val_accuracy: 0.9339\n",
            "Epoch 316/500\n",
            "30/30 [==============================] - 0s 10ms/step - loss: 0.1910 - accuracy: 0.9792 - val_loss: 0.2926 - val_accuracy: 0.9339\n",
            "Epoch 317/500\n",
            "30/30 [==============================] - 0s 10ms/step - loss: 0.1902 - accuracy: 0.9792 - val_loss: 0.2917 - val_accuracy: 0.9339\n",
            "Epoch 318/500\n",
            "30/30 [==============================] - 0s 10ms/step - loss: 0.1895 - accuracy: 0.9792 - val_loss: 0.2907 - val_accuracy: 0.9339\n",
            "Epoch 319/500\n",
            "30/30 [==============================] - 0s 10ms/step - loss: 0.1886 - accuracy: 0.9792 - val_loss: 0.2898 - val_accuracy: 0.9339\n",
            "Epoch 320/500\n",
            "30/30 [==============================] - 0s 10ms/step - loss: 0.1878 - accuracy: 0.9792 - val_loss: 0.2885 - val_accuracy: 0.9339\n",
            "Epoch 321/500\n",
            "30/30 [==============================] - 0s 10ms/step - loss: 0.1871 - accuracy: 0.9792 - val_loss: 0.2877 - val_accuracy: 0.9339\n",
            "Epoch 322/500\n",
            "30/30 [==============================] - 0s 10ms/step - loss: 0.1863 - accuracy: 0.9792 - val_loss: 0.2869 - val_accuracy: 0.9339\n",
            "Epoch 323/500\n",
            "30/30 [==============================] - 0s 10ms/step - loss: 0.1854 - accuracy: 0.9792 - val_loss: 0.2860 - val_accuracy: 0.9339\n",
            "Epoch 324/500\n",
            "30/30 [==============================] - 0s 10ms/step - loss: 0.1846 - accuracy: 0.9792 - val_loss: 0.2855 - val_accuracy: 0.9339\n",
            "Epoch 325/500\n",
            "30/30 [==============================] - 0s 10ms/step - loss: 0.1838 - accuracy: 0.9792 - val_loss: 0.2842 - val_accuracy: 0.9339\n",
            "Epoch 326/500\n",
            "30/30 [==============================] - 0s 10ms/step - loss: 0.1831 - accuracy: 0.9792 - val_loss: 0.2837 - val_accuracy: 0.9339\n",
            "Epoch 327/500\n",
            "30/30 [==============================] - 0s 10ms/step - loss: 0.1824 - accuracy: 0.9792 - val_loss: 0.2829 - val_accuracy: 0.9339\n",
            "Epoch 328/500\n",
            "30/30 [==============================] - 0s 10ms/step - loss: 0.1816 - accuracy: 0.9792 - val_loss: 0.2818 - val_accuracy: 0.9339\n",
            "Epoch 329/500\n",
            "30/30 [==============================] - 0s 10ms/step - loss: 0.1811 - accuracy: 0.9792 - val_loss: 0.2811 - val_accuracy: 0.9339\n",
            "Epoch 330/500\n",
            "30/30 [==============================] - 0s 10ms/step - loss: 0.1802 - accuracy: 0.9792 - val_loss: 0.2801 - val_accuracy: 0.9339\n",
            "Epoch 331/500\n",
            "30/30 [==============================] - 0s 10ms/step - loss: 0.1793 - accuracy: 0.9792 - val_loss: 0.2791 - val_accuracy: 0.9339\n",
            "Epoch 332/500\n",
            "30/30 [==============================] - 0s 9ms/step - loss: 0.1785 - accuracy: 0.9792 - val_loss: 0.2784 - val_accuracy: 0.9339\n",
            "Epoch 333/500\n",
            "30/30 [==============================] - 0s 10ms/step - loss: 0.1777 - accuracy: 0.9792 - val_loss: 0.2778 - val_accuracy: 0.9339\n",
            "Epoch 334/500\n",
            "30/30 [==============================] - 0s 9ms/step - loss: 0.1770 - accuracy: 0.9792 - val_loss: 0.2766 - val_accuracy: 0.9339\n",
            "Epoch 335/500\n",
            "30/30 [==============================] - 0s 9ms/step - loss: 0.1764 - accuracy: 0.9792 - val_loss: 0.2761 - val_accuracy: 0.9339\n",
            "Epoch 336/500\n",
            "30/30 [==============================] - 0s 10ms/step - loss: 0.1758 - accuracy: 0.9792 - val_loss: 0.2749 - val_accuracy: 0.9339\n",
            "Epoch 337/500\n",
            "30/30 [==============================] - 0s 9ms/step - loss: 0.1748 - accuracy: 0.9792 - val_loss: 0.2744 - val_accuracy: 0.9339\n",
            "Epoch 338/500\n",
            "30/30 [==============================] - 0s 9ms/step - loss: 0.1741 - accuracy: 0.9792 - val_loss: 0.2731 - val_accuracy: 0.9339\n",
            "Epoch 339/500\n",
            "30/30 [==============================] - 0s 9ms/step - loss: 0.1733 - accuracy: 0.9792 - val_loss: 0.2726 - val_accuracy: 0.9339\n",
            "Epoch 340/500\n",
            "30/30 [==============================] - 0s 9ms/step - loss: 0.1726 - accuracy: 0.9792 - val_loss: 0.2717 - val_accuracy: 0.9339\n",
            "Epoch 341/500\n",
            "30/30 [==============================] - 0s 9ms/step - loss: 0.1718 - accuracy: 0.9792 - val_loss: 0.2708 - val_accuracy: 0.9339\n",
            "Epoch 342/500\n",
            "30/30 [==============================] - 0s 9ms/step - loss: 0.1712 - accuracy: 0.9792 - val_loss: 0.2700 - val_accuracy: 0.9339\n",
            "Epoch 343/500\n",
            "30/30 [==============================] - 0s 9ms/step - loss: 0.1703 - accuracy: 0.9812 - val_loss: 0.2690 - val_accuracy: 0.9339\n",
            "Epoch 344/500\n",
            "30/30 [==============================] - 0s 9ms/step - loss: 0.1698 - accuracy: 0.9792 - val_loss: 0.2683 - val_accuracy: 0.9339\n",
            "Epoch 345/500\n",
            "30/30 [==============================] - 0s 9ms/step - loss: 0.1690 - accuracy: 0.9792 - val_loss: 0.2681 - val_accuracy: 0.9339\n",
            "Epoch 346/500\n",
            "30/30 [==============================] - 0s 9ms/step - loss: 0.1684 - accuracy: 0.9792 - val_loss: 0.2671 - val_accuracy: 0.9339\n",
            "Epoch 347/500\n",
            "30/30 [==============================] - 0s 9ms/step - loss: 0.1677 - accuracy: 0.9812 - val_loss: 0.2659 - val_accuracy: 0.9339\n",
            "Epoch 348/500\n",
            "30/30 [==============================] - 0s 9ms/step - loss: 0.1671 - accuracy: 0.9792 - val_loss: 0.2654 - val_accuracy: 0.9339\n",
            "Epoch 349/500\n",
            "30/30 [==============================] - 0s 9ms/step - loss: 0.1662 - accuracy: 0.9792 - val_loss: 0.2648 - val_accuracy: 0.9339\n",
            "Epoch 350/500\n",
            "30/30 [==============================] - 0s 10ms/step - loss: 0.1657 - accuracy: 0.9792 - val_loss: 0.2641 - val_accuracy: 0.9339\n",
            "Epoch 351/500\n",
            "30/30 [==============================] - 0s 9ms/step - loss: 0.1649 - accuracy: 0.9812 - val_loss: 0.2632 - val_accuracy: 0.9339\n",
            "Epoch 352/500\n",
            "30/30 [==============================] - 0s 9ms/step - loss: 0.1643 - accuracy: 0.9833 - val_loss: 0.2621 - val_accuracy: 0.9339\n",
            "Epoch 353/500\n",
            "30/30 [==============================] - 0s 9ms/step - loss: 0.1636 - accuracy: 0.9812 - val_loss: 0.2619 - val_accuracy: 0.9339\n",
            "Epoch 354/500\n",
            "30/30 [==============================] - 0s 9ms/step - loss: 0.1628 - accuracy: 0.9812 - val_loss: 0.2606 - val_accuracy: 0.9339\n",
            "Epoch 355/500\n",
            "30/30 [==============================] - 0s 9ms/step - loss: 0.1622 - accuracy: 0.9812 - val_loss: 0.2599 - val_accuracy: 0.9339\n",
            "Epoch 356/500\n",
            "30/30 [==============================] - 0s 9ms/step - loss: 0.1615 - accuracy: 0.9854 - val_loss: 0.2591 - val_accuracy: 0.9339\n",
            "Epoch 357/500\n",
            "30/30 [==============================] - 0s 9ms/step - loss: 0.1608 - accuracy: 0.9833 - val_loss: 0.2581 - val_accuracy: 0.9339\n",
            "Epoch 358/500\n",
            "30/30 [==============================] - 0s 10ms/step - loss: 0.1602 - accuracy: 0.9792 - val_loss: 0.2578 - val_accuracy: 0.9421\n",
            "Epoch 359/500\n",
            "30/30 [==============================] - 0s 9ms/step - loss: 0.1597 - accuracy: 0.9833 - val_loss: 0.2570 - val_accuracy: 0.9421\n",
            "Epoch 360/500\n",
            "30/30 [==============================] - 0s 9ms/step - loss: 0.1588 - accuracy: 0.9812 - val_loss: 0.2568 - val_accuracy: 0.9421\n",
            "Epoch 361/500\n",
            "30/30 [==============================] - 0s 10ms/step - loss: 0.1582 - accuracy: 0.9833 - val_loss: 0.2563 - val_accuracy: 0.9421\n",
            "Epoch 362/500\n",
            "30/30 [==============================] - 0s 10ms/step - loss: 0.1577 - accuracy: 0.9833 - val_loss: 0.2551 - val_accuracy: 0.9421\n",
            "Epoch 363/500\n",
            "30/30 [==============================] - 0s 9ms/step - loss: 0.1571 - accuracy: 0.9833 - val_loss: 0.2540 - val_accuracy: 0.9421\n",
            "Epoch 364/500\n",
            "30/30 [==============================] - 0s 9ms/step - loss: 0.1563 - accuracy: 0.9854 - val_loss: 0.2531 - val_accuracy: 0.9421\n",
            "Epoch 365/500\n",
            "30/30 [==============================] - 0s 9ms/step - loss: 0.1557 - accuracy: 0.9854 - val_loss: 0.2526 - val_accuracy: 0.9421\n",
            "Epoch 366/500\n",
            "30/30 [==============================] - 0s 9ms/step - loss: 0.1550 - accuracy: 0.9854 - val_loss: 0.2515 - val_accuracy: 0.9421\n",
            "Epoch 367/500\n",
            "30/30 [==============================] - 0s 9ms/step - loss: 0.1545 - accuracy: 0.9854 - val_loss: 0.2509 - val_accuracy: 0.9421\n",
            "Epoch 368/500\n",
            "30/30 [==============================] - 0s 9ms/step - loss: 0.1538 - accuracy: 0.9854 - val_loss: 0.2503 - val_accuracy: 0.9421\n",
            "Epoch 369/500\n",
            "30/30 [==============================] - 0s 10ms/step - loss: 0.1531 - accuracy: 0.9833 - val_loss: 0.2495 - val_accuracy: 0.9421\n",
            "Epoch 370/500\n",
            "30/30 [==============================] - 0s 10ms/step - loss: 0.1524 - accuracy: 0.9854 - val_loss: 0.2486 - val_accuracy: 0.9421\n",
            "Epoch 371/500\n",
            "30/30 [==============================] - 0s 9ms/step - loss: 0.1519 - accuracy: 0.9854 - val_loss: 0.2479 - val_accuracy: 0.9421\n",
            "Epoch 372/500\n",
            "30/30 [==============================] - 0s 9ms/step - loss: 0.1514 - accuracy: 0.9854 - val_loss: 0.2474 - val_accuracy: 0.9421\n",
            "Epoch 373/500\n",
            "30/30 [==============================] - 0s 9ms/step - loss: 0.1507 - accuracy: 0.9854 - val_loss: 0.2466 - val_accuracy: 0.9421\n",
            "Epoch 374/500\n",
            "30/30 [==============================] - 0s 10ms/step - loss: 0.1502 - accuracy: 0.9875 - val_loss: 0.2459 - val_accuracy: 0.9421\n",
            "Epoch 375/500\n",
            "30/30 [==============================] - 0s 9ms/step - loss: 0.1493 - accuracy: 0.9854 - val_loss: 0.2454 - val_accuracy: 0.9421\n",
            "Epoch 376/500\n",
            "30/30 [==============================] - 0s 10ms/step - loss: 0.1488 - accuracy: 0.9875 - val_loss: 0.2447 - val_accuracy: 0.9421\n",
            "Epoch 377/500\n",
            "30/30 [==============================] - 0s 9ms/step - loss: 0.1483 - accuracy: 0.9854 - val_loss: 0.2441 - val_accuracy: 0.9421\n",
            "Epoch 378/500\n",
            "30/30 [==============================] - 0s 9ms/step - loss: 0.1476 - accuracy: 0.9854 - val_loss: 0.2432 - val_accuracy: 0.9421\n",
            "Epoch 379/500\n",
            "30/30 [==============================] - 0s 9ms/step - loss: 0.1471 - accuracy: 0.9875 - val_loss: 0.2425 - val_accuracy: 0.9421\n",
            "Epoch 380/500\n",
            "30/30 [==============================] - 0s 9ms/step - loss: 0.1463 - accuracy: 0.9875 - val_loss: 0.2421 - val_accuracy: 0.9421\n",
            "Epoch 381/500\n",
            "30/30 [==============================] - 0s 9ms/step - loss: 0.1458 - accuracy: 0.9854 - val_loss: 0.2417 - val_accuracy: 0.9421\n",
            "Epoch 382/500\n",
            "30/30 [==============================] - 0s 9ms/step - loss: 0.1454 - accuracy: 0.9854 - val_loss: 0.2408 - val_accuracy: 0.9421\n",
            "Epoch 383/500\n",
            "30/30 [==============================] - 0s 9ms/step - loss: 0.1449 - accuracy: 0.9896 - val_loss: 0.2398 - val_accuracy: 0.9421\n",
            "Epoch 384/500\n",
            "30/30 [==============================] - 0s 9ms/step - loss: 0.1440 - accuracy: 0.9875 - val_loss: 0.2390 - val_accuracy: 0.9421\n",
            "Epoch 385/500\n",
            "30/30 [==============================] - 0s 9ms/step - loss: 0.1435 - accuracy: 0.9854 - val_loss: 0.2384 - val_accuracy: 0.9421\n",
            "Epoch 386/500\n",
            "30/30 [==============================] - 0s 9ms/step - loss: 0.1429 - accuracy: 0.9896 - val_loss: 0.2374 - val_accuracy: 0.9587\n",
            "Epoch 387/500\n",
            "30/30 [==============================] - 0s 9ms/step - loss: 0.1423 - accuracy: 0.9875 - val_loss: 0.2372 - val_accuracy: 0.9504\n",
            "Epoch 388/500\n",
            "30/30 [==============================] - 0s 10ms/step - loss: 0.1418 - accuracy: 0.9854 - val_loss: 0.2370 - val_accuracy: 0.9421\n",
            "Epoch 389/500\n",
            "30/30 [==============================] - 0s 10ms/step - loss: 0.1413 - accuracy: 0.9875 - val_loss: 0.2361 - val_accuracy: 0.9421\n",
            "Epoch 390/500\n",
            "30/30 [==============================] - 0s 9ms/step - loss: 0.1407 - accuracy: 0.9875 - val_loss: 0.2351 - val_accuracy: 0.9421\n",
            "Epoch 391/500\n",
            "30/30 [==============================] - 0s 9ms/step - loss: 0.1401 - accuracy: 0.9875 - val_loss: 0.2346 - val_accuracy: 0.9421\n",
            "Epoch 392/500\n",
            "30/30 [==============================] - 0s 9ms/step - loss: 0.1395 - accuracy: 0.9875 - val_loss: 0.2343 - val_accuracy: 0.9421\n",
            "Epoch 393/500\n",
            "30/30 [==============================] - 0s 9ms/step - loss: 0.1390 - accuracy: 0.9875 - val_loss: 0.2334 - val_accuracy: 0.9421\n",
            "Epoch 394/500\n",
            "30/30 [==============================] - 0s 9ms/step - loss: 0.1385 - accuracy: 0.9875 - val_loss: 0.2327 - val_accuracy: 0.9421\n",
            "Epoch 395/500\n",
            "30/30 [==============================] - 0s 9ms/step - loss: 0.1379 - accuracy: 0.9896 - val_loss: 0.2320 - val_accuracy: 0.9504\n",
            "Epoch 396/500\n",
            "30/30 [==============================] - 0s 9ms/step - loss: 0.1375 - accuracy: 0.9896 - val_loss: 0.2312 - val_accuracy: 0.9504\n",
            "Epoch 397/500\n",
            "30/30 [==============================] - 0s 10ms/step - loss: 0.1368 - accuracy: 0.9854 - val_loss: 0.2311 - val_accuracy: 0.9421\n",
            "Epoch 398/500\n",
            "30/30 [==============================] - 0s 10ms/step - loss: 0.1364 - accuracy: 0.9896 - val_loss: 0.2302 - val_accuracy: 0.9504\n",
            "Epoch 399/500\n",
            "30/30 [==============================] - 0s 9ms/step - loss: 0.1357 - accuracy: 0.9896 - val_loss: 0.2296 - val_accuracy: 0.9504\n",
            "Epoch 400/500\n",
            "30/30 [==============================] - 0s 9ms/step - loss: 0.1352 - accuracy: 0.9875 - val_loss: 0.2291 - val_accuracy: 0.9504\n",
            "Epoch 401/500\n",
            "30/30 [==============================] - 0s 9ms/step - loss: 0.1347 - accuracy: 0.9896 - val_loss: 0.2280 - val_accuracy: 0.9587\n",
            "Epoch 402/500\n",
            "30/30 [==============================] - 0s 9ms/step - loss: 0.1341 - accuracy: 0.9896 - val_loss: 0.2272 - val_accuracy: 0.9587\n",
            "Epoch 403/500\n",
            "30/30 [==============================] - 0s 9ms/step - loss: 0.1337 - accuracy: 0.9896 - val_loss: 0.2267 - val_accuracy: 0.9587\n",
            "Epoch 404/500\n",
            "30/30 [==============================] - 0s 9ms/step - loss: 0.1331 - accuracy: 0.9896 - val_loss: 0.2265 - val_accuracy: 0.9504\n",
            "Epoch 405/500\n",
            "30/30 [==============================] - 0s 9ms/step - loss: 0.1326 - accuracy: 0.9875 - val_loss: 0.2261 - val_accuracy: 0.9504\n",
            "Epoch 406/500\n",
            "30/30 [==============================] - 0s 9ms/step - loss: 0.1321 - accuracy: 0.9896 - val_loss: 0.2253 - val_accuracy: 0.9504\n",
            "Epoch 407/500\n",
            "30/30 [==============================] - 0s 10ms/step - loss: 0.1316 - accuracy: 0.9896 - val_loss: 0.2246 - val_accuracy: 0.9504\n",
            "Epoch 408/500\n",
            "30/30 [==============================] - 0s 9ms/step - loss: 0.1310 - accuracy: 0.9896 - val_loss: 0.2241 - val_accuracy: 0.9504\n",
            "Epoch 409/500\n",
            "30/30 [==============================] - 0s 9ms/step - loss: 0.1305 - accuracy: 0.9896 - val_loss: 0.2233 - val_accuracy: 0.9587\n",
            "Epoch 410/500\n",
            "30/30 [==============================] - 0s 9ms/step - loss: 0.1300 - accuracy: 0.9896 - val_loss: 0.2227 - val_accuracy: 0.9504\n",
            "Epoch 411/500\n",
            "30/30 [==============================] - 0s 9ms/step - loss: 0.1295 - accuracy: 0.9896 - val_loss: 0.2221 - val_accuracy: 0.9587\n",
            "Epoch 412/500\n",
            "30/30 [==============================] - 0s 10ms/step - loss: 0.1290 - accuracy: 0.9896 - val_loss: 0.2216 - val_accuracy: 0.9587\n",
            "Epoch 413/500\n",
            "30/30 [==============================] - 0s 9ms/step - loss: 0.1284 - accuracy: 0.9896 - val_loss: 0.2210 - val_accuracy: 0.9587\n",
            "Epoch 414/500\n",
            "30/30 [==============================] - 0s 9ms/step - loss: 0.1281 - accuracy: 0.9896 - val_loss: 0.2205 - val_accuracy: 0.9587\n",
            "Epoch 415/500\n",
            "30/30 [==============================] - 0s 9ms/step - loss: 0.1274 - accuracy: 0.9896 - val_loss: 0.2198 - val_accuracy: 0.9587\n",
            "Epoch 416/500\n",
            "30/30 [==============================] - 0s 10ms/step - loss: 0.1269 - accuracy: 0.9896 - val_loss: 0.2191 - val_accuracy: 0.9587\n",
            "Epoch 417/500\n",
            "30/30 [==============================] - 0s 9ms/step - loss: 0.1266 - accuracy: 0.9896 - val_loss: 0.2185 - val_accuracy: 0.9587\n",
            "Epoch 418/500\n",
            "30/30 [==============================] - 0s 9ms/step - loss: 0.1260 - accuracy: 0.9896 - val_loss: 0.2178 - val_accuracy: 0.9587\n",
            "Epoch 419/500\n",
            "30/30 [==============================] - 0s 10ms/step - loss: 0.1257 - accuracy: 0.9896 - val_loss: 0.2173 - val_accuracy: 0.9587\n",
            "Epoch 420/500\n",
            "30/30 [==============================] - 0s 9ms/step - loss: 0.1252 - accuracy: 0.9896 - val_loss: 0.2169 - val_accuracy: 0.9587\n",
            "Epoch 421/500\n",
            "30/30 [==============================] - 0s 10ms/step - loss: 0.1246 - accuracy: 0.9896 - val_loss: 0.2160 - val_accuracy: 0.9587\n",
            "Epoch 422/500\n",
            "30/30 [==============================] - 0s 10ms/step - loss: 0.1240 - accuracy: 0.9896 - val_loss: 0.2156 - val_accuracy: 0.9587\n",
            "Epoch 423/500\n",
            "30/30 [==============================] - 0s 10ms/step - loss: 0.1235 - accuracy: 0.9896 - val_loss: 0.2147 - val_accuracy: 0.9587\n",
            "Epoch 424/500\n",
            "30/30 [==============================] - 0s 10ms/step - loss: 0.1232 - accuracy: 0.9896 - val_loss: 0.2143 - val_accuracy: 0.9587\n",
            "Epoch 425/500\n",
            "30/30 [==============================] - 0s 10ms/step - loss: 0.1227 - accuracy: 0.9896 - val_loss: 0.2137 - val_accuracy: 0.9587\n",
            "Epoch 426/500\n",
            "30/30 [==============================] - 0s 9ms/step - loss: 0.1221 - accuracy: 0.9896 - val_loss: 0.2133 - val_accuracy: 0.9587\n",
            "Epoch 427/500\n",
            "30/30 [==============================] - 0s 10ms/step - loss: 0.1217 - accuracy: 0.9896 - val_loss: 0.2127 - val_accuracy: 0.9587\n",
            "Epoch 428/500\n",
            "30/30 [==============================] - 0s 10ms/step - loss: 0.1212 - accuracy: 0.9896 - val_loss: 0.2121 - val_accuracy: 0.9587\n",
            "Epoch 429/500\n",
            "30/30 [==============================] - 0s 10ms/step - loss: 0.1208 - accuracy: 0.9896 - val_loss: 0.2116 - val_accuracy: 0.9587\n",
            "Epoch 430/500\n",
            "30/30 [==============================] - 0s 10ms/step - loss: 0.1202 - accuracy: 0.9896 - val_loss: 0.2111 - val_accuracy: 0.9587\n",
            "Epoch 431/500\n",
            "30/30 [==============================] - 0s 9ms/step - loss: 0.1198 - accuracy: 0.9896 - val_loss: 0.2106 - val_accuracy: 0.9587\n",
            "Epoch 432/500\n",
            "30/30 [==============================] - 0s 10ms/step - loss: 0.1193 - accuracy: 0.9896 - val_loss: 0.2100 - val_accuracy: 0.9587\n",
            "Epoch 433/500\n",
            "30/30 [==============================] - 0s 10ms/step - loss: 0.1190 - accuracy: 0.9896 - val_loss: 0.2094 - val_accuracy: 0.9587\n",
            "Epoch 434/500\n",
            "30/30 [==============================] - 0s 9ms/step - loss: 0.1185 - accuracy: 0.9896 - val_loss: 0.2091 - val_accuracy: 0.9587\n",
            "Epoch 435/500\n",
            "30/30 [==============================] - 0s 10ms/step - loss: 0.1180 - accuracy: 0.9896 - val_loss: 0.2082 - val_accuracy: 0.9587\n",
            "Epoch 436/500\n",
            "30/30 [==============================] - 0s 9ms/step - loss: 0.1175 - accuracy: 0.9896 - val_loss: 0.2078 - val_accuracy: 0.9587\n",
            "Epoch 437/500\n",
            "30/30 [==============================] - 0s 10ms/step - loss: 0.1172 - accuracy: 0.9896 - val_loss: 0.2071 - val_accuracy: 0.9587\n",
            "Epoch 438/500\n",
            "30/30 [==============================] - 0s 10ms/step - loss: 0.1168 - accuracy: 0.9896 - val_loss: 0.2064 - val_accuracy: 0.9587\n",
            "Epoch 439/500\n",
            "30/30 [==============================] - 0s 9ms/step - loss: 0.1163 - accuracy: 0.9896 - val_loss: 0.2060 - val_accuracy: 0.9587\n",
            "Epoch 440/500\n",
            "30/30 [==============================] - 0s 10ms/step - loss: 0.1158 - accuracy: 0.9896 - val_loss: 0.2054 - val_accuracy: 0.9587\n",
            "Epoch 441/500\n",
            "30/30 [==============================] - 0s 9ms/step - loss: 0.1153 - accuracy: 0.9896 - val_loss: 0.2049 - val_accuracy: 0.9587\n",
            "Epoch 442/500\n",
            "30/30 [==============================] - 0s 10ms/step - loss: 0.1150 - accuracy: 0.9896 - val_loss: 0.2044 - val_accuracy: 0.9587\n",
            "Epoch 443/500\n",
            "30/30 [==============================] - 0s 10ms/step - loss: 0.1145 - accuracy: 0.9896 - val_loss: 0.2038 - val_accuracy: 0.9587\n",
            "Epoch 444/500\n",
            "30/30 [==============================] - 0s 9ms/step - loss: 0.1140 - accuracy: 0.9896 - val_loss: 0.2033 - val_accuracy: 0.9587\n",
            "Epoch 445/500\n",
            "30/30 [==============================] - 0s 10ms/step - loss: 0.1136 - accuracy: 0.9896 - val_loss: 0.2027 - val_accuracy: 0.9587\n",
            "Epoch 446/500\n",
            "30/30 [==============================] - 0s 10ms/step - loss: 0.1132 - accuracy: 0.9896 - val_loss: 0.2023 - val_accuracy: 0.9587\n",
            "Epoch 447/500\n",
            "30/30 [==============================] - 0s 10ms/step - loss: 0.1127 - accuracy: 0.9896 - val_loss: 0.2019 - val_accuracy: 0.9587\n",
            "Epoch 448/500\n",
            "30/30 [==============================] - 0s 9ms/step - loss: 0.1123 - accuracy: 0.9896 - val_loss: 0.2016 - val_accuracy: 0.9587\n",
            "Epoch 449/500\n",
            "30/30 [==============================] - 0s 9ms/step - loss: 0.1119 - accuracy: 0.9917 - val_loss: 0.2008 - val_accuracy: 0.9587\n",
            "Epoch 450/500\n",
            "30/30 [==============================] - 0s 9ms/step - loss: 0.1116 - accuracy: 0.9917 - val_loss: 0.2000 - val_accuracy: 0.9587\n",
            "Epoch 451/500\n",
            "30/30 [==============================] - 0s 9ms/step - loss: 0.1110 - accuracy: 0.9896 - val_loss: 0.1997 - val_accuracy: 0.9587\n",
            "Epoch 452/500\n",
            "30/30 [==============================] - 0s 9ms/step - loss: 0.1107 - accuracy: 0.9917 - val_loss: 0.1993 - val_accuracy: 0.9587\n",
            "Epoch 453/500\n",
            "30/30 [==============================] - 0s 9ms/step - loss: 0.1102 - accuracy: 0.9917 - val_loss: 0.1989 - val_accuracy: 0.9587\n",
            "Epoch 454/500\n",
            "30/30 [==============================] - 0s 9ms/step - loss: 0.1098 - accuracy: 0.9917 - val_loss: 0.1986 - val_accuracy: 0.9587\n",
            "Epoch 455/500\n",
            "30/30 [==============================] - 0s 10ms/step - loss: 0.1094 - accuracy: 0.9917 - val_loss: 0.1978 - val_accuracy: 0.9669\n",
            "Epoch 456/500\n",
            "30/30 [==============================] - 0s 10ms/step - loss: 0.1090 - accuracy: 0.9917 - val_loss: 0.1972 - val_accuracy: 0.9669\n",
            "Epoch 457/500\n",
            "30/30 [==============================] - 0s 9ms/step - loss: 0.1085 - accuracy: 0.9917 - val_loss: 0.1970 - val_accuracy: 0.9669\n",
            "Epoch 458/500\n",
            "30/30 [==============================] - 0s 9ms/step - loss: 0.1082 - accuracy: 0.9917 - val_loss: 0.1962 - val_accuracy: 0.9669\n",
            "Epoch 459/500\n",
            "30/30 [==============================] - 0s 9ms/step - loss: 0.1077 - accuracy: 0.9917 - val_loss: 0.1959 - val_accuracy: 0.9669\n",
            "Epoch 460/500\n",
            "30/30 [==============================] - 0s 9ms/step - loss: 0.1074 - accuracy: 0.9917 - val_loss: 0.1952 - val_accuracy: 0.9669\n",
            "Epoch 461/500\n",
            "30/30 [==============================] - 0s 9ms/step - loss: 0.1069 - accuracy: 0.9917 - val_loss: 0.1949 - val_accuracy: 0.9669\n",
            "Epoch 462/500\n",
            "30/30 [==============================] - 0s 9ms/step - loss: 0.1065 - accuracy: 0.9917 - val_loss: 0.1947 - val_accuracy: 0.9669\n",
            "Epoch 463/500\n",
            "30/30 [==============================] - 0s 9ms/step - loss: 0.1063 - accuracy: 0.9917 - val_loss: 0.1937 - val_accuracy: 0.9669\n",
            "Epoch 464/500\n",
            "30/30 [==============================] - 0s 9ms/step - loss: 0.1057 - accuracy: 0.9917 - val_loss: 0.1931 - val_accuracy: 0.9669\n",
            "Epoch 465/500\n",
            "30/30 [==============================] - 0s 9ms/step - loss: 0.1053 - accuracy: 0.9917 - val_loss: 0.1927 - val_accuracy: 0.9669\n",
            "Epoch 466/500\n",
            "30/30 [==============================] - 0s 10ms/step - loss: 0.1049 - accuracy: 0.9917 - val_loss: 0.1921 - val_accuracy: 0.9669\n",
            "Epoch 467/500\n",
            "30/30 [==============================] - 0s 10ms/step - loss: 0.1045 - accuracy: 0.9917 - val_loss: 0.1919 - val_accuracy: 0.9669\n",
            "Epoch 468/500\n",
            "30/30 [==============================] - 0s 10ms/step - loss: 0.1043 - accuracy: 0.9917 - val_loss: 0.1914 - val_accuracy: 0.9669\n",
            "Epoch 469/500\n",
            "30/30 [==============================] - 0s 10ms/step - loss: 0.1037 - accuracy: 0.9917 - val_loss: 0.1911 - val_accuracy: 0.9669\n",
            "Epoch 470/500\n",
            "30/30 [==============================] - 0s 9ms/step - loss: 0.1034 - accuracy: 0.9917 - val_loss: 0.1903 - val_accuracy: 0.9669\n",
            "Epoch 471/500\n",
            "30/30 [==============================] - 0s 9ms/step - loss: 0.1030 - accuracy: 0.9917 - val_loss: 0.1899 - val_accuracy: 0.9669\n",
            "Epoch 472/500\n",
            "30/30 [==============================] - 0s 9ms/step - loss: 0.1026 - accuracy: 0.9917 - val_loss: 0.1893 - val_accuracy: 0.9669\n",
            "Epoch 473/500\n",
            "30/30 [==============================] - 0s 10ms/step - loss: 0.1023 - accuracy: 0.9917 - val_loss: 0.1891 - val_accuracy: 0.9669\n",
            "Epoch 474/500\n",
            "30/30 [==============================] - 0s 9ms/step - loss: 0.1019 - accuracy: 0.9917 - val_loss: 0.1885 - val_accuracy: 0.9669\n",
            "Epoch 475/500\n",
            "30/30 [==============================] - 0s 9ms/step - loss: 0.1015 - accuracy: 0.9917 - val_loss: 0.1885 - val_accuracy: 0.9669\n",
            "Epoch 476/500\n",
            "30/30 [==============================] - 0s 9ms/step - loss: 0.1011 - accuracy: 0.9917 - val_loss: 0.1878 - val_accuracy: 0.9669\n",
            "Epoch 477/500\n",
            "30/30 [==============================] - 0s 10ms/step - loss: 0.1008 - accuracy: 0.9917 - val_loss: 0.1873 - val_accuracy: 0.9669\n",
            "Epoch 478/500\n",
            "30/30 [==============================] - 0s 9ms/step - loss: 0.1004 - accuracy: 0.9917 - val_loss: 0.1869 - val_accuracy: 0.9669\n",
            "Epoch 479/500\n",
            "30/30 [==============================] - 0s 9ms/step - loss: 0.1001 - accuracy: 0.9917 - val_loss: 0.1865 - val_accuracy: 0.9669\n",
            "Epoch 480/500\n",
            "30/30 [==============================] - 0s 9ms/step - loss: 0.0997 - accuracy: 0.9917 - val_loss: 0.1861 - val_accuracy: 0.9669\n",
            "Epoch 481/500\n",
            "30/30 [==============================] - 0s 9ms/step - loss: 0.0994 - accuracy: 0.9917 - val_loss: 0.1855 - val_accuracy: 0.9669\n",
            "Epoch 482/500\n",
            "30/30 [==============================] - 0s 10ms/step - loss: 0.0989 - accuracy: 0.9917 - val_loss: 0.1848 - val_accuracy: 0.9669\n",
            "Epoch 483/500\n",
            "30/30 [==============================] - 0s 9ms/step - loss: 0.0986 - accuracy: 0.9917 - val_loss: 0.1845 - val_accuracy: 0.9669\n",
            "Epoch 484/500\n",
            "30/30 [==============================] - 0s 9ms/step - loss: 0.0983 - accuracy: 0.9937 - val_loss: 0.1842 - val_accuracy: 0.9669\n",
            "Epoch 485/500\n",
            "30/30 [==============================] - 0s 9ms/step - loss: 0.0979 - accuracy: 0.9917 - val_loss: 0.1836 - val_accuracy: 0.9669\n",
            "Epoch 486/500\n",
            "30/30 [==============================] - 0s 9ms/step - loss: 0.0976 - accuracy: 0.9917 - val_loss: 0.1832 - val_accuracy: 0.9669\n",
            "Epoch 487/500\n",
            "30/30 [==============================] - 0s 9ms/step - loss: 0.0973 - accuracy: 0.9917 - val_loss: 0.1829 - val_accuracy: 0.9669\n",
            "Epoch 488/500\n",
            "30/30 [==============================] - 0s 10ms/step - loss: 0.0969 - accuracy: 0.9937 - val_loss: 0.1824 - val_accuracy: 0.9669\n",
            "Epoch 489/500\n",
            "30/30 [==============================] - 0s 9ms/step - loss: 0.0965 - accuracy: 0.9917 - val_loss: 0.1821 - val_accuracy: 0.9669\n",
            "Epoch 490/500\n",
            "30/30 [==============================] - 0s 10ms/step - loss: 0.0962 - accuracy: 0.9937 - val_loss: 0.1815 - val_accuracy: 0.9669\n",
            "Epoch 491/500\n",
            "30/30 [==============================] - 0s 10ms/step - loss: 0.0958 - accuracy: 0.9937 - val_loss: 0.1811 - val_accuracy: 0.9669\n",
            "Epoch 492/500\n",
            "30/30 [==============================] - 0s 9ms/step - loss: 0.0955 - accuracy: 0.9937 - val_loss: 0.1806 - val_accuracy: 0.9669\n",
            "Epoch 493/500\n",
            "30/30 [==============================] - 0s 9ms/step - loss: 0.0950 - accuracy: 0.9937 - val_loss: 0.1799 - val_accuracy: 0.9669\n",
            "Epoch 494/500\n",
            "30/30 [==============================] - 0s 10ms/step - loss: 0.0947 - accuracy: 0.9917 - val_loss: 0.1797 - val_accuracy: 0.9669\n",
            "Epoch 495/500\n",
            "30/30 [==============================] - 0s 10ms/step - loss: 0.0944 - accuracy: 0.9937 - val_loss: 0.1792 - val_accuracy: 0.9669\n",
            "Epoch 496/500\n",
            "30/30 [==============================] - 0s 9ms/step - loss: 0.0941 - accuracy: 0.9917 - val_loss: 0.1788 - val_accuracy: 0.9669\n",
            "Epoch 497/500\n",
            "30/30 [==============================] - 0s 10ms/step - loss: 0.0936 - accuracy: 0.9937 - val_loss: 0.1784 - val_accuracy: 0.9669\n",
            "Epoch 498/500\n",
            "30/30 [==============================] - 0s 9ms/step - loss: 0.0934 - accuracy: 0.9937 - val_loss: 0.1778 - val_accuracy: 0.9669\n",
            "Epoch 499/500\n",
            "30/30 [==============================] - 0s 10ms/step - loss: 0.0931 - accuracy: 0.9937 - val_loss: 0.1774 - val_accuracy: 0.9669\n",
            "Epoch 500/500\n",
            "30/30 [==============================] - 0s 9ms/step - loss: 0.0927 - accuracy: 0.9937 - val_loss: 0.1770 - val_accuracy: 0.9669\n"
          ]
        }
      ],
      "source": [
        "log = model.fit(X_train, y_train, batch_size=bs, epochs=500, validation_data=(X_test, y_test))"
      ]
    },
    {
      "cell_type": "code",
      "execution_count": 62,
      "metadata": {
        "id": "kQ6FwN8eurrg"
      },
      "outputs": [],
      "source": [
        "def show_results(model, log):\n",
        "    loss, acc = model.evaluate(X_test, y_test, batch_size=512, verbose=False)\n",
        "    print(f'Loss     = {loss:.4f}')\n",
        "    print(f'Accuracy = {acc:.4f}')\n",
        "    val_loss = log.history['val_loss']\n",
        "    val_acc = log.history['val_accuracy']\n",
        "    fig, axes = plt.subplots(1, 2, figsize=(14,4))\n",
        "    ax1, ax2 = axes\n",
        "    ax1.plot(log.history['loss'], label='train')\n",
        "    ax1.plot(val_loss, label='test')\n",
        "    ax1.set_xlabel('epoch'); ax1.set_ylabel('loss')\n",
        "    ax2.plot(log.history['accuracy'], label='train')\n",
        "    ax2.plot(val_acc, label='test')\n",
        "    ax2.set_xlabel('epoch'); ax2.set_ylabel('acc')\n",
        "    for ax in axes: ax.legend()"
      ]
    },
    {
      "cell_type": "code",
      "execution_count": 63,
      "metadata": {
        "colab": {
          "base_uri": "https://localhost:8080/",
          "height": 428
        },
        "id": "u2gq4oP4rose",
        "outputId": "566a14b0-67af-4c7d-ee59-39ac59f79e02"
      },
      "outputs": [
        {
          "name": "stdout",
          "output_type": "stream",
          "text": [
            "Loss     = 0.1770\n",
            "Accuracy = 0.9669\n"
          ]
        },
        {
          "data": {
            "image/png": "[encoded data removed]",
            "text/plain": [
              "<Figure size 1400x400 with 2 Axes>"
            ]
          },
          "metadata": {},
          "output_type": "display_data"
        }
      ],
      "source": [
        "show_results(model, log)"
      ]
    },
    {
      "cell_type": "markdown",
      "metadata": {
        "id": "qNgZtFfylqyS"
      },
      "source": [
        "## Probando el modelo"
      ]
    },
    {
      "cell_type": "code",
      "execution_count": 64,
      "metadata": {
        "colab": {
          "base_uri": "https://localhost:8080/",
          "height": 428
        },
        "id": "68Sohfl7g5BT",
        "outputId": "2b6258ec-e4cf-4ee4-8d9c-00673d7bb7b2"
      },
      "outputs": [
        {
          "data": {
            "image/png": "[encoded data removed]",
            "text/plain": [
              "<Figure size 640x480 with 1 Axes>"
            ]
          },
          "metadata": {},
          "output_type": "display_data"
        }
      ],
      "source": [
        "idx = np.random.choice(X_test.shape[0], 1)[0]\n",
        "im = X_test[idx]\n",
        "label = y_test[idx]\n",
        "plt.title('(test) id:{} val:{}'.format(idx, label ))\n",
        "plt.axis('off')\n",
        "plt.imshow(-im[:,:,0], cmap='gray')\n",
        "plt.show()"
      ]
    },
    {
      "cell_type": "markdown",
      "metadata": {
        "id": "v3W6WqMvmRP5"
      },
      "source": [
        "## Usando el modelo entrenado"
      ]
    },
    {
      "cell_type": "code",
      "execution_count": 65,
      "metadata": {
        "colab": {
          "base_uri": "https://localhost:8080/"
        },
        "id": "arNeSd_gmB2Y",
        "outputId": "130ca75f-2010-43ed-b818-0893ebac92f8"
      },
      "outputs": [
        {
          "data": {
            "text/plain": [
              "array([3.9431590e-04, 1.5163384e-03, 5.8811256e-03, 9.9220818e-01],\n",
              "      dtype=float32)"
            ]
          },
          "execution_count": 65,
          "metadata": {},
          "output_type": "execute_result"
        }
      ],
      "source": [
        "salida = model.predict(im[None,:,:,:])[0]\n",
        "salida"
      ]
    },
    {
      "cell_type": "code",
      "execution_count": 66,
      "metadata": {
        "colab": {
          "base_uri": "https://localhost:8080/",
          "height": 490
        },
        "id": "kxGGKcpIm7Ch",
        "outputId": "af84f0b6-c692-4e6c-981b-f2243abb6e21"
      },
      "outputs": [
        {
          "data": {
            "text/plain": [
              "[]"
            ]
          },
          "execution_count": 66,
          "metadata": {},
          "output_type": "execute_result"
        },
        {
          "data": {
            "image/png": "[encoded data removed]",
            "text/plain": [
              "<Figure size 640x480 with 1 Axes>"
            ]
          },
          "metadata": {},
          "output_type": "display_data"
        }
      ],
      "source": [
        "plt.figure()\n",
        "plt.title(\"Predicción: {} Label: {}\".format(salida.argmax(), label ))\n",
        "plt.ylabel(\"Probabilidad\")\n",
        "plt.xlabel(\"Dígito\")\n",
        "plt.ylim([0,1])\n",
        "plt.bar(np.arange(4), salida)\n",
        "plt.plot()"
      ]
    },
    {
      "cell_type": "markdown",
      "metadata": {},
      "source": [
        "Para guardar el modelo"
      ]
    },
    {
      "cell_type": "code",
      "execution_count": 67,
      "metadata": {},
      "outputs": [],
      "source": [
        "model.save('modelo_entrenado.h5')"
      ]
    }
  ],
  "metadata": {
    "colab": {
      "provenance": []
    },
    "kernelspec": {
      "display_name": "Python 3",
      "name": "python3"
    },
    "language_info": {
      "codemirror_mode": {
        "name": "ipython",
        "version": 3
      },
      "file_extension": ".py",
      "mimetype": "text/x-python",
      "name": "python",
      "nbconvert_exporter": "python",
      "pygments_lexer": "ipython3",
      "version": "3.11.5"
    }
  },
  "nbformat": 4,
  "nbformat_minor": 0
}
