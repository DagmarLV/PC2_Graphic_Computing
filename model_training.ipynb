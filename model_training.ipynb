{
  "cells": [
    {
      "cell_type": "code",
      "execution_count": 2,
      "metadata": {
        "colab": {
          "base_uri": "https://localhost:8080/"
        },
        "id": "VLZYdRYszoHV",
        "outputId": "fe034d7b-0752-4ef5-9d48-38cb1f455c73"
      },
      "outputs": [
        {
          "name": "stdout",
          "output_type": "stream",
          "text": [
            "Collecting q\n",
            "  Downloading q-2.7-py2.py3-none-any.whl (10 kB)\n",
            "Collecting keras==2.2.4\n",
            "  Downloading Keras-2.2.4-py2.py3-none-any.whl (312 kB)\n",
            "     -------------------------------------- 312.5/312.5 kB 6.4 MB/s eta 0:00:00\n",
            "Collecting pyyaml\n",
            "  Downloading PyYAML-6.0.1-cp39-cp39-win_amd64.whl (152 kB)\n",
            "     -------------------------------------- 152.8/152.8 kB 4.6 MB/s eta 0:00:00\n",
            "Requirement already satisfied: scipy>=0.14 in c:\\users\\nicole\\appdata\\local\\programs\\python\\python39\\lib\\site-packages (from keras==2.2.4) (1.8.1)\n",
            "Requirement already satisfied: six>=1.9.0 in c:\\users\\nicole\\appdata\\local\\programs\\python\\python39\\lib\\site-packages (from keras==2.2.4) (1.16.0)\n",
            "Collecting h5py\n",
            "  Downloading h5py-3.9.0-cp39-cp39-win_amd64.whl (2.7 MB)\n",
            "     ---------------------------------------- 2.7/2.7 MB 19.1 MB/s eta 0:00:00\n",
            "Collecting keras-preprocessing>=1.0.5\n",
            "  Downloading Keras_Preprocessing-1.1.2-py2.py3-none-any.whl (42 kB)\n",
            "     ---------------------------------------- 42.6/42.6 kB ? eta 0:00:00\n",
            "Requirement already satisfied: numpy>=1.9.1 in c:\\users\\nicole\\appdata\\local\\programs\\python\\python39\\lib\\site-packages (from keras==2.2.4) (1.22.4)\n",
            "Collecting keras-applications>=1.0.6\n",
            "  Downloading Keras_Applications-1.0.8-py3-none-any.whl (50 kB)\n",
            "     ---------------------------------------- 50.7/50.7 kB 2.5 MB/s eta 0:00:00\n",
            "Installing collected packages: q, pyyaml, keras-preprocessing, h5py, keras-applications, keras\n",
            "Successfully installed h5py-3.9.0 keras-2.2.4 keras-applications-1.0.8 keras-preprocessing-1.1.2 pyyaml-6.0.1 q-2.7\n",
            "\n",
            "[notice] A new release of pip available: 22.1.2 -> 23.2.1\n",
            "[notice] To update, run: python.exe -m pip install --upgrade pip\n",
            "Note: you may need to restart the kernel to use updated packages.\n",
            "Collecting tensorflow==2.12\n",
            "  Downloading tensorflow-2.12.0-cp39-cp39-win_amd64.whl (1.9 kB)\n",
            "Collecting tensorflow-intel==2.12.0\n",
            "  Downloading tensorflow_intel-2.12.0-cp39-cp39-win_amd64.whl (272.8 MB)\n",
            "     -------------------------------------- 272.8/272.8 MB 6.4 MB/s eta 0:00:00\n",
            "Requirement already satisfied: numpy<1.24,>=1.22 in c:\\users\\nicole\\appdata\\local\\programs\\python\\python39\\lib\\site-packages (from tensorflow-intel==2.12.0->tensorflow==2.12) (1.22.4)\n",
            "Requirement already satisfied: setuptools in c:\\users\\nicole\\appdata\\local\\programs\\python\\python39\\lib\\site-packages (from tensorflow-intel==2.12.0->tensorflow==2.12) (58.1.0)\n",
            "Collecting absl-py>=1.0.0\n",
            "  Downloading absl_py-2.0.0-py3-none-any.whl (130 kB)\n",
            "     -------------------------------------- 130.2/130.2 kB 7.5 MB/s eta 0:00:00\n",
            "Collecting protobuf!=4.21.0,!=4.21.1,!=4.21.2,!=4.21.3,!=4.21.4,!=4.21.5,<5.0.0dev,>=3.20.3\n",
            "  Downloading protobuf-4.24.4-cp39-cp39-win_amd64.whl (430 kB)\n",
            "     ------------------------------------- 430.5/430.5 kB 26.3 MB/s eta 0:00:00\n",
            "Collecting opt-einsum>=2.3.2\n",
            "  Downloading opt_einsum-3.3.0-py3-none-any.whl (65 kB)\n",
            "     ---------------------------------------- 65.5/65.5 kB ? eta 0:00:00\n",
            "Collecting grpcio<2.0,>=1.24.3\n",
            "  Downloading grpcio-1.59.0-cp39-cp39-win_amd64.whl (3.7 MB)\n",
            "     ---------------------------------------- 3.7/3.7 MB 26.0 MB/s eta 0:00:00\n",
            "Collecting keras<2.13,>=2.12.0\n",
            "  Downloading keras-2.12.0-py2.py3-none-any.whl (1.7 MB)\n",
            "     ---------------------------------------- 1.7/1.7 MB 27.9 MB/s eta 0:00:00\n",
            "Collecting libclang>=13.0.0\n",
            "  Downloading libclang-16.0.6-py2.py3-none-win_amd64.whl (24.4 MB)\n",
            "     --------------------------------------- 24.4/24.4 MB 19.3 MB/s eta 0:00:00\n",
            "Collecting termcolor>=1.1.0\n",
            "  Downloading termcolor-2.3.0-py3-none-any.whl (6.9 kB)\n",
            "Collecting tensorflow-estimator<2.13,>=2.12.0\n",
            "  Downloading tensorflow_estimator-2.12.0-py2.py3-none-any.whl (440 kB)\n",
            "     ------------------------------------- 440.7/440.7 kB 26.9 MB/s eta 0:00:00\n",
            "Requirement already satisfied: six>=1.12.0 in c:\\users\\nicole\\appdata\\local\\programs\\python\\python39\\lib\\site-packages (from tensorflow-intel==2.12.0->tensorflow==2.12) (1.16.0)\n",
            "Collecting tensorflow-io-gcs-filesystem>=0.23.1\n",
            "  Downloading tensorflow_io_gcs_filesystem-0.31.0-cp39-cp39-win_amd64.whl (1.5 MB)\n",
            "     ---------------------------------------- 1.5/1.5 MB 18.9 MB/s eta 0:00:00\n",
            "Collecting wrapt<1.15,>=1.11.0\n",
            "  Downloading wrapt-1.14.1-cp39-cp39-win_amd64.whl (35 kB)\n",
            "Collecting tensorboard<2.13,>=2.12\n",
            "  Downloading tensorboard-2.12.3-py3-none-any.whl (5.6 MB)\n",
            "     ---------------------------------------- 5.6/5.6 MB 21.2 MB/s eta 0:00:00\n",
            "Collecting flatbuffers>=2.0\n",
            "  Downloading flatbuffers-23.5.26-py2.py3-none-any.whl (26 kB)\n",
            "Requirement already satisfied: h5py>=2.9.0 in c:\\users\\nicole\\appdata\\local\\programs\\python\\python39\\lib\\site-packages (from tensorflow-intel==2.12.0->tensorflow==2.12) (3.9.0)\n",
            "Collecting jax>=0.3.15\n",
            "  Downloading jax-0.4.18-py3-none-any.whl (1.7 MB)\n",
            "     ---------------------------------------- 1.7/1.7 MB 21.1 MB/s eta 0:00:00\n",
            "Collecting gast<=0.4.0,>=0.2.1\n",
            "  Downloading gast-0.4.0-py3-none-any.whl (9.8 kB)\n",
            "Collecting google-pasta>=0.1.1\n",
            "  Downloading google_pasta-0.2.0-py3-none-any.whl (57 kB)\n",
            "     ---------------------------------------- 57.5/57.5 kB ? eta 0:00:00\n",
            "Requirement already satisfied: typing-extensions>=3.6.6 in c:\\users\\nicole\\appdata\\roaming\\python\\python39\\site-packages (from tensorflow-intel==2.12.0->tensorflow==2.12) (4.7.1)\n",
            "Requirement already satisfied: packaging in c:\\users\\nicole\\appdata\\local\\programs\\python\\python39\\lib\\site-packages (from tensorflow-intel==2.12.0->tensorflow==2.12) (21.3)\n",
            "Collecting astunparse>=1.6.0\n",
            "  Downloading astunparse-1.6.3-py2.py3-none-any.whl (12 kB)\n",
            "Collecting wheel<1.0,>=0.23.0\n",
            "  Downloading wheel-0.41.2-py3-none-any.whl (64 kB)\n",
            "     ---------------------------------------- 64.8/64.8 kB ? eta 0:00:00\n",
            "Requirement already satisfied: importlib-metadata>=4.6 in c:\\users\\nicole\\appdata\\roaming\\python\\python39\\site-packages (from jax>=0.3.15->tensorflow-intel==2.12.0->tensorflow==2.12) (6.8.0)\n",
            "Requirement already satisfied: scipy>=1.7 in c:\\users\\nicole\\appdata\\local\\programs\\python\\python39\\lib\\site-packages (from jax>=0.3.15->tensorflow-intel==2.12.0->tensorflow==2.12) (1.8.1)\n",
            "Collecting ml-dtypes>=0.2.0\n",
            "  Downloading ml_dtypes-0.3.1-cp39-cp39-win_amd64.whl (126 kB)\n",
            "     ---------------------------------------- 126.7/126.7 kB ? eta 0:00:00\n",
            "Collecting werkzeug>=1.0.1\n",
            "  Using cached werkzeug-3.0.0-py3-none-any.whl (226 kB)\n",
            "Collecting requests<3,>=2.21.0\n",
            "  Downloading requests-2.31.0-py3-none-any.whl (62 kB)\n",
            "     ---------------------------------------- 62.6/62.6 kB 3.5 MB/s eta 0:00:00\n",
            "Collecting google-auth<3,>=1.6.3\n",
            "  Downloading google_auth-2.23.2-py2.py3-none-any.whl (181 kB)\n",
            "     ------------------------------------- 182.0/182.0 kB 10.7 MB/s eta 0:00:00\n",
            "Collecting tensorboard-data-server<0.8.0,>=0.7.0\n",
            "  Downloading tensorboard_data_server-0.7.1-py3-none-any.whl (2.4 kB)\n",
            "Collecting google-auth-oauthlib<1.1,>=0.5\n",
            "  Downloading google_auth_oauthlib-1.0.0-py2.py3-none-any.whl (18 kB)\n",
            "Collecting markdown>=2.6.8\n",
            "  Downloading Markdown-3.5-py3-none-any.whl (101 kB)\n",
            "     ---------------------------------------- 101.7/101.7 kB ? eta 0:00:00\n",
            "Requirement already satisfied: pyparsing!=3.0.5,>=2.0.2 in c:\\users\\nicole\\appdata\\local\\programs\\python\\python39\\lib\\site-packages (from packaging->tensorflow-intel==2.12.0->tensorflow==2.12) (3.0.9)\n",
            "Collecting rsa<5,>=3.1.4\n",
            "  Downloading rsa-4.9-py3-none-any.whl (34 kB)\n",
            "Collecting pyasn1-modules>=0.2.1\n",
            "  Downloading pyasn1_modules-0.3.0-py2.py3-none-any.whl (181 kB)\n",
            "     ---------------------------------------- 181.3/181.3 kB ? eta 0:00:00\n",
            "Collecting cachetools<6.0,>=2.0.0\n",
            "  Downloading cachetools-5.3.1-py3-none-any.whl (9.3 kB)\n",
            "Collecting requests-oauthlib>=0.7.0\n",
            "  Downloading requests_oauthlib-1.3.1-py2.py3-none-any.whl (23 kB)\n",
            "Requirement already satisfied: zipp>=0.5 in c:\\users\\nicole\\appdata\\roaming\\python\\python39\\site-packages (from importlib-metadata>=4.6->jax>=0.3.15->tensorflow-intel==2.12.0->tensorflow==2.12) (3.16.2)\n",
            "Collecting charset-normalizer<4,>=2\n",
            "  Downloading charset_normalizer-3.3.0-cp39-cp39-win_amd64.whl (98 kB)\n",
            "     ---------------------------------------- 98.2/98.2 kB ? eta 0:00:00\n",
            "Collecting urllib3<3,>=1.21.1\n",
            "  Downloading urllib3-2.0.6-py3-none-any.whl (123 kB)\n",
            "     ---------------------------------------- 123.8/123.8 kB ? eta 0:00:00\n",
            "Collecting idna<4,>=2.5\n",
            "  Downloading idna-3.4-py3-none-any.whl (61 kB)\n",
            "     ---------------------------------------- 61.5/61.5 kB ? eta 0:00:00\n",
            "Collecting certifi>=2017.4.17\n",
            "  Downloading certifi-2023.7.22-py3-none-any.whl (158 kB)\n",
            "     -------------------------------------- 158.3/158.3 kB 9.9 MB/s eta 0:00:00\n",
            "Collecting MarkupSafe>=2.1.1\n",
            "  Downloading MarkupSafe-2.1.3-cp39-cp39-win_amd64.whl (17 kB)\n",
            "Collecting pyasn1<0.6.0,>=0.4.6\n",
            "  Downloading pyasn1-0.5.0-py2.py3-none-any.whl (83 kB)\n",
            "     ---------------------------------------- 83.9/83.9 kB ? eta 0:00:00\n",
            "Collecting oauthlib>=3.0.0\n",
            "  Downloading oauthlib-3.2.2-py3-none-any.whl (151 kB)\n",
            "     ---------------------------------------- 151.7/151.7 kB ? eta 0:00:00\n",
            "Installing collected packages: libclang, flatbuffers, wrapt, wheel, urllib3, termcolor, tensorflow-io-gcs-filesystem, tensorflow-estimator, tensorboard-data-server, pyasn1, protobuf, opt-einsum, oauthlib, ml-dtypes, MarkupSafe, keras, idna, grpcio, google-pasta, gast, charset-normalizer, certifi, cachetools, absl-py, werkzeug, rsa, requests, pyasn1-modules, markdown, jax, astunparse, requests-oauthlib, google-auth, google-auth-oauthlib, tensorboard, tensorflow-intel, tensorflow\n",
            "  Attempting uninstall: keras\n",
            "    Found existing installation: Keras 2.2.4\n",
            "    Uninstalling Keras-2.2.4:\n",
            "      Successfully uninstalled Keras-2.2.4\n",
            "Successfully installed MarkupSafe-2.1.3 absl-py-2.0.0 astunparse-1.6.3 cachetools-5.3.1 certifi-2023.7.22 charset-normalizer-3.3.0 flatbuffers-23.5.26 gast-0.4.0 google-auth-2.23.2 google-auth-oauthlib-1.0.0 google-pasta-0.2.0 grpcio-1.59.0 idna-3.4 jax-0.4.18 keras-2.12.0 libclang-16.0.6 markdown-3.5 ml-dtypes-0.3.1 oauthlib-3.2.2 opt-einsum-3.3.0 protobuf-4.24.4 pyasn1-0.5.0 pyasn1-modules-0.3.0 requests-2.31.0 requests-oauthlib-1.3.1 rsa-4.9 tensorboard-2.12.3 tensorboard-data-server-0.7.1 tensorflow-2.12.0 tensorflow-estimator-2.12.0 tensorflow-intel-2.12.0 tensorflow-io-gcs-filesystem-0.31.0 termcolor-2.3.0 urllib3-2.0.6 werkzeug-3.0.0 wheel-0.41.2 wrapt-1.14.1\n",
            "\n",
            "[notice] A new release of pip available: 22.1.2 -> 23.2.1\n",
            "[notice] To update, run: python.exe -m pip install --upgrade pip\n",
            "Note: you may need to restart the kernel to use updated packages.\n"
          ]
        },
        {
          "name": "stderr",
          "output_type": "stream",
          "text": [
            "  WARNING: The script wheel.exe is installed in 'c:\\Users\\Nicole\\AppData\\Local\\Programs\\Python\\Python39\\Scripts' which is not on PATH.\n",
            "  Consider adding this directory to PATH or, if you prefer to suppress this warning, use --no-warn-script-location.\n",
            "  WARNING: The script normalizer.exe is installed in 'c:\\Users\\Nicole\\AppData\\Local\\Programs\\Python\\Python39\\Scripts' which is not on PATH.\n",
            "  Consider adding this directory to PATH or, if you prefer to suppress this warning, use --no-warn-script-location.\n",
            "  WARNING: The scripts pyrsa-decrypt.exe, pyrsa-encrypt.exe, pyrsa-keygen.exe, pyrsa-priv2pub.exe, pyrsa-sign.exe and pyrsa-verify.exe are installed in 'c:\\Users\\Nicole\\AppData\\Local\\Programs\\Python\\Python39\\Scripts' which is not on PATH.\n",
            "  Consider adding this directory to PATH or, if you prefer to suppress this warning, use --no-warn-script-location.\n",
            "  WARNING: The script markdown_py.exe is installed in 'c:\\Users\\Nicole\\AppData\\Local\\Programs\\Python\\Python39\\Scripts' which is not on PATH.\n",
            "  Consider adding this directory to PATH or, if you prefer to suppress this warning, use --no-warn-script-location.\n",
            "  WARNING: The script google-oauthlib-tool.exe is installed in 'c:\\Users\\Nicole\\AppData\\Local\\Programs\\Python\\Python39\\Scripts' which is not on PATH.\n",
            "  Consider adding this directory to PATH or, if you prefer to suppress this warning, use --no-warn-script-location.\n",
            "  WARNING: The script tensorboard.exe is installed in 'c:\\Users\\Nicole\\AppData\\Local\\Programs\\Python\\Python39\\Scripts' which is not on PATH.\n",
            "  Consider adding this directory to PATH or, if you prefer to suppress this warning, use --no-warn-script-location.\n",
            "  WARNING: The scripts estimator_ckpt_converter.exe, import_pb_to_tensorboard.exe, saved_model_cli.exe, tensorboard.exe, tf_upgrade_v2.exe, tflite_convert.exe, toco.exe and toco_from_protos.exe are installed in 'c:\\Users\\Nicole\\AppData\\Local\\Programs\\Python\\Python39\\Scripts' which is not on PATH.\n",
            "  Consider adding this directory to PATH or, if you prefer to suppress this warning, use --no-warn-script-location.\n"
          ]
        }
      ],
      "source": [
        "%pip install q keras==2.2.4\n",
        "%pip install tensorflow==2.12"
      ]
    },
    {
      "cell_type": "code",
      "execution_count": 3,
      "metadata": {
        "colab": {
          "base_uri": "https://localhost:8080/"
        },
        "id": "m1pnW3AKsfRs",
        "outputId": "1f2d983a-1997-4534-bf8e-e1c1689d9401"
      },
      "outputs": [
        {
          "name": "stdout",
          "output_type": "stream",
          "text": [
            "2.12.0\n"
          ]
        }
      ],
      "source": [
        "import tensorflow as tf\n",
        "print(tf.__version__)\n"
      ]
    },
    {
      "cell_type": "code",
      "execution_count": 5,
      "metadata": {},
      "outputs": [
        {
          "name": "stdout",
          "output_type": "stream",
          "text": [
            "Collecting scikit-image\n",
            "  Downloading scikit_image-0.22.0-cp39-cp39-win_amd64.whl (24.5 MB)\n",
            "     --------------------------------------- 24.5/24.5 MB 23.3 MB/s eta 0:00:00\n",
            "Requirement already satisfied: pillow>=9.0.1 in c:\\users\\nicole\\appdata\\local\\programs\\python\\python39\\lib\\site-packages (from scikit-image) (9.1.1)\n",
            "Requirement already satisfied: numpy>=1.22 in c:\\users\\nicole\\appdata\\local\\programs\\python\\python39\\lib\\site-packages (from scikit-image) (1.22.4)\n",
            "Requirement already satisfied: scipy>=1.8 in c:\\users\\nicole\\appdata\\local\\programs\\python\\python39\\lib\\site-packages (from scikit-image) (1.8.1)\n",
            "Collecting imageio>=2.27\n",
            "  Using cached imageio-2.31.5-py3-none-any.whl (313 kB)\n",
            "Requirement already satisfied: packaging>=21 in c:\\users\\nicole\\appdata\\local\\programs\\python\\python39\\lib\\site-packages (from scikit-image) (21.3)\n",
            "Collecting lazy_loader>=0.3\n",
            "  Using cached lazy_loader-0.3-py3-none-any.whl (9.1 kB)\n",
            "Collecting networkx>=2.8\n",
            "  Using cached networkx-3.1-py3-none-any.whl (2.1 MB)\n",
            "Collecting tifffile>=2022.8.12\n",
            "  Using cached tifffile-2023.9.26-py3-none-any.whl (222 kB)\n",
            "Requirement already satisfied: pyparsing!=3.0.5,>=2.0.2 in c:\\users\\nicole\\appdata\\local\\programs\\python\\python39\\lib\\site-packages (from packaging>=21->scikit-image) (3.0.9)\n",
            "Installing collected packages: tifffile, networkx, lazy_loader, imageio, scikit-image\n",
            "Successfully installed imageio-2.31.5 lazy_loader-0.3 networkx-3.1 scikit-image-0.22.0 tifffile-2023.9.26\n",
            "\n",
            "[notice] A new release of pip available: 22.1.2 -> 23.2.1\n",
            "[notice] To update, run: python.exe -m pip install --upgrade pip\n",
            "Note: you may need to restart the kernel to use updated packages.\n"
          ]
        },
        {
          "name": "stderr",
          "output_type": "stream",
          "text": [
            "  WARNING: The scripts lsm2bin.exe, tiff2fsspec.exe, tiffcomment.exe and tifffile.exe are installed in 'c:\\Users\\Nicole\\AppData\\Local\\Programs\\Python\\Python39\\Scripts' which is not on PATH.\n",
            "  Consider adding this directory to PATH or, if you prefer to suppress this warning, use --no-warn-script-location.\n",
            "  WARNING: The scripts imageio_download_bin.exe and imageio_remove_bin.exe are installed in 'c:\\Users\\Nicole\\AppData\\Local\\Programs\\Python\\Python39\\Scripts' which is not on PATH.\n",
            "  Consider adding this directory to PATH or, if you prefer to suppress this warning, use --no-warn-script-location.\n"
          ]
        }
      ],
      "source": [
        "%pip install scikit-image"
      ]
    },
    {
      "cell_type": "code",
      "execution_count": 7,
      "metadata": {},
      "outputs": [
        {
          "name": "stdout",
          "output_type": "stream",
          "text": [
            "Collecting scikit-learn\n",
            "  Downloading scikit_learn-1.3.1-cp39-cp39-win_amd64.whl (9.3 MB)\n",
            "     ---------------------------------------- 9.3/9.3 MB 19.9 MB/s eta 0:00:00\n",
            "Requirement already satisfied: numpy<2.0,>=1.17.3 in c:\\users\\nicole\\appdata\\local\\programs\\python\\python39\\lib\\site-packages (from scikit-learn) (1.22.4)\n",
            "Collecting threadpoolctl>=2.0.0\n",
            "  Downloading threadpoolctl-3.2.0-py3-none-any.whl (15 kB)\n",
            "Collecting joblib>=1.1.1\n",
            "  Downloading joblib-1.3.2-py3-none-any.whl (302 kB)\n",
            "     ------------------------------------- 302.2/302.2 kB 19.5 MB/s eta 0:00:00\n",
            "Requirement already satisfied: scipy>=1.5.0 in c:\\users\\nicole\\appdata\\local\\programs\\python\\python39\\lib\\site-packages (from scikit-learn) (1.8.1)\n",
            "Installing collected packages: threadpoolctl, joblib, scikit-learn\n",
            "Successfully installed joblib-1.3.2 scikit-learn-1.3.1 threadpoolctl-3.2.0\n",
            "\n",
            "[notice] A new release of pip available: 22.1.2 -> 23.2.1\n",
            "[notice] To update, run: python.exe -m pip install --upgrade pip\n",
            "Note: you may need to restart the kernel to use updated packages.\n"
          ]
        }
      ],
      "source": [
        "%pip install scikit-learn"
      ]
    },
    {
      "cell_type": "code",
      "execution_count": 2,
      "metadata": {},
      "outputs": [
        {
          "name": "stdout",
          "output_type": "stream",
          "text": [
            "Collecting matplotlib\n",
            "  Downloading matplotlib-3.8.0-cp310-cp310-win_amd64.whl (7.6 MB)\n",
            "     ---------------------------------------- 7.6/7.6 MB 10.2 MB/s eta 0:00:00\n",
            "Requirement already satisfied: pillow>=6.2.0 in c:\\python310\\lib\\site-packages (from matplotlib) (10.0.1)\n",
            "Collecting kiwisolver>=1.0.1\n",
            "  Downloading kiwisolver-1.4.5-cp310-cp310-win_amd64.whl (56 kB)\n",
            "     ---------------------------------------- 56.1/56.1 KB ? eta 0:00:00\n",
            "Requirement already satisfied: python-dateutil>=2.7 in c:\\users\\nicole\\appdata\\roaming\\python\\python310\\site-packages (from matplotlib) (2.8.2)\n",
            "Collecting pyparsing>=2.3.1\n",
            "  Downloading pyparsing-3.1.1-py3-none-any.whl (103 kB)\n",
            "     ---------------------------------------- 103.1/103.1 KB ? eta 0:00:00\n",
            "Collecting fonttools>=4.22.0\n",
            "  Downloading fonttools-4.43.1-cp310-cp310-win_amd64.whl (2.1 MB)\n",
            "     ---------------------------------------- 2.1/2.1 MB 12.4 MB/s eta 0:00:00\n",
            "Requirement already satisfied: packaging>=20.0 in c:\\python310\\lib\\site-packages (from matplotlib) (23.2)\n",
            "Collecting cycler>=0.10\n",
            "  Downloading cycler-0.12.1-py3-none-any.whl (8.3 kB)\n",
            "Collecting contourpy>=1.0.1\n",
            "  Downloading contourpy-1.1.1-cp310-cp310-win_amd64.whl (477 kB)\n",
            "     ------------------------------------- 478.0/478.0 KB 15.1 MB/s eta 0:00:00\n",
            "Requirement already satisfied: numpy<2,>=1.21 in c:\\users\\nicole\\appdata\\roaming\\python\\python310\\site-packages (from matplotlib) (1.23.5)\n",
            "Requirement already satisfied: six>=1.5 in c:\\python310\\lib\\site-packages (from python-dateutil>=2.7->matplotlib) (1.16.0)\n",
            "Installing collected packages: pyparsing, kiwisolver, fonttools, cycler, contourpy, matplotlib\n",
            "Note: you may need to restart the kernel to use updated packages.\n"
          ]
        },
        {
          "name": "stderr",
          "output_type": "stream",
          "text": [
            "WARNING: Ignoring invalid distribution -p (c:\\python310\\lib\\site-packages)\n",
            "WARNING: Ignoring invalid distribution -ip (c:\\python310\\lib\\site-packages)\n",
            "WARNING: Ignoring invalid distribution - (c:\\python310\\lib\\site-packages)\n",
            "WARNING: Ignoring invalid distribution -p (c:\\python310\\lib\\site-packages)\n",
            "WARNING: Ignoring invalid distribution -ip (c:\\python310\\lib\\site-packages)\n",
            "WARNING: Ignoring invalid distribution - (c:\\python310\\lib\\site-packages)\n",
            "WARNING: Ignoring invalid distribution -p (c:\\python310\\lib\\site-packages)\n",
            "WARNING: Ignoring invalid distribution -ip (c:\\python310\\lib\\site-packages)\n",
            "WARNING: Ignoring invalid distribution - (c:\\python310\\lib\\site-packages)\n",
            "ERROR: Could not install packages due to an OSError: [WinError 5] Acceso denegado: 'c:\\\\Python310\\\\share'\n",
            "Consider using the `--user` option or check the permissions.\n",
            "\n",
            "WARNING: Ignoring invalid distribution -p (c:\\python310\\lib\\site-packages)\n",
            "WARNING: Ignoring invalid distribution -ip (c:\\python310\\lib\\site-packages)\n",
            "WARNING: Ignoring invalid distribution - (c:\\python310\\lib\\site-packages)\n",
            "WARNING: Ignoring invalid distribution -p (c:\\python310\\lib\\site-packages)\n",
            "WARNING: Ignoring invalid distribution -ip (c:\\python310\\lib\\site-packages)\n",
            "WARNING: Ignoring invalid distribution - (c:\\python310\\lib\\site-packages)\n",
            "WARNING: Ignoring invalid distribution -p (c:\\python310\\lib\\site-packages)\n",
            "WARNING: Ignoring invalid distribution -ip (c:\\python310\\lib\\site-packages)\n",
            "WARNING: Ignoring invalid distribution - (c:\\python310\\lib\\site-packages)\n",
            "WARNING: You are using pip version 22.0.4; however, version 23.2.1 is available.\n",
            "You should consider upgrading via the 'c:\\Python310\\python.exe -m pip install --upgrade pip' command.\n"
          ]
        }
      ],
      "source": [
        "%pip install matplotlib"
      ]
    },
    {
      "cell_type": "code",
      "execution_count": 6,
      "metadata": {
        "id": "M4tg9AulnhRa"
      },
      "outputs": [],
      "source": [
        "import numpy as np\n",
        "import matplotlib.pyplot as plt\n",
        "from skimage.transform import resize\n",
        "from sklearn.model_selection import train_test_split"
      ]
    },
    {
      "cell_type": "code",
      "execution_count": 7,
      "metadata": {
        "colab": {
          "base_uri": "https://localhost:8080/"
        },
        "id": "f2pbBqnSLYc8",
        "outputId": "baeb7d9d-8b33-4d06-c4ef-d152fe293f3e"
      },
      "outputs": [
        {
          "name": "stdout",
          "output_type": "stream",
          "text": [
            "Thu Oct 12 01:44:11 2023       \n",
            "+-----------------------------------------------------------------------------+\n",
            "| NVIDIA-SMI 512.78       Driver Version: 512.78       CUDA Version: 11.6     |\n",
            "|-------------------------------+----------------------+----------------------+\n",
            "| GPU  Name            TCC/WDDM | Bus-Id        Disp.A | Volatile Uncorr. ECC |\n",
            "| Fan  Temp  Perf  Pwr:Usage/Cap|         Memory-Usage | GPU-Util  Compute M. |\n",
            "|                               |                      |               MIG M. |\n",
            "|===============================+======================+======================|\n",
            "|   0  NVIDIA GeForce ... WDDM  | 00000000:01:00.0 Off |                  N/A |\n",
            "| N/A   42C    P8     3W /  N/A |      0MiB /  6144MiB |      0%      Default |\n",
            "|                               |                      |                  N/A |\n",
            "+-------------------------------+----------------------+----------------------+\n",
            "                                                                               \n",
            "+-----------------------------------------------------------------------------+\n",
            "| Processes:                                                                  |\n",
            "|  GPU   GI   CI        PID   Type   Process name                  GPU Memory |\n",
            "|        ID   ID                                                   Usage      |\n",
            "|=============================================================================|\n",
            "|    0   N/A  N/A     11696      C   ...\\app-1.0.9018\\Discord.exe    N/A      |\n",
            "+-----------------------------------------------------------------------------+\n"
          ]
        }
      ],
      "source": [
        "!nvidia-smi"
      ]
    },
    {
      "cell_type": "markdown",
      "metadata": {
        "id": "L3cG-u68k4NB"
      },
      "source": [
        "### Preparar datos"
      ]
    },
    {
      "cell_type": "code",
      "execution_count": 8,
      "metadata": {
        "id": "DOzikEiN9niE"
      },
      "outputs": [],
      "source": [
        "X_raw = np.load('X.npy')\n",
        "X_raw = X_raw/255.\n",
        "y = np.load('y.npy')\n",
        "X = []\n",
        "size = (28,28)\n",
        "for x in X_raw:\n",
        "    X.append(resize(x, size))\n",
        "X = np.array(X)"
      ]
    },
    {
      "cell_type": "code",
      "execution_count": 9,
      "metadata": {
        "colab": {
          "base_uri": "https://localhost:8080/",
          "height": 491
        },
        "id": "Us59s3Blpi_y",
        "outputId": "fb5c89e0-7652-4460-8cef-4a993467de32"
      },
      "outputs": [
        {
          "data": {
            "text/plain": [
              "[]"
            ]
          },
          "execution_count": 9,
          "metadata": {},
          "output_type": "execute_result"
        },
        {
          "data": {
            "image/png": "[encoded data removed]",
            "text/plain": [
              "<Figure size 640x480 with 1 Axes>"
            ]
          },
          "metadata": {},
          "output_type": "display_data"
        }
      ],
      "source": [
        "plt.figure()\n",
        "plt.title(\"Cantidad de muestras x dígito\")\n",
        "plt.ylabel(\"Cantidad\")\n",
        "plt.xlabel(\"Dígito\")\n",
        "plt.hist(y, bins=4)\n",
        "plt.plot()"
      ]
    },
    {
      "cell_type": "markdown",
      "metadata": {
        "id": "VnygyOx_kVgV"
      },
      "source": [
        "### Visualizando el `dataset`"
      ]
    },
    {
      "cell_type": "code",
      "execution_count": 10,
      "metadata": {
        "colab": {
          "base_uri": "https://localhost:8080/",
          "height": 744
        },
        "id": "XPuhkifOjMas",
        "outputId": "acb69e5f-7317-4b54-f651-c7a3f729472f"
      },
      "outputs": [
        {
          "data": {
            "image/png": "[encoded data removed]",
            "text/plain": [
              "<Figure size 2000x1000 with 25 Axes>"
            ]
          },
          "metadata": {},
          "output_type": "display_data"
        }
      ],
      "source": [
        "plt.figure(figsize=(20,10))\n",
        "for i in range(25):\n",
        "    plt.subplot(5,5, i+1)\n",
        "    idx = np.random.choice(X.shape[0], 1)[0]\n",
        "    plt.title('id:{} val:{}'.format(idx, y[idx] ))\n",
        "    plt.imshow(-X[idx], cmap='gray')\n",
        "    plt.axis('off')\n",
        "plt.show()"
      ]
    },
    {
      "cell_type": "markdown",
      "metadata": {
        "id": "ADHOOaWik7BQ"
      },
      "source": [
        "### Split de train-test"
      ]
    },
    {
      "cell_type": "code",
      "execution_count": 11,
      "metadata": {
        "colab": {
          "base_uri": "https://localhost:8080/"
        },
        "id": "VF2_YHPk24kz",
        "outputId": "da53cc7d-6b95-49e9-f01f-f716d9e9aead"
      },
      "outputs": [
        {
          "data": {
            "text/plain": [
              "(613, 28, 28)"
            ]
          },
          "execution_count": 11,
          "metadata": {},
          "output_type": "execute_result"
        }
      ],
      "source": [
        "X.shape"
      ]
    },
    {
      "cell_type": "code",
      "execution_count": 12,
      "metadata": {
        "colab": {
          "base_uri": "https://localhost:8080/"
        },
        "id": "cxhkaG56265Q",
        "outputId": "e32ea5fb-9233-4e06-d197-02b9c65a1a7d"
      },
      "outputs": [
        {
          "data": {
            "text/plain": [
              "(613,)"
            ]
          },
          "execution_count": 12,
          "metadata": {},
          "output_type": "execute_result"
        }
      ],
      "source": [
        "y.shape"
      ]
    },
    {
      "cell_type": "code",
      "execution_count": 13,
      "metadata": {
        "id": "npamkfojIxjF"
      },
      "outputs": [],
      "source": [
        "X_train, X_test, y_train, y_test = train_test_split(X, y, test_size=0.20, random_state=42, stratify=y)"
      ]
    },
    {
      "cell_type": "code",
      "execution_count": 14,
      "metadata": {
        "colab": {
          "base_uri": "https://localhost:8080/",
          "height": 491
        },
        "id": "naSOHz06XiAL",
        "outputId": "59fd0aa8-8dee-4fac-b563-f710ee89daf9"
      },
      "outputs": [
        {
          "data": {
            "text/plain": [
              "[]"
            ]
          },
          "execution_count": 14,
          "metadata": {},
          "output_type": "execute_result"
        },
        {
          "data": {
            "image/png": "[encoded data removed]",
            "text/plain": [
              "<Figure size 640x480 with 1 Axes>"
            ]
          },
          "metadata": {},
          "output_type": "display_data"
        }
      ],
      "source": [
        "plt.figure()\n",
        "plt.title(\"Cantidad de muestras x dígito (train)\")\n",
        "plt.ylabel(\"Cantidad\")\n",
        "plt.xlabel(\"Dígito\")\n",
        "plt.hist(y_train, bins=4)\n",
        "plt.plot()"
      ]
    },
    {
      "cell_type": "code",
      "execution_count": 15,
      "metadata": {
        "colab": {
          "base_uri": "https://localhost:8080/",
          "height": 491
        },
        "id": "ze4tCjwWXp6u",
        "outputId": "c1b01aca-7a6c-4b78-a4c1-12d6e53b8421"
      },
      "outputs": [
        {
          "data": {
            "text/plain": [
              "[]"
            ]
          },
          "execution_count": 15,
          "metadata": {},
          "output_type": "execute_result"
        },
        {
          "data": {
            "image/png": "[encoded data removed]",
            "text/plain": [
              "<Figure size 640x480 with 1 Axes>"
            ]
          },
          "metadata": {},
          "output_type": "display_data"
        }
      ],
      "source": [
        "plt.figure()\n",
        "plt.title(\"Cantidad de muestras x dígito (test)\")\n",
        "plt.ylabel(\"Cantidad\")\n",
        "plt.xlabel(\"Dígito\")\n",
        "plt.hist(y_test, bins=8)\n",
        "plt.plot()"
      ]
    },
    {
      "cell_type": "code",
      "execution_count": 16,
      "metadata": {
        "colab": {
          "base_uri": "https://localhost:8080/"
        },
        "id": "YICha4VOORNe",
        "outputId": "94eacbdf-9674-48f2-b685-0a7662cd3493"
      },
      "outputs": [
        {
          "name": "stdout",
          "output_type": "stream",
          "text": [
            "(490, 28, 28, 1) (123, 28, 28, 1)\n"
          ]
        }
      ],
      "source": [
        "# Ajustamos las dimensiones de las imágenes\n",
        "if X_train.ndim == 3:\n",
        "    X_train = X_train[...,None]\n",
        "    X_test = X_test[..., None]\n",
        "    print(X_train.shape, X_test.shape)"
      ]
    },
    {
      "cell_type": "markdown",
      "metadata": {
        "id": "QNFock6RrosL"
      },
      "source": [
        "## Definimos un modelo"
      ]
    },
    {
      "cell_type": "code",
      "execution_count": 17,
      "metadata": {
        "colab": {
          "base_uri": "https://localhost:8080/"
        },
        "id": "pfe9qQgProsM",
        "outputId": "027d72fd-d3ce-4c6e-b67f-f22d7abb4e86"
      },
      "outputs": [
        {
          "name": "stdout",
          "output_type": "stream",
          "text": [
            "Model: \"sequential\"\n",
            "_________________________________________________________________\n",
            "Layer (type)                 Output Shape              Param #   \n",
            "=================================================================\n",
            "conv2d (Conv2D)              (None, 26, 26, 32)        320       \n",
            "_________________________________________________________________\n",
            "max_pooling2d (MaxPooling2D) (None, 13, 13, 32)        0         \n",
            "_________________________________________________________________\n",
            "conv2d_1 (Conv2D)            (None, 13, 13, 64)        18496     \n",
            "_________________________________________________________________\n",
            "max_pooling2d_1 (MaxPooling2 (None, 6, 6, 64)          0         \n",
            "_________________________________________________________________\n",
            "conv2d_2 (Conv2D)            (None, 6, 6, 128)         73856     \n",
            "_________________________________________________________________\n",
            "max_pooling2d_2 (MaxPooling2 (None, 3, 3, 128)         0         \n",
            "_________________________________________________________________\n",
            "flatten (Flatten)            (None, 1152)              0         \n",
            "_________________________________________________________________\n",
            "dense (Dense)                (None, 128)               147584    \n",
            "_________________________________________________________________\n",
            "dense_1 (Dense)              (None, 4)                 516       \n",
            "=================================================================\n",
            "Total params: 240,772\n",
            "Trainable params: 240,772\n",
            "Non-trainable params: 0\n",
            "_________________________________________________________________\n"
          ]
        }
      ],
      "source": [
        "from tensorflow.python.keras.models import Sequential\n",
        "from tensorflow.python.keras.layers import Dense, Conv2D, MaxPool2D, Flatten\n",
        "from tensorflow.python.keras.optimizers import gradient_descent_v2\n",
        "\n",
        "\n",
        "bs = 16\n",
        "lr = 0.0005\n",
        "\n",
        "#Espacio de busqueda\n",
        "#Cantidad Filtros: 32, 64, 128, 256\n",
        "#Tamaño del Filtro: 3, 5, 7\n",
        "#Activaciones: 'relu', 'sigmoid', 'tanh'\n",
        "#Unidades Dense: 128, 256, 100..\n",
        "#lr: 0.001, 0.0001, 0.00001, etc\n",
        "#bs: 8, 16, 32...\n",
        "\n",
        "model = Sequential([Conv2D(32, 3, activation='relu', input_shape=(*size,1)),\n",
        "                    MaxPool2D(),\n",
        "                    Conv2D(64, 3, activation='relu', padding ='same'),\n",
        "                    MaxPool2D(),\n",
        "                    Conv2D(128, 3, activation='relu', padding ='same'),\n",
        "                    MaxPool2D(),\n",
        "                    Flatten(),\n",
        "                    Dense(128, activation='relu'), #modificar!\n",
        "                    Dense(4, activation='softmax')]) #no modificar\n",
        "\n",
        "optimizer1=gradient_descent_v2.SGD(learning_rate=lr)\n",
        "model.compile(optimizer= optimizer1, loss='sparse_categorical_crossentropy' , metrics=['accuracy'])\n",
        "# La pérdida 'sparse_categorical_crossentropy' realiza automaticamente la conversión\n",
        "# del target a one-hot encoding.\n",
        "\n",
        "model.summary()"
      ]
    },
    {
      "cell_type": "code",
      "execution_count": 18,
      "metadata": {
        "colab": {
          "base_uri": "https://localhost:8080/"
        },
        "id": "_2tTR6m4Pycp",
        "outputId": "de805e9f-634e-4958-a49e-40bd18708ca1"
      },
      "outputs": [
        {
          "name": "stdout",
          "output_type": "stream",
          "text": [
            "<class 'numpy.int32'>\n"
          ]
        }
      ],
      "source": [
        "import numpy as np\n",
        "\n",
        "print(type(y_train[0]))"
      ]
    },
    {
      "cell_type": "code",
      "execution_count": 19,
      "metadata": {
        "colab": {
          "base_uri": "https://localhost:8080/"
        },
        "id": "WtvV2QMvP9iQ",
        "outputId": "9e1611bc-53da-4efe-f688-5037902857c2"
      },
      "outputs": [
        {
          "name": "stdout",
          "output_type": "stream",
          "text": [
            "[0 3 0 3 0 1 1 2 0 1 3 2 0 0 2 0 2 3 2 2 2 3 2 3 1 0 0 2 1 0 0 3 3 2 1 2 3\n",
            " 0 3 3 0 3 1 1 2 3 3 2 0 1 3 1 2 3 3 2 2 1 1 3 1 3 3 1 1 3 1 2 0 1 0 3 2 2\n",
            " 1 1 2 0 0 1 2 2 2 2 0 3 2 0 3 1 0 1 3 0 1 1 1 3 1 3 3 1 0 3 0 2 2 3 0 3 3\n",
            " 2 1 0 0 0 0 3 1 3 1 1 1 2 1 3 0 0 3 3 1 1 2 3 1 1 3 2 1 3 3 0 1 1 2 3 1 0\n",
            " 0 1 1 0 1 2 1 0 2 1 0 2 3 0 1 0 1 2 0 0 3 3 0 1 0 2 2 1 1 3 2 1 1 2 2 0 2\n",
            " 0 3 0 2 0 3 2 0 0 1 2 1 2 2 0 1 0 0 1 3 2 0 0 0 1 1 1 2 0 1 1 2 1 3 2 3 2\n",
            " 2 1 1 2 1 3 0 3 2 0 1 3 2 0 2 0 0 0 3 1 1 3 0 0 2 0 1 2 2 2 3 3 3 3 2 2 0\n",
            " 1 0 2 2 3 0 3 0 1 2 1 2 3 3 1 1 2 0 3 0 1 3 2 3 2 2 0 2 1 1 2 2 0 2 0 1 0\n",
            " 1 1 3 2 2 1 3 3 0 0 0 3 1 3 1 0 2 3 1 1 3 2 2 2 1 1 1 1 3 0 0 0 2 2 1 3 0\n",
            " 3 0 0 3 0 3 1 0 0 3 1 3 0 2 0 0 0 2 2 2 3 3 0 2 2 2 1 1 3 1 0 2 1 0 3 1 3\n",
            " 2 3 0 3 1 1 2 0 1 0 0 1 3 1 1 3 1 1 0 2 3 0 1 2 1 3 0 3 3 1 0 3 1 2 2 1 2\n",
            " 0 1 2 3 0 2 3 3 1 0 2 1 0 3 0 1 1 1 1 3 1 1 3 0 1 2 3 3 1 3 0 3 1 1 3 3 2\n",
            " 3 2 1 1 2 3 0 3 2 3 2 3 1 0 3 1 1 1 1 3 1 0 0 2 1 0 1 1 2 3 2 3 1 0 2 1 2\n",
            " 1 2 1 2 2 2 1 2 3]\n"
          ]
        }
      ],
      "source": [
        "print(y_train)"
      ]
    },
    {
      "cell_type": "markdown",
      "metadata": {
        "id": "ViSNqBdCrosX"
      },
      "source": [
        "## Entrenamiento"
      ]
    },
    {
      "cell_type": "code",
      "execution_count": 21,
      "metadata": {
        "colab": {
          "base_uri": "https://localhost:8080/"
        },
        "id": "CLPujN72rosZ",
        "outputId": "bd8f9520-1b29-42ca-beb8-bc8300c925ac",
        "scrolled": true
      },
      "outputs": [
        {
          "name": "stdout",
          "output_type": "stream",
          "text": [
            "Epoch 1/500\n",
            "31/31 [==============================] - 0s 14ms/step - loss: 1.3757 - accuracy: 0.3041 - val_loss: 1.3770 - val_accuracy: 0.2927\n",
            "Epoch 2/500\n",
            "31/31 [==============================] - 0s 14ms/step - loss: 1.3754 - accuracy: 0.3020 - val_loss: 1.3767 - val_accuracy: 0.2846\n",
            "Epoch 3/500\n",
            "31/31 [==============================] - 0s 15ms/step - loss: 1.3752 - accuracy: 0.3000 - val_loss: 1.3764 - val_accuracy: 0.2764\n",
            "Epoch 4/500\n",
            "31/31 [==============================] - 0s 15ms/step - loss: 1.3749 - accuracy: 0.2980 - val_loss: 1.3761 - val_accuracy: 0.2764\n",
            "Epoch 5/500\n",
            "31/31 [==============================] - 0s 15ms/step - loss: 1.3746 - accuracy: 0.3000 - val_loss: 1.3759 - val_accuracy: 0.2846\n",
            "Epoch 6/500\n",
            "31/31 [==============================] - 0s 14ms/step - loss: 1.3743 - accuracy: 0.2980 - val_loss: 1.3756 - val_accuracy: 0.2846\n",
            "Epoch 7/500\n",
            "31/31 [==============================] - 0s 14ms/step - loss: 1.3741 - accuracy: 0.2959 - val_loss: 1.3754 - val_accuracy: 0.2846\n",
            "Epoch 8/500\n",
            "31/31 [==============================] - 0s 14ms/step - loss: 1.3738 - accuracy: 0.2939 - val_loss: 1.3751 - val_accuracy: 0.2846\n",
            "Epoch 9/500\n",
            "31/31 [==============================] - 0s 14ms/step - loss: 1.3736 - accuracy: 0.2918 - val_loss: 1.3748 - val_accuracy: 0.2846\n",
            "Epoch 10/500\n",
            "31/31 [==============================] - 0s 15ms/step - loss: 1.3733 - accuracy: 0.2898 - val_loss: 1.3746 - val_accuracy: 0.2846\n",
            "Epoch 11/500\n",
            "31/31 [==============================] - 0s 14ms/step - loss: 1.3730 - accuracy: 0.2898 - val_loss: 1.3743 - val_accuracy: 0.2846\n",
            "Epoch 12/500\n",
            "31/31 [==============================] - 0s 15ms/step - loss: 1.3728 - accuracy: 0.2898 - val_loss: 1.3741 - val_accuracy: 0.2846\n",
            "Epoch 13/500\n",
            "31/31 [==============================] - 0s 14ms/step - loss: 1.3725 - accuracy: 0.2898 - val_loss: 1.3738 - val_accuracy: 0.2846\n",
            "Epoch 14/500\n",
            "31/31 [==============================] - 0s 15ms/step - loss: 1.3723 - accuracy: 0.2898 - val_loss: 1.3736 - val_accuracy: 0.2846\n",
            "Epoch 15/500\n",
            "31/31 [==============================] - 0s 14ms/step - loss: 1.3720 - accuracy: 0.2898 - val_loss: 1.3733 - val_accuracy: 0.2846\n",
            "Epoch 16/500\n",
            "31/31 [==============================] - 0s 15ms/step - loss: 1.3718 - accuracy: 0.2898 - val_loss: 1.3731 - val_accuracy: 0.2846\n",
            "Epoch 17/500\n",
            "31/31 [==============================] - 0s 12ms/step - loss: 1.3715 - accuracy: 0.2898 - val_loss: 1.3728 - val_accuracy: 0.2846\n",
            "Epoch 18/500\n",
            "31/31 [==============================] - 0s 13ms/step - loss: 1.3712 - accuracy: 0.2898 - val_loss: 1.3726 - val_accuracy: 0.2846\n",
            "Epoch 19/500\n",
            "31/31 [==============================] - 0s 13ms/step - loss: 1.3710 - accuracy: 0.2898 - val_loss: 1.3723 - val_accuracy: 0.2846\n",
            "Epoch 20/500\n",
            "31/31 [==============================] - 0s 12ms/step - loss: 1.3707 - accuracy: 0.2898 - val_loss: 1.3721 - val_accuracy: 0.2846\n",
            "Epoch 21/500\n",
            "31/31 [==============================] - 0s 12ms/step - loss: 1.3705 - accuracy: 0.2898 - val_loss: 1.3718 - val_accuracy: 0.2846\n",
            "Epoch 22/500\n",
            "31/31 [==============================] - 0s 11ms/step - loss: 1.3703 - accuracy: 0.2898 - val_loss: 1.3716 - val_accuracy: 0.2846\n",
            "Epoch 23/500\n",
            "31/31 [==============================] - 0s 11ms/step - loss: 1.3700 - accuracy: 0.2878 - val_loss: 1.3713 - val_accuracy: 0.2846\n",
            "Epoch 24/500\n",
            "31/31 [==============================] - 0s 11ms/step - loss: 1.3698 - accuracy: 0.2878 - val_loss: 1.3711 - val_accuracy: 0.2846\n",
            "Epoch 25/500\n",
            "31/31 [==============================] - 0s 11ms/step - loss: 1.3695 - accuracy: 0.2898 - val_loss: 1.3709 - val_accuracy: 0.2846\n",
            "Epoch 26/500\n",
            "31/31 [==============================] - 0s 11ms/step - loss: 1.3693 - accuracy: 0.2878 - val_loss: 1.3706 - val_accuracy: 0.2846\n",
            "Epoch 27/500\n",
            "31/31 [==============================] - 0s 11ms/step - loss: 1.3690 - accuracy: 0.2878 - val_loss: 1.3704 - val_accuracy: 0.2846\n",
            "Epoch 28/500\n",
            "31/31 [==============================] - 0s 12ms/step - loss: 1.3688 - accuracy: 0.2878 - val_loss: 1.3701 - val_accuracy: 0.2846\n",
            "Epoch 29/500\n",
            "31/31 [==============================] - 0s 11ms/step - loss: 1.3686 - accuracy: 0.2857 - val_loss: 1.3699 - val_accuracy: 0.2846\n",
            "Epoch 30/500\n",
            "31/31 [==============================] - 0s 13ms/step - loss: 1.3683 - accuracy: 0.2857 - val_loss: 1.3697 - val_accuracy: 0.2846\n",
            "Epoch 31/500\n",
            "31/31 [==============================] - 0s 11ms/step - loss: 1.3681 - accuracy: 0.2857 - val_loss: 1.3695 - val_accuracy: 0.2846\n",
            "Epoch 32/500\n",
            "31/31 [==============================] - 0s 11ms/step - loss: 1.3678 - accuracy: 0.2857 - val_loss: 1.3692 - val_accuracy: 0.2846\n",
            "Epoch 33/500\n",
            "31/31 [==============================] - 0s 11ms/step - loss: 1.3676 - accuracy: 0.2857 - val_loss: 1.3690 - val_accuracy: 0.2846\n",
            "Epoch 34/500\n",
            "31/31 [==============================] - 0s 11ms/step - loss: 1.3673 - accuracy: 0.2857 - val_loss: 1.3688 - val_accuracy: 0.2846\n",
            "Epoch 35/500\n",
            "31/31 [==============================] - 0s 11ms/step - loss: 1.3671 - accuracy: 0.2857 - val_loss: 1.3685 - val_accuracy: 0.2846\n",
            "Epoch 36/500\n",
            "31/31 [==============================] - 0s 11ms/step - loss: 1.3668 - accuracy: 0.2857 - val_loss: 1.3683 - val_accuracy: 0.2846\n",
            "Epoch 37/500\n",
            "31/31 [==============================] - 0s 12ms/step - loss: 1.3666 - accuracy: 0.2857 - val_loss: 1.3681 - val_accuracy: 0.2846\n",
            "Epoch 38/500\n",
            "31/31 [==============================] - 0s 12ms/step - loss: 1.3664 - accuracy: 0.2857 - val_loss: 1.3679 - val_accuracy: 0.2846\n",
            "Epoch 39/500\n",
            "31/31 [==============================] - 0s 11ms/step - loss: 1.3661 - accuracy: 0.2857 - val_loss: 1.3676 - val_accuracy: 0.2846\n",
            "Epoch 40/500\n",
            "31/31 [==============================] - 0s 11ms/step - loss: 1.3659 - accuracy: 0.2857 - val_loss: 1.3674 - val_accuracy: 0.2846\n",
            "Epoch 41/500\n",
            "31/31 [==============================] - 0s 11ms/step - loss: 1.3656 - accuracy: 0.2857 - val_loss: 1.3672 - val_accuracy: 0.2846\n",
            "Epoch 42/500\n",
            "31/31 [==============================] - 0s 11ms/step - loss: 1.3654 - accuracy: 0.2857 - val_loss: 1.3669 - val_accuracy: 0.2846\n",
            "Epoch 43/500\n",
            "31/31 [==============================] - 0s 11ms/step - loss: 1.3651 - accuracy: 0.2857 - val_loss: 1.3667 - val_accuracy: 0.2846\n",
            "Epoch 44/500\n",
            "31/31 [==============================] - 0s 11ms/step - loss: 1.3649 - accuracy: 0.2857 - val_loss: 1.3665 - val_accuracy: 0.2846\n",
            "Epoch 45/500\n",
            "31/31 [==============================] - 0s 11ms/step - loss: 1.3647 - accuracy: 0.2857 - val_loss: 1.3662 - val_accuracy: 0.2846\n",
            "Epoch 46/500\n",
            "31/31 [==============================] - 0s 11ms/step - loss: 1.3644 - accuracy: 0.2857 - val_loss: 1.3660 - val_accuracy: 0.2846\n",
            "Epoch 47/500\n",
            "31/31 [==============================] - 0s 11ms/step - loss: 1.3642 - accuracy: 0.2857 - val_loss: 1.3658 - val_accuracy: 0.2846\n",
            "Epoch 48/500\n",
            "31/31 [==============================] - 0s 12ms/step - loss: 1.3639 - accuracy: 0.2857 - val_loss: 1.3655 - val_accuracy: 0.2846\n",
            "Epoch 49/500\n",
            "31/31 [==============================] - 0s 11ms/step - loss: 1.3636 - accuracy: 0.2857 - val_loss: 1.3653 - val_accuracy: 0.2846\n",
            "Epoch 50/500\n",
            "31/31 [==============================] - 0s 12ms/step - loss: 1.3634 - accuracy: 0.2857 - val_loss: 1.3651 - val_accuracy: 0.2846\n",
            "Epoch 51/500\n",
            "31/31 [==============================] - 0s 11ms/step - loss: 1.3632 - accuracy: 0.2857 - val_loss: 1.3648 - val_accuracy: 0.2846\n",
            "Epoch 52/500\n",
            "31/31 [==============================] - 0s 11ms/step - loss: 1.3629 - accuracy: 0.2857 - val_loss: 1.3646 - val_accuracy: 0.2846\n",
            "Epoch 53/500\n",
            "31/31 [==============================] - 0s 11ms/step - loss: 1.3626 - accuracy: 0.2857 - val_loss: 1.3644 - val_accuracy: 0.2846\n",
            "Epoch 54/500\n",
            "31/31 [==============================] - 0s 11ms/step - loss: 1.3624 - accuracy: 0.2857 - val_loss: 1.3641 - val_accuracy: 0.2846\n",
            "Epoch 55/500\n",
            "31/31 [==============================] - 0s 11ms/step - loss: 1.3622 - accuracy: 0.2857 - val_loss: 1.3639 - val_accuracy: 0.2846\n",
            "Epoch 56/500\n",
            "31/31 [==============================] - 0s 11ms/step - loss: 1.3619 - accuracy: 0.2857 - val_loss: 1.3636 - val_accuracy: 0.2846\n",
            "Epoch 57/500\n",
            "31/31 [==============================] - 0s 11ms/step - loss: 1.3616 - accuracy: 0.2857 - val_loss: 1.3634 - val_accuracy: 0.2846\n",
            "Epoch 58/500\n",
            "31/31 [==============================] - 0s 11ms/step - loss: 1.3614 - accuracy: 0.2857 - val_loss: 1.3632 - val_accuracy: 0.2846\n",
            "Epoch 59/500\n",
            "31/31 [==============================] - 0s 11ms/step - loss: 1.3611 - accuracy: 0.2857 - val_loss: 1.3629 - val_accuracy: 0.2846\n",
            "Epoch 60/500\n",
            "31/31 [==============================] - 0s 11ms/step - loss: 1.3609 - accuracy: 0.2857 - val_loss: 1.3627 - val_accuracy: 0.2846\n",
            "Epoch 61/500\n",
            "31/31 [==============================] - 0s 11ms/step - loss: 1.3606 - accuracy: 0.2857 - val_loss: 1.3625 - val_accuracy: 0.2846\n",
            "Epoch 62/500\n",
            "31/31 [==============================] - 0s 11ms/step - loss: 1.3604 - accuracy: 0.2857 - val_loss: 1.3622 - val_accuracy: 0.2846\n",
            "Epoch 63/500\n",
            "31/31 [==============================] - 0s 11ms/step - loss: 1.3601 - accuracy: 0.2857 - val_loss: 1.3620 - val_accuracy: 0.2846\n",
            "Epoch 64/500\n",
            "31/31 [==============================] - 0s 11ms/step - loss: 1.3598 - accuracy: 0.2857 - val_loss: 1.3617 - val_accuracy: 0.2846\n",
            "Epoch 65/500\n",
            "31/31 [==============================] - 0s 11ms/step - loss: 1.3596 - accuracy: 0.2857 - val_loss: 1.3615 - val_accuracy: 0.2846\n",
            "Epoch 66/500\n",
            "31/31 [==============================] - 0s 11ms/step - loss: 1.3593 - accuracy: 0.2857 - val_loss: 1.3612 - val_accuracy: 0.2846\n",
            "Epoch 67/500\n",
            "31/31 [==============================] - 0s 11ms/step - loss: 1.3591 - accuracy: 0.2857 - val_loss: 1.3610 - val_accuracy: 0.2846\n",
            "Epoch 68/500\n",
            "31/31 [==============================] - 0s 11ms/step - loss: 1.3588 - accuracy: 0.2857 - val_loss: 1.3607 - val_accuracy: 0.2846\n",
            "Epoch 69/500\n",
            "31/31 [==============================] - 0s 11ms/step - loss: 1.3585 - accuracy: 0.2857 - val_loss: 1.3605 - val_accuracy: 0.2846\n",
            "Epoch 70/500\n",
            "31/31 [==============================] - 0s 11ms/step - loss: 1.3583 - accuracy: 0.2878 - val_loss: 1.3602 - val_accuracy: 0.2846\n",
            "Epoch 71/500\n",
            "31/31 [==============================] - 0s 11ms/step - loss: 1.3580 - accuracy: 0.2878 - val_loss: 1.3600 - val_accuracy: 0.2846\n",
            "Epoch 72/500\n",
            "31/31 [==============================] - 0s 11ms/step - loss: 1.3577 - accuracy: 0.2857 - val_loss: 1.3597 - val_accuracy: 0.2846\n",
            "Epoch 73/500\n",
            "31/31 [==============================] - 0s 11ms/step - loss: 1.3574 - accuracy: 0.2878 - val_loss: 1.3595 - val_accuracy: 0.2846\n",
            "Epoch 74/500\n",
            "31/31 [==============================] - 0s 11ms/step - loss: 1.3572 - accuracy: 0.2878 - val_loss: 1.3592 - val_accuracy: 0.2846\n",
            "Epoch 75/500\n",
            "31/31 [==============================] - 0s 11ms/step - loss: 1.3569 - accuracy: 0.2878 - val_loss: 1.3590 - val_accuracy: 0.2846\n",
            "Epoch 76/500\n",
            "31/31 [==============================] - 0s 11ms/step - loss: 1.3566 - accuracy: 0.2878 - val_loss: 1.3587 - val_accuracy: 0.2846\n",
            "Epoch 77/500\n",
            "31/31 [==============================] - 0s 11ms/step - loss: 1.3564 - accuracy: 0.2878 - val_loss: 1.3585 - val_accuracy: 0.2846\n",
            "Epoch 78/500\n",
            "31/31 [==============================] - 0s 11ms/step - loss: 1.3561 - accuracy: 0.2878 - val_loss: 1.3582 - val_accuracy: 0.2846\n",
            "Epoch 79/500\n",
            "31/31 [==============================] - 0s 11ms/step - loss: 1.3558 - accuracy: 0.2878 - val_loss: 1.3580 - val_accuracy: 0.2846\n",
            "Epoch 80/500\n",
            "31/31 [==============================] - 0s 11ms/step - loss: 1.3556 - accuracy: 0.2878 - val_loss: 1.3577 - val_accuracy: 0.2846\n",
            "Epoch 81/500\n",
            "31/31 [==============================] - 0s 11ms/step - loss: 1.3552 - accuracy: 0.2878 - val_loss: 1.3575 - val_accuracy: 0.2846\n",
            "Epoch 82/500\n",
            "31/31 [==============================] - 0s 11ms/step - loss: 1.3550 - accuracy: 0.2878 - val_loss: 1.3572 - val_accuracy: 0.2846\n",
            "Epoch 83/500\n",
            "31/31 [==============================] - 0s 11ms/step - loss: 1.3547 - accuracy: 0.2878 - val_loss: 1.3569 - val_accuracy: 0.2846\n",
            "Epoch 84/500\n",
            "31/31 [==============================] - 0s 11ms/step - loss: 1.3544 - accuracy: 0.2878 - val_loss: 1.3567 - val_accuracy: 0.2846\n",
            "Epoch 85/500\n",
            "31/31 [==============================] - 0s 11ms/step - loss: 1.3541 - accuracy: 0.2878 - val_loss: 1.3564 - val_accuracy: 0.2846\n",
            "Epoch 86/500\n",
            "31/31 [==============================] - 0s 11ms/step - loss: 1.3538 - accuracy: 0.2898 - val_loss: 1.3561 - val_accuracy: 0.2846\n",
            "Epoch 87/500\n",
            "31/31 [==============================] - 0s 11ms/step - loss: 1.3535 - accuracy: 0.2878 - val_loss: 1.3558 - val_accuracy: 0.2846\n",
            "Epoch 88/500\n",
            "31/31 [==============================] - 0s 11ms/step - loss: 1.3532 - accuracy: 0.2878 - val_loss: 1.3556 - val_accuracy: 0.2846\n",
            "Epoch 89/500\n",
            "31/31 [==============================] - 0s 11ms/step - loss: 1.3529 - accuracy: 0.2898 - val_loss: 1.3553 - val_accuracy: 0.2846\n",
            "Epoch 90/500\n",
            "31/31 [==============================] - 0s 11ms/step - loss: 1.3526 - accuracy: 0.2898 - val_loss: 1.3550 - val_accuracy: 0.2846\n",
            "Epoch 91/500\n",
            "31/31 [==============================] - 0s 11ms/step - loss: 1.3522 - accuracy: 0.2898 - val_loss: 1.3547 - val_accuracy: 0.2846\n",
            "Epoch 92/500\n",
            "31/31 [==============================] - 0s 11ms/step - loss: 1.3519 - accuracy: 0.2898 - val_loss: 1.3544 - val_accuracy: 0.2846\n",
            "Epoch 93/500\n",
            "31/31 [==============================] - 0s 11ms/step - loss: 1.3516 - accuracy: 0.2898 - val_loss: 1.3541 - val_accuracy: 0.2846\n",
            "Epoch 94/500\n",
            "31/31 [==============================] - 0s 11ms/step - loss: 1.3513 - accuracy: 0.2898 - val_loss: 1.3538 - val_accuracy: 0.2846\n",
            "Epoch 95/500\n",
            "31/31 [==============================] - 0s 11ms/step - loss: 1.3509 - accuracy: 0.2898 - val_loss: 1.3535 - val_accuracy: 0.2846\n",
            "Epoch 96/500\n",
            "31/31 [==============================] - 0s 11ms/step - loss: 1.3506 - accuracy: 0.2898 - val_loss: 1.3532 - val_accuracy: 0.2846\n",
            "Epoch 97/500\n",
            "31/31 [==============================] - 0s 11ms/step - loss: 1.3503 - accuracy: 0.2898 - val_loss: 1.3529 - val_accuracy: 0.2846\n",
            "Epoch 98/500\n",
            "31/31 [==============================] - 0s 11ms/step - loss: 1.3500 - accuracy: 0.2898 - val_loss: 1.3526 - val_accuracy: 0.2846\n",
            "Epoch 99/500\n",
            "31/31 [==============================] - 0s 11ms/step - loss: 1.3496 - accuracy: 0.2898 - val_loss: 1.3523 - val_accuracy: 0.2927\n",
            "Epoch 100/500\n",
            "31/31 [==============================] - 0s 11ms/step - loss: 1.3493 - accuracy: 0.2898 - val_loss: 1.3520 - val_accuracy: 0.2927\n",
            "Epoch 101/500\n",
            "31/31 [==============================] - 0s 11ms/step - loss: 1.3490 - accuracy: 0.2898 - val_loss: 1.3517 - val_accuracy: 0.2927\n",
            "Epoch 102/500\n",
            "31/31 [==============================] - 0s 11ms/step - loss: 1.3486 - accuracy: 0.2918 - val_loss: 1.3514 - val_accuracy: 0.2927\n",
            "Epoch 103/500\n",
            "31/31 [==============================] - 0s 11ms/step - loss: 1.3483 - accuracy: 0.2918 - val_loss: 1.3511 - val_accuracy: 0.2927\n",
            "Epoch 104/500\n",
            "31/31 [==============================] - 0s 11ms/step - loss: 1.3479 - accuracy: 0.2898 - val_loss: 1.3508 - val_accuracy: 0.2927\n",
            "Epoch 105/500\n",
            "31/31 [==============================] - 0s 11ms/step - loss: 1.3476 - accuracy: 0.2918 - val_loss: 1.3504 - val_accuracy: 0.2927\n",
            "Epoch 106/500\n",
            "31/31 [==============================] - 0s 11ms/step - loss: 1.3473 - accuracy: 0.2939 - val_loss: 1.3501 - val_accuracy: 0.2927\n",
            "Epoch 107/500\n",
            "31/31 [==============================] - 0s 11ms/step - loss: 1.3470 - accuracy: 0.2939 - val_loss: 1.3498 - val_accuracy: 0.2927\n",
            "Epoch 108/500\n",
            "31/31 [==============================] - 0s 11ms/step - loss: 1.3466 - accuracy: 0.2980 - val_loss: 1.3495 - val_accuracy: 0.2927\n",
            "Epoch 109/500\n",
            "31/31 [==============================] - 0s 11ms/step - loss: 1.3462 - accuracy: 0.2980 - val_loss: 1.3492 - val_accuracy: 0.2927\n",
            "Epoch 110/500\n",
            "31/31 [==============================] - 0s 11ms/step - loss: 1.3459 - accuracy: 0.2959 - val_loss: 1.3488 - val_accuracy: 0.2927\n",
            "Epoch 111/500\n",
            "31/31 [==============================] - 0s 11ms/step - loss: 1.3455 - accuracy: 0.3041 - val_loss: 1.3485 - val_accuracy: 0.2927\n",
            "Epoch 112/500\n",
            "31/31 [==============================] - 0s 12ms/step - loss: 1.3451 - accuracy: 0.3041 - val_loss: 1.3482 - val_accuracy: 0.2927\n",
            "Epoch 113/500\n",
            "31/31 [==============================] - 0s 11ms/step - loss: 1.3448 - accuracy: 0.3061 - val_loss: 1.3479 - val_accuracy: 0.2927\n",
            "Epoch 114/500\n",
            "31/31 [==============================] - 0s 11ms/step - loss: 1.3444 - accuracy: 0.3041 - val_loss: 1.3475 - val_accuracy: 0.2927\n",
            "Epoch 115/500\n",
            "31/31 [==============================] - 0s 11ms/step - loss: 1.3441 - accuracy: 0.3061 - val_loss: 1.3472 - val_accuracy: 0.2927\n",
            "Epoch 116/500\n",
            "31/31 [==============================] - 0s 11ms/step - loss: 1.3438 - accuracy: 0.3020 - val_loss: 1.3469 - val_accuracy: 0.2927\n",
            "Epoch 117/500\n",
            "31/31 [==============================] - 0s 11ms/step - loss: 1.3433 - accuracy: 0.3061 - val_loss: 1.3465 - val_accuracy: 0.2927\n",
            "Epoch 118/500\n",
            "31/31 [==============================] - 0s 11ms/step - loss: 1.3430 - accuracy: 0.3061 - val_loss: 1.3462 - val_accuracy: 0.2927\n",
            "Epoch 119/500\n",
            "31/31 [==============================] - 0s 11ms/step - loss: 1.3426 - accuracy: 0.3061 - val_loss: 1.3458 - val_accuracy: 0.2927\n",
            "Epoch 120/500\n",
            "31/31 [==============================] - 0s 11ms/step - loss: 1.3423 - accuracy: 0.3082 - val_loss: 1.3455 - val_accuracy: 0.2927\n",
            "Epoch 121/500\n",
            "31/31 [==============================] - 0s 11ms/step - loss: 1.3419 - accuracy: 0.3102 - val_loss: 1.3451 - val_accuracy: 0.3008\n",
            "Epoch 122/500\n",
            "31/31 [==============================] - 0s 11ms/step - loss: 1.3415 - accuracy: 0.3143 - val_loss: 1.3448 - val_accuracy: 0.3008\n",
            "Epoch 123/500\n",
            "31/31 [==============================] - 0s 11ms/step - loss: 1.3411 - accuracy: 0.3122 - val_loss: 1.3444 - val_accuracy: 0.3008\n",
            "Epoch 124/500\n",
            "31/31 [==============================] - 0s 11ms/step - loss: 1.3407 - accuracy: 0.3143 - val_loss: 1.3441 - val_accuracy: 0.3008\n",
            "Epoch 125/500\n",
            "31/31 [==============================] - 0s 11ms/step - loss: 1.3403 - accuracy: 0.3163 - val_loss: 1.3437 - val_accuracy: 0.3008\n",
            "Epoch 126/500\n",
            "31/31 [==============================] - 0s 11ms/step - loss: 1.3400 - accuracy: 0.3184 - val_loss: 1.3433 - val_accuracy: 0.3008\n",
            "Epoch 127/500\n",
            "31/31 [==============================] - 0s 11ms/step - loss: 1.3395 - accuracy: 0.3184 - val_loss: 1.3430 - val_accuracy: 0.3008\n",
            "Epoch 128/500\n",
            "31/31 [==============================] - 0s 11ms/step - loss: 1.3391 - accuracy: 0.3184 - val_loss: 1.3426 - val_accuracy: 0.3008\n",
            "Epoch 129/500\n",
            "31/31 [==============================] - 0s 11ms/step - loss: 1.3388 - accuracy: 0.3224 - val_loss: 1.3422 - val_accuracy: 0.3008\n",
            "Epoch 130/500\n",
            "31/31 [==============================] - 0s 11ms/step - loss: 1.3383 - accuracy: 0.3265 - val_loss: 1.3419 - val_accuracy: 0.3008\n",
            "Epoch 131/500\n",
            "31/31 [==============================] - 0s 11ms/step - loss: 1.3379 - accuracy: 0.3265 - val_loss: 1.3415 - val_accuracy: 0.3008\n",
            "Epoch 132/500\n",
            "31/31 [==============================] - 0s 12ms/step - loss: 1.3375 - accuracy: 0.3265 - val_loss: 1.3411 - val_accuracy: 0.3008\n",
            "Epoch 133/500\n",
            "31/31 [==============================] - 0s 11ms/step - loss: 1.3371 - accuracy: 0.3286 - val_loss: 1.3408 - val_accuracy: 0.3008\n",
            "Epoch 134/500\n",
            "31/31 [==============================] - 0s 11ms/step - loss: 1.3367 - accuracy: 0.3388 - val_loss: 1.3404 - val_accuracy: 0.3008\n",
            "Epoch 135/500\n",
            "31/31 [==============================] - 0s 11ms/step - loss: 1.3363 - accuracy: 0.3408 - val_loss: 1.3400 - val_accuracy: 0.3089\n",
            "Epoch 136/500\n",
            "31/31 [==============================] - 0s 11ms/step - loss: 1.3359 - accuracy: 0.3408 - val_loss: 1.3396 - val_accuracy: 0.3089\n",
            "Epoch 137/500\n",
            "31/31 [==============================] - 0s 11ms/step - loss: 1.3355 - accuracy: 0.3408 - val_loss: 1.3392 - val_accuracy: 0.3089\n",
            "Epoch 138/500\n",
            "31/31 [==============================] - 0s 11ms/step - loss: 1.3350 - accuracy: 0.3449 - val_loss: 1.3388 - val_accuracy: 0.3171\n",
            "Epoch 139/500\n",
            "31/31 [==============================] - 0s 11ms/step - loss: 1.3346 - accuracy: 0.3449 - val_loss: 1.3384 - val_accuracy: 0.3171\n",
            "Epoch 140/500\n",
            "31/31 [==============================] - 0s 11ms/step - loss: 1.3341 - accuracy: 0.3531 - val_loss: 1.3380 - val_accuracy: 0.3171\n",
            "Epoch 141/500\n",
            "31/31 [==============================] - 0s 11ms/step - loss: 1.3337 - accuracy: 0.3510 - val_loss: 1.3376 - val_accuracy: 0.3252\n",
            "Epoch 142/500\n",
            "31/31 [==============================] - 0s 11ms/step - loss: 1.3332 - accuracy: 0.3531 - val_loss: 1.3372 - val_accuracy: 0.3252\n",
            "Epoch 143/500\n",
            "31/31 [==============================] - 0s 12ms/step - loss: 1.3328 - accuracy: 0.3531 - val_loss: 1.3368 - val_accuracy: 0.3333\n",
            "Epoch 144/500\n",
            "31/31 [==============================] - 0s 11ms/step - loss: 1.3323 - accuracy: 0.3551 - val_loss: 1.3364 - val_accuracy: 0.3333\n",
            "Epoch 145/500\n",
            "31/31 [==============================] - 0s 11ms/step - loss: 1.3318 - accuracy: 0.3612 - val_loss: 1.3360 - val_accuracy: 0.3333\n",
            "Epoch 146/500\n",
            "31/31 [==============================] - 0s 11ms/step - loss: 1.3314 - accuracy: 0.3592 - val_loss: 1.3355 - val_accuracy: 0.3415\n",
            "Epoch 147/500\n",
            "31/31 [==============================] - 0s 11ms/step - loss: 1.3309 - accuracy: 0.3633 - val_loss: 1.3351 - val_accuracy: 0.3415\n",
            "Epoch 148/500\n",
            "31/31 [==============================] - 0s 11ms/step - loss: 1.3305 - accuracy: 0.3612 - val_loss: 1.3347 - val_accuracy: 0.3577\n",
            "Epoch 149/500\n",
            "31/31 [==============================] - 0s 11ms/step - loss: 1.3300 - accuracy: 0.3694 - val_loss: 1.3342 - val_accuracy: 0.3577\n",
            "Epoch 150/500\n",
            "31/31 [==============================] - 0s 11ms/step - loss: 1.3295 - accuracy: 0.3694 - val_loss: 1.3338 - val_accuracy: 0.3577\n",
            "Epoch 151/500\n",
            "31/31 [==============================] - 0s 12ms/step - loss: 1.3291 - accuracy: 0.3714 - val_loss: 1.3333 - val_accuracy: 0.3577\n",
            "Epoch 152/500\n",
            "31/31 [==============================] - 0s 12ms/step - loss: 1.3286 - accuracy: 0.3755 - val_loss: 1.3329 - val_accuracy: 0.3577\n",
            "Epoch 153/500\n",
            "31/31 [==============================] - 0s 12ms/step - loss: 1.3281 - accuracy: 0.3796 - val_loss: 1.3324 - val_accuracy: 0.3659\n",
            "Epoch 154/500\n",
            "31/31 [==============================] - 0s 11ms/step - loss: 1.3276 - accuracy: 0.3816 - val_loss: 1.3320 - val_accuracy: 0.3659\n",
            "Epoch 155/500\n",
            "31/31 [==============================] - 0s 11ms/step - loss: 1.3271 - accuracy: 0.3837 - val_loss: 1.3315 - val_accuracy: 0.3740\n",
            "Epoch 156/500\n",
            "31/31 [==============================] - 0s 11ms/step - loss: 1.3266 - accuracy: 0.3857 - val_loss: 1.3310 - val_accuracy: 0.3740\n",
            "Epoch 157/500\n",
            "31/31 [==============================] - 0s 11ms/step - loss: 1.3261 - accuracy: 0.3898 - val_loss: 1.3306 - val_accuracy: 0.3740\n",
            "Epoch 158/500\n",
            "31/31 [==============================] - 0s 11ms/step - loss: 1.3256 - accuracy: 0.3918 - val_loss: 1.3301 - val_accuracy: 0.3740\n",
            "Epoch 159/500\n",
            "31/31 [==============================] - 0s 11ms/step - loss: 1.3251 - accuracy: 0.3980 - val_loss: 1.3296 - val_accuracy: 0.3740\n",
            "Epoch 160/500\n",
            "31/31 [==============================] - 0s 11ms/step - loss: 1.3245 - accuracy: 0.3980 - val_loss: 1.3291 - val_accuracy: 0.3821\n",
            "Epoch 161/500\n",
            "31/31 [==============================] - 0s 11ms/step - loss: 1.3241 - accuracy: 0.4143 - val_loss: 1.3286 - val_accuracy: 0.3821\n",
            "Epoch 162/500\n",
            "31/31 [==============================] - 0s 11ms/step - loss: 1.3235 - accuracy: 0.4061 - val_loss: 1.3281 - val_accuracy: 0.3821\n",
            "Epoch 163/500\n",
            "31/31 [==============================] - 0s 11ms/step - loss: 1.3229 - accuracy: 0.4184 - val_loss: 1.3276 - val_accuracy: 0.3902\n",
            "Epoch 164/500\n",
            "31/31 [==============================] - 0s 11ms/step - loss: 1.3224 - accuracy: 0.4265 - val_loss: 1.3271 - val_accuracy: 0.3902\n",
            "Epoch 165/500\n",
            "31/31 [==============================] - 0s 11ms/step - loss: 1.3219 - accuracy: 0.4204 - val_loss: 1.3266 - val_accuracy: 0.3902\n",
            "Epoch 166/500\n",
            "31/31 [==============================] - 0s 11ms/step - loss: 1.3214 - accuracy: 0.4367 - val_loss: 1.3261 - val_accuracy: 0.3902\n",
            "Epoch 167/500\n",
            "31/31 [==============================] - 0s 11ms/step - loss: 1.3208 - accuracy: 0.4347 - val_loss: 1.3256 - val_accuracy: 0.3902\n",
            "Epoch 168/500\n",
            "31/31 [==============================] - 0s 11ms/step - loss: 1.3202 - accuracy: 0.4367 - val_loss: 1.3251 - val_accuracy: 0.3984\n",
            "Epoch 169/500\n",
            "31/31 [==============================] - 0s 11ms/step - loss: 1.3197 - accuracy: 0.4449 - val_loss: 1.3245 - val_accuracy: 0.3984\n",
            "Epoch 170/500\n",
            "31/31 [==============================] - 0s 11ms/step - loss: 1.3191 - accuracy: 0.4449 - val_loss: 1.3240 - val_accuracy: 0.3984\n",
            "Epoch 171/500\n",
            "31/31 [==============================] - 0s 12ms/step - loss: 1.3185 - accuracy: 0.4551 - val_loss: 1.3235 - val_accuracy: 0.4065\n",
            "Epoch 172/500\n",
            "31/31 [==============================] - 0s 11ms/step - loss: 1.3179 - accuracy: 0.4469 - val_loss: 1.3229 - val_accuracy: 0.4065\n",
            "Epoch 173/500\n",
            "31/31 [==============================] - 0s 11ms/step - loss: 1.3174 - accuracy: 0.4490 - val_loss: 1.3224 - val_accuracy: 0.4065\n",
            "Epoch 174/500\n",
            "31/31 [==============================] - 0s 11ms/step - loss: 1.3167 - accuracy: 0.4633 - val_loss: 1.3218 - val_accuracy: 0.4065\n",
            "Epoch 175/500\n",
            "31/31 [==============================] - 0s 11ms/step - loss: 1.3161 - accuracy: 0.4510 - val_loss: 1.3212 - val_accuracy: 0.4065\n",
            "Epoch 176/500\n",
            "31/31 [==============================] - 0s 11ms/step - loss: 1.3156 - accuracy: 0.4612 - val_loss: 1.3207 - val_accuracy: 0.4065\n",
            "Epoch 177/500\n",
            "31/31 [==============================] - 0s 11ms/step - loss: 1.3150 - accuracy: 0.4551 - val_loss: 1.3201 - val_accuracy: 0.4146\n",
            "Epoch 178/500\n",
            "31/31 [==============================] - 0s 11ms/step - loss: 1.3143 - accuracy: 0.4755 - val_loss: 1.3195 - val_accuracy: 0.4146\n",
            "Epoch 179/500\n",
            "31/31 [==============================] - 0s 11ms/step - loss: 1.3137 - accuracy: 0.4776 - val_loss: 1.3189 - val_accuracy: 0.4228\n",
            "Epoch 180/500\n",
            "31/31 [==============================] - 0s 11ms/step - loss: 1.3131 - accuracy: 0.4959 - val_loss: 1.3183 - val_accuracy: 0.4309\n",
            "Epoch 181/500\n",
            "31/31 [==============================] - 0s 11ms/step - loss: 1.3124 - accuracy: 0.4816 - val_loss: 1.3177 - val_accuracy: 0.4390\n",
            "Epoch 182/500\n",
            "31/31 [==============================] - 0s 12ms/step - loss: 1.3118 - accuracy: 0.5000 - val_loss: 1.3171 - val_accuracy: 0.4309\n",
            "Epoch 183/500\n",
            "31/31 [==============================] - 0s 12ms/step - loss: 1.3112 - accuracy: 0.4837 - val_loss: 1.3165 - val_accuracy: 0.4390\n",
            "Epoch 184/500\n",
            "31/31 [==============================] - 0s 11ms/step - loss: 1.3105 - accuracy: 0.4959 - val_loss: 1.3159 - val_accuracy: 0.4390\n",
            "Epoch 185/500\n",
            "31/31 [==============================] - 0s 11ms/step - loss: 1.3098 - accuracy: 0.4939 - val_loss: 1.3153 - val_accuracy: 0.4390\n",
            "Epoch 186/500\n",
            "31/31 [==============================] - 0s 11ms/step - loss: 1.3092 - accuracy: 0.4939 - val_loss: 1.3147 - val_accuracy: 0.4390\n",
            "Epoch 187/500\n",
            "31/31 [==============================] - 0s 11ms/step - loss: 1.3085 - accuracy: 0.5061 - val_loss: 1.3140 - val_accuracy: 0.4390\n",
            "Epoch 188/500\n",
            "31/31 [==============================] - 0s 11ms/step - loss: 1.3078 - accuracy: 0.5000 - val_loss: 1.3134 - val_accuracy: 0.4390\n",
            "Epoch 189/500\n",
            "31/31 [==============================] - 0s 11ms/step - loss: 1.3072 - accuracy: 0.5102 - val_loss: 1.3128 - val_accuracy: 0.4390\n",
            "Epoch 190/500\n",
            "31/31 [==============================] - 0s 11ms/step - loss: 1.3065 - accuracy: 0.5020 - val_loss: 1.3121 - val_accuracy: 0.4472\n",
            "Epoch 191/500\n",
            "31/31 [==============================] - 0s 11ms/step - loss: 1.3058 - accuracy: 0.5061 - val_loss: 1.3114 - val_accuracy: 0.4553\n",
            "Epoch 192/500\n",
            "31/31 [==============================] - 0s 11ms/step - loss: 1.3052 - accuracy: 0.5082 - val_loss: 1.3108 - val_accuracy: 0.4553\n",
            "Epoch 193/500\n",
            "31/31 [==============================] - 0s 11ms/step - loss: 1.3044 - accuracy: 0.5122 - val_loss: 1.3101 - val_accuracy: 0.4553\n",
            "Epoch 194/500\n",
            "31/31 [==============================] - 0s 11ms/step - loss: 1.3037 - accuracy: 0.5163 - val_loss: 1.3094 - val_accuracy: 0.4553\n",
            "Epoch 195/500\n",
            "31/31 [==============================] - 0s 11ms/step - loss: 1.3029 - accuracy: 0.5143 - val_loss: 1.3087 - val_accuracy: 0.4553\n",
            "Epoch 196/500\n",
            "31/31 [==============================] - 0s 11ms/step - loss: 1.3022 - accuracy: 0.5143 - val_loss: 1.3081 - val_accuracy: 0.4634\n",
            "Epoch 197/500\n",
            "31/31 [==============================] - 0s 11ms/step - loss: 1.3014 - accuracy: 0.5184 - val_loss: 1.3074 - val_accuracy: 0.4634\n",
            "Epoch 198/500\n",
            "31/31 [==============================] - 0s 11ms/step - loss: 1.3007 - accuracy: 0.5184 - val_loss: 1.3066 - val_accuracy: 0.4634\n",
            "Epoch 199/500\n",
            "31/31 [==============================] - 0s 11ms/step - loss: 1.3000 - accuracy: 0.5286 - val_loss: 1.3059 - val_accuracy: 0.4634\n",
            "Epoch 200/500\n",
            "31/31 [==============================] - 0s 11ms/step - loss: 1.2991 - accuracy: 0.5286 - val_loss: 1.3052 - val_accuracy: 0.4715\n",
            "Epoch 201/500\n",
            "31/31 [==============================] - 0s 11ms/step - loss: 1.2984 - accuracy: 0.5347 - val_loss: 1.3045 - val_accuracy: 0.4959\n",
            "Epoch 202/500\n",
            "31/31 [==============================] - 0s 12ms/step - loss: 1.2976 - accuracy: 0.5367 - val_loss: 1.3038 - val_accuracy: 0.4959\n",
            "Epoch 203/500\n",
            "31/31 [==============================] - 0s 11ms/step - loss: 1.2968 - accuracy: 0.5245 - val_loss: 1.3030 - val_accuracy: 0.4959\n",
            "Epoch 204/500\n",
            "31/31 [==============================] - 0s 11ms/step - loss: 1.2960 - accuracy: 0.5449 - val_loss: 1.3023 - val_accuracy: 0.4959\n",
            "Epoch 205/500\n",
            "31/31 [==============================] - 0s 11ms/step - loss: 1.2952 - accuracy: 0.5490 - val_loss: 1.3015 - val_accuracy: 0.4959\n",
            "Epoch 206/500\n",
            "31/31 [==============================] - 0s 11ms/step - loss: 1.2944 - accuracy: 0.5531 - val_loss: 1.3008 - val_accuracy: 0.4959\n",
            "Epoch 207/500\n",
            "31/31 [==============================] - 0s 11ms/step - loss: 1.2935 - accuracy: 0.5531 - val_loss: 1.3000 - val_accuracy: 0.4959\n",
            "Epoch 208/500\n",
            "31/31 [==============================] - 0s 11ms/step - loss: 1.2927 - accuracy: 0.5612 - val_loss: 1.2992 - val_accuracy: 0.4959\n",
            "Epoch 209/500\n",
            "31/31 [==============================] - 0s 11ms/step - loss: 1.2918 - accuracy: 0.5571 - val_loss: 1.2984 - val_accuracy: 0.4959\n",
            "Epoch 210/500\n",
            "31/31 [==============================] - 0s 11ms/step - loss: 1.2909 - accuracy: 0.5612 - val_loss: 1.2976 - val_accuracy: 0.4959\n",
            "Epoch 211/500\n",
            "31/31 [==============================] - 0s 12ms/step - loss: 1.2901 - accuracy: 0.5592 - val_loss: 1.2968 - val_accuracy: 0.5041\n",
            "Epoch 212/500\n",
            "31/31 [==============================] - 0s 11ms/step - loss: 1.2892 - accuracy: 0.5633 - val_loss: 1.2960 - val_accuracy: 0.5122\n",
            "Epoch 213/500\n",
            "31/31 [==============================] - 0s 11ms/step - loss: 1.2883 - accuracy: 0.5673 - val_loss: 1.2952 - val_accuracy: 0.5122\n",
            "Epoch 214/500\n",
            "31/31 [==============================] - 0s 12ms/step - loss: 1.2874 - accuracy: 0.5694 - val_loss: 1.2943 - val_accuracy: 0.5285\n",
            "Epoch 215/500\n",
            "31/31 [==============================] - 0s 11ms/step - loss: 1.2865 - accuracy: 0.5633 - val_loss: 1.2935 - val_accuracy: 0.5285\n",
            "Epoch 216/500\n",
            "31/31 [==============================] - 0s 11ms/step - loss: 1.2856 - accuracy: 0.5673 - val_loss: 1.2926 - val_accuracy: 0.5366\n",
            "Epoch 217/500\n",
            "31/31 [==============================] - 0s 11ms/step - loss: 1.2846 - accuracy: 0.5714 - val_loss: 1.2918 - val_accuracy: 0.5366\n",
            "Epoch 218/500\n",
            "31/31 [==============================] - 0s 11ms/step - loss: 1.2837 - accuracy: 0.5694 - val_loss: 1.2909 - val_accuracy: 0.5447\n",
            "Epoch 219/500\n",
            "31/31 [==============================] - 0s 11ms/step - loss: 1.2828 - accuracy: 0.5735 - val_loss: 1.2900 - val_accuracy: 0.5528\n",
            "Epoch 220/500\n",
            "31/31 [==============================] - 0s 11ms/step - loss: 1.2818 - accuracy: 0.5714 - val_loss: 1.2891 - val_accuracy: 0.5528\n",
            "Epoch 221/500\n",
            "31/31 [==============================] - 0s 11ms/step - loss: 1.2808 - accuracy: 0.5714 - val_loss: 1.2882 - val_accuracy: 0.5528\n",
            "Epoch 222/500\n",
            "31/31 [==============================] - 0s 11ms/step - loss: 1.2798 - accuracy: 0.5735 - val_loss: 1.2872 - val_accuracy: 0.5528\n",
            "Epoch 223/500\n",
            "31/31 [==============================] - 0s 11ms/step - loss: 1.2788 - accuracy: 0.5796 - val_loss: 1.2863 - val_accuracy: 0.5610\n",
            "Epoch 224/500\n",
            "31/31 [==============================] - 0s 11ms/step - loss: 1.2778 - accuracy: 0.5837 - val_loss: 1.2854 - val_accuracy: 0.5610\n",
            "Epoch 225/500\n",
            "31/31 [==============================] - 0s 12ms/step - loss: 1.2768 - accuracy: 0.5796 - val_loss: 1.2844 - val_accuracy: 0.5610\n",
            "Epoch 226/500\n",
            "31/31 [==============================] - 0s 11ms/step - loss: 1.2757 - accuracy: 0.5837 - val_loss: 1.2835 - val_accuracy: 0.5610\n",
            "Epoch 227/500\n",
            "31/31 [==============================] - 0s 12ms/step - loss: 1.2746 - accuracy: 0.5898 - val_loss: 1.2825 - val_accuracy: 0.5610\n",
            "Epoch 228/500\n",
            "31/31 [==============================] - 0s 12ms/step - loss: 1.2736 - accuracy: 0.5878 - val_loss: 1.2815 - val_accuracy: 0.5610\n",
            "Epoch 229/500\n",
            "31/31 [==============================] - 0s 11ms/step - loss: 1.2726 - accuracy: 0.5837 - val_loss: 1.2805 - val_accuracy: 0.5610\n",
            "Epoch 230/500\n",
            "31/31 [==============================] - 0s 14ms/step - loss: 1.2715 - accuracy: 0.5878 - val_loss: 1.2795 - val_accuracy: 0.5610\n",
            "Epoch 231/500\n",
            "31/31 [==============================] - 0s 14ms/step - loss: 1.2704 - accuracy: 0.5939 - val_loss: 1.2785 - val_accuracy: 0.5610\n",
            "Epoch 232/500\n",
            "31/31 [==============================] - 0s 14ms/step - loss: 1.2693 - accuracy: 0.5959 - val_loss: 1.2775 - val_accuracy: 0.5610\n",
            "Epoch 233/500\n",
            "31/31 [==============================] - 0s 12ms/step - loss: 1.2682 - accuracy: 0.6000 - val_loss: 1.2764 - val_accuracy: 0.5610\n",
            "Epoch 234/500\n",
            "31/31 [==============================] - 0s 12ms/step - loss: 1.2671 - accuracy: 0.6000 - val_loss: 1.2754 - val_accuracy: 0.5772\n",
            "Epoch 235/500\n",
            "31/31 [==============================] - 0s 14ms/step - loss: 1.2660 - accuracy: 0.6000 - val_loss: 1.2743 - val_accuracy: 0.5772\n",
            "Epoch 236/500\n",
            "31/31 [==============================] - 0s 12ms/step - loss: 1.2648 - accuracy: 0.6082 - val_loss: 1.2732 - val_accuracy: 0.5772\n",
            "Epoch 237/500\n",
            "31/31 [==============================] - 0s 12ms/step - loss: 1.2636 - accuracy: 0.6082 - val_loss: 1.2721 - val_accuracy: 0.5772\n",
            "Epoch 238/500\n",
            "31/31 [==============================] - 0s 11ms/step - loss: 1.2624 - accuracy: 0.6082 - val_loss: 1.2710 - val_accuracy: 0.5772\n",
            "Epoch 239/500\n",
            "31/31 [==============================] - 0s 11ms/step - loss: 1.2612 - accuracy: 0.6143 - val_loss: 1.2699 - val_accuracy: 0.5935\n",
            "Epoch 240/500\n",
            "31/31 [==============================] - 0s 12ms/step - loss: 1.2600 - accuracy: 0.6184 - val_loss: 1.2688 - val_accuracy: 0.5935\n",
            "Epoch 241/500\n",
            "31/31 [==============================] - 0s 13ms/step - loss: 1.2588 - accuracy: 0.6204 - val_loss: 1.2676 - val_accuracy: 0.5935\n",
            "Epoch 242/500\n",
            "31/31 [==============================] - 0s 12ms/step - loss: 1.2575 - accuracy: 0.6224 - val_loss: 1.2664 - val_accuracy: 0.6016\n",
            "Epoch 243/500\n",
            "31/31 [==============================] - 0s 12ms/step - loss: 1.2562 - accuracy: 0.6245 - val_loss: 1.2653 - val_accuracy: 0.6098\n",
            "Epoch 244/500\n",
            "31/31 [==============================] - 0s 11ms/step - loss: 1.2549 - accuracy: 0.6224 - val_loss: 1.2641 - val_accuracy: 0.6098\n",
            "Epoch 245/500\n",
            "31/31 [==============================] - 0s 11ms/step - loss: 1.2537 - accuracy: 0.6327 - val_loss: 1.2629 - val_accuracy: 0.6098\n",
            "Epoch 246/500\n",
            "31/31 [==============================] - 0s 11ms/step - loss: 1.2524 - accuracy: 0.6367 - val_loss: 1.2617 - val_accuracy: 0.6098\n",
            "Epoch 247/500\n",
            "31/31 [==============================] - 0s 11ms/step - loss: 1.2511 - accuracy: 0.6306 - val_loss: 1.2604 - val_accuracy: 0.6179\n",
            "Epoch 248/500\n",
            "31/31 [==============================] - 0s 11ms/step - loss: 1.2497 - accuracy: 0.6327 - val_loss: 1.2592 - val_accuracy: 0.6179\n",
            "Epoch 249/500\n",
            "31/31 [==============================] - 0s 11ms/step - loss: 1.2483 - accuracy: 0.6408 - val_loss: 1.2579 - val_accuracy: 0.6179\n",
            "Epoch 250/500\n",
            "31/31 [==============================] - 0s 11ms/step - loss: 1.2470 - accuracy: 0.6388 - val_loss: 1.2566 - val_accuracy: 0.6179\n",
            "Epoch 251/500\n",
            "31/31 [==============================] - 0s 11ms/step - loss: 1.2456 - accuracy: 0.6429 - val_loss: 1.2553 - val_accuracy: 0.6179\n",
            "Epoch 252/500\n",
            "31/31 [==============================] - 0s 11ms/step - loss: 1.2442 - accuracy: 0.6469 - val_loss: 1.2540 - val_accuracy: 0.6179\n",
            "Epoch 253/500\n",
            "31/31 [==============================] - 0s 11ms/step - loss: 1.2428 - accuracy: 0.6429 - val_loss: 1.2526 - val_accuracy: 0.6260\n",
            "Epoch 254/500\n",
            "31/31 [==============================] - 0s 11ms/step - loss: 1.2413 - accuracy: 0.6449 - val_loss: 1.2513 - val_accuracy: 0.6260\n",
            "Epoch 255/500\n",
            "31/31 [==============================] - 0s 11ms/step - loss: 1.2400 - accuracy: 0.6469 - val_loss: 1.2499 - val_accuracy: 0.6260\n",
            "Epoch 256/500\n",
            "31/31 [==============================] - 0s 11ms/step - loss: 1.2383 - accuracy: 0.6469 - val_loss: 1.2485 - val_accuracy: 0.6260\n",
            "Epoch 257/500\n",
            "31/31 [==============================] - 0s 12ms/step - loss: 1.2369 - accuracy: 0.6510 - val_loss: 1.2471 - val_accuracy: 0.6341\n",
            "Epoch 258/500\n",
            "31/31 [==============================] - 0s 11ms/step - loss: 1.2354 - accuracy: 0.6490 - val_loss: 1.2457 - val_accuracy: 0.6341\n",
            "Epoch 259/500\n",
            "31/31 [==============================] - 0s 12ms/step - loss: 1.2338 - accuracy: 0.6510 - val_loss: 1.2442 - val_accuracy: 0.6341\n",
            "Epoch 260/500\n",
            "31/31 [==============================] - 0s 11ms/step - loss: 1.2323 - accuracy: 0.6551 - val_loss: 1.2428 - val_accuracy: 0.6341\n",
            "Epoch 261/500\n",
            "31/31 [==============================] - 0s 11ms/step - loss: 1.2307 - accuracy: 0.6551 - val_loss: 1.2413 - val_accuracy: 0.6423\n",
            "Epoch 262/500\n",
            "31/31 [==============================] - 0s 12ms/step - loss: 1.2290 - accuracy: 0.6571 - val_loss: 1.2398 - val_accuracy: 0.6423\n",
            "Epoch 263/500\n",
            "31/31 [==============================] - 0s 12ms/step - loss: 1.2274 - accuracy: 0.6551 - val_loss: 1.2383 - val_accuracy: 0.6423\n",
            "Epoch 264/500\n",
            "31/31 [==============================] - 0s 12ms/step - loss: 1.2258 - accuracy: 0.6571 - val_loss: 1.2367 - val_accuracy: 0.6423\n",
            "Epoch 265/500\n",
            "31/31 [==============================] - 0s 12ms/step - loss: 1.2242 - accuracy: 0.6531 - val_loss: 1.2352 - val_accuracy: 0.6423\n",
            "Epoch 266/500\n",
            "31/31 [==============================] - 0s 12ms/step - loss: 1.2226 - accuracy: 0.6612 - val_loss: 1.2336 - val_accuracy: 0.6504\n",
            "Epoch 267/500\n",
            "31/31 [==============================] - 0s 12ms/step - loss: 1.2208 - accuracy: 0.6694 - val_loss: 1.2320 - val_accuracy: 0.6504\n",
            "Epoch 268/500\n",
            "31/31 [==============================] - 0s 12ms/step - loss: 1.2191 - accuracy: 0.6633 - val_loss: 1.2304 - val_accuracy: 0.6504\n",
            "Epoch 269/500\n",
            "31/31 [==============================] - 0s 12ms/step - loss: 1.2174 - accuracy: 0.6592 - val_loss: 1.2288 - val_accuracy: 0.6667\n",
            "Epoch 270/500\n",
            "31/31 [==============================] - 0s 11ms/step - loss: 1.2156 - accuracy: 0.6633 - val_loss: 1.2271 - val_accuracy: 0.6667\n",
            "Epoch 271/500\n",
            "31/31 [==============================] - 0s 12ms/step - loss: 1.2138 - accuracy: 0.6673 - val_loss: 1.2254 - val_accuracy: 0.6667\n",
            "Epoch 272/500\n",
            "31/31 [==============================] - 0s 11ms/step - loss: 1.2119 - accuracy: 0.6633 - val_loss: 1.2236 - val_accuracy: 0.6667\n",
            "Epoch 273/500\n",
            "31/31 [==============================] - 0s 11ms/step - loss: 1.2100 - accuracy: 0.6673 - val_loss: 1.2219 - val_accuracy: 0.6748\n",
            "Epoch 274/500\n",
            "31/31 [==============================] - 0s 11ms/step - loss: 1.2083 - accuracy: 0.6714 - val_loss: 1.2201 - val_accuracy: 0.6667\n",
            "Epoch 275/500\n",
            "31/31 [==============================] - 0s 11ms/step - loss: 1.2063 - accuracy: 0.6694 - val_loss: 1.2183 - val_accuracy: 0.6748\n",
            "Epoch 276/500\n",
            "31/31 [==============================] - 0s 12ms/step - loss: 1.2044 - accuracy: 0.6653 - val_loss: 1.2165 - val_accuracy: 0.6829\n",
            "Epoch 277/500\n",
            "31/31 [==============================] - 0s 11ms/step - loss: 1.2025 - accuracy: 0.6714 - val_loss: 1.2147 - val_accuracy: 0.6829\n",
            "Epoch 278/500\n",
            "31/31 [==============================] - 0s 12ms/step - loss: 1.2005 - accuracy: 0.6755 - val_loss: 1.2129 - val_accuracy: 0.6829\n",
            "Epoch 279/500\n",
            "31/31 [==============================] - 0s 11ms/step - loss: 1.1987 - accuracy: 0.6837 - val_loss: 1.2110 - val_accuracy: 0.6829\n",
            "Epoch 280/500\n",
            "31/31 [==============================] - 0s 11ms/step - loss: 1.1965 - accuracy: 0.6755 - val_loss: 1.2091 - val_accuracy: 0.6829\n",
            "Epoch 281/500\n",
            "31/31 [==============================] - 0s 11ms/step - loss: 1.1944 - accuracy: 0.6776 - val_loss: 1.2071 - val_accuracy: 0.6829\n",
            "Epoch 282/500\n",
            "31/31 [==============================] - 0s 11ms/step - loss: 1.1925 - accuracy: 0.6714 - val_loss: 1.2052 - val_accuracy: 0.6829\n",
            "Epoch 283/500\n",
            "31/31 [==============================] - 0s 11ms/step - loss: 1.1905 - accuracy: 0.6735 - val_loss: 1.2033 - val_accuracy: 0.6829\n",
            "Epoch 284/500\n",
            "31/31 [==============================] - 0s 11ms/step - loss: 1.1883 - accuracy: 0.6816 - val_loss: 1.2013 - val_accuracy: 0.6829\n",
            "Epoch 285/500\n",
            "31/31 [==============================] - 0s 11ms/step - loss: 1.1861 - accuracy: 0.6878 - val_loss: 1.1992 - val_accuracy: 0.6829\n",
            "Epoch 286/500\n",
            "31/31 [==============================] - 0s 11ms/step - loss: 1.1840 - accuracy: 0.6837 - val_loss: 1.1972 - val_accuracy: 0.6829\n",
            "Epoch 287/500\n",
            "31/31 [==============================] - 0s 11ms/step - loss: 1.1818 - accuracy: 0.6816 - val_loss: 1.1951 - val_accuracy: 0.6829\n",
            "Epoch 288/500\n",
            "31/31 [==============================] - 0s 11ms/step - loss: 1.1797 - accuracy: 0.6878 - val_loss: 1.1931 - val_accuracy: 0.6829\n",
            "Epoch 289/500\n",
            "31/31 [==============================] - 0s 11ms/step - loss: 1.1774 - accuracy: 0.6939 - val_loss: 1.1910 - val_accuracy: 0.6829\n",
            "Epoch 290/500\n",
            "31/31 [==============================] - 0s 11ms/step - loss: 1.1750 - accuracy: 0.6776 - val_loss: 1.1889 - val_accuracy: 0.6992\n",
            "Epoch 291/500\n",
            "31/31 [==============================] - 0s 11ms/step - loss: 1.1727 - accuracy: 0.6837 - val_loss: 1.1867 - val_accuracy: 0.7073\n",
            "Epoch 292/500\n",
            "31/31 [==============================] - 0s 11ms/step - loss: 1.1704 - accuracy: 0.6837 - val_loss: 1.1846 - val_accuracy: 0.7154\n",
            "Epoch 293/500\n",
            "31/31 [==============================] - 0s 11ms/step - loss: 1.1681 - accuracy: 0.6898 - val_loss: 1.1824 - val_accuracy: 0.7154\n",
            "Epoch 294/500\n",
            "31/31 [==============================] - 0s 11ms/step - loss: 1.1658 - accuracy: 0.6939 - val_loss: 1.1802 - val_accuracy: 0.7236\n",
            "Epoch 295/500\n",
            "31/31 [==============================] - 0s 11ms/step - loss: 1.1632 - accuracy: 0.7041 - val_loss: 1.1780 - val_accuracy: 0.7236\n",
            "Epoch 296/500\n",
            "31/31 [==============================] - 0s 11ms/step - loss: 1.1608 - accuracy: 0.7020 - val_loss: 1.1757 - val_accuracy: 0.7236\n",
            "Epoch 297/500\n",
            "31/31 [==============================] - 0s 11ms/step - loss: 1.1583 - accuracy: 0.7020 - val_loss: 1.1734 - val_accuracy: 0.7236\n",
            "Epoch 298/500\n",
            "31/31 [==============================] - 0s 11ms/step - loss: 1.1558 - accuracy: 0.7020 - val_loss: 1.1711 - val_accuracy: 0.7236\n",
            "Epoch 299/500\n",
            "31/31 [==============================] - 0s 12ms/step - loss: 1.1533 - accuracy: 0.7061 - val_loss: 1.1687 - val_accuracy: 0.7317\n",
            "Epoch 300/500\n",
            "31/31 [==============================] - 0s 11ms/step - loss: 1.1508 - accuracy: 0.7061 - val_loss: 1.1664 - val_accuracy: 0.7317\n",
            "Epoch 301/500\n",
            "31/31 [==============================] - 0s 11ms/step - loss: 1.1483 - accuracy: 0.7041 - val_loss: 1.1639 - val_accuracy: 0.7317\n",
            "Epoch 302/500\n",
            "31/31 [==============================] - 0s 11ms/step - loss: 1.1456 - accuracy: 0.7184 - val_loss: 1.1615 - val_accuracy: 0.7398\n",
            "Epoch 303/500\n",
            "31/31 [==============================] - 0s 13ms/step - loss: 1.1430 - accuracy: 0.7102 - val_loss: 1.1591 - val_accuracy: 0.7480\n",
            "Epoch 304/500\n",
            "31/31 [==============================] - 0s 12ms/step - loss: 1.1403 - accuracy: 0.7204 - val_loss: 1.1567 - val_accuracy: 0.7398\n",
            "Epoch 305/500\n",
            "31/31 [==============================] - 0s 12ms/step - loss: 1.1376 - accuracy: 0.7143 - val_loss: 1.1542 - val_accuracy: 0.7561\n",
            "Epoch 306/500\n",
            "31/31 [==============================] - 0s 13ms/step - loss: 1.1348 - accuracy: 0.7184 - val_loss: 1.1516 - val_accuracy: 0.7480\n",
            "Epoch 307/500\n",
            "31/31 [==============================] - 0s 12ms/step - loss: 1.1323 - accuracy: 0.7163 - val_loss: 1.1491 - val_accuracy: 0.7480\n",
            "Epoch 308/500\n",
            "31/31 [==============================] - 0s 12ms/step - loss: 1.1294 - accuracy: 0.7184 - val_loss: 1.1464 - val_accuracy: 0.7398\n",
            "Epoch 309/500\n",
            "31/31 [==============================] - 0s 11ms/step - loss: 1.1265 - accuracy: 0.7122 - val_loss: 1.1439 - val_accuracy: 0.7480\n",
            "Epoch 310/500\n",
            "31/31 [==============================] - 0s 11ms/step - loss: 1.1237 - accuracy: 0.7204 - val_loss: 1.1412 - val_accuracy: 0.7480\n",
            "Epoch 311/500\n",
            "31/31 [==============================] - 0s 11ms/step - loss: 1.1207 - accuracy: 0.7143 - val_loss: 1.1386 - val_accuracy: 0.7561\n",
            "Epoch 312/500\n",
            "31/31 [==============================] - 0s 11ms/step - loss: 1.1180 - accuracy: 0.7184 - val_loss: 1.1359 - val_accuracy: 0.7642\n",
            "Epoch 313/500\n",
            "31/31 [==============================] - 0s 11ms/step - loss: 1.1148 - accuracy: 0.7163 - val_loss: 1.1332 - val_accuracy: 0.7724\n",
            "Epoch 314/500\n",
            "31/31 [==============================] - 0s 11ms/step - loss: 1.1118 - accuracy: 0.7184 - val_loss: 1.1304 - val_accuracy: 0.7724\n",
            "Epoch 315/500\n",
            "31/31 [==============================] - 0s 12ms/step - loss: 1.1089 - accuracy: 0.7224 - val_loss: 1.1275 - val_accuracy: 0.7724\n",
            "Epoch 316/500\n",
            "31/31 [==============================] - 0s 11ms/step - loss: 1.1058 - accuracy: 0.7286 - val_loss: 1.1247 - val_accuracy: 0.7724\n",
            "Epoch 317/500\n",
            "31/31 [==============================] - 0s 11ms/step - loss: 1.1028 - accuracy: 0.7204 - val_loss: 1.1218 - val_accuracy: 0.7561\n",
            "Epoch 318/500\n",
            "31/31 [==============================] - 0s 11ms/step - loss: 1.0995 - accuracy: 0.7204 - val_loss: 1.1189 - val_accuracy: 0.7642\n",
            "Epoch 319/500\n",
            "31/31 [==============================] - 0s 11ms/step - loss: 1.0965 - accuracy: 0.7245 - val_loss: 1.1160 - val_accuracy: 0.7642\n",
            "Epoch 320/500\n",
            "31/31 [==============================] - 0s 11ms/step - loss: 1.0936 - accuracy: 0.7286 - val_loss: 1.1131 - val_accuracy: 0.7724\n",
            "Epoch 321/500\n",
            "31/31 [==============================] - 0s 11ms/step - loss: 1.0901 - accuracy: 0.7347 - val_loss: 1.1101 - val_accuracy: 0.7642\n",
            "Epoch 322/500\n",
            "31/31 [==============================] - 0s 11ms/step - loss: 1.0868 - accuracy: 0.7286 - val_loss: 1.1072 - val_accuracy: 0.7724\n",
            "Epoch 323/500\n",
            "31/31 [==============================] - 0s 11ms/step - loss: 1.0836 - accuracy: 0.7306 - val_loss: 1.1041 - val_accuracy: 0.7642\n",
            "Epoch 324/500\n",
            "31/31 [==============================] - 0s 11ms/step - loss: 1.0802 - accuracy: 0.7306 - val_loss: 1.1011 - val_accuracy: 0.7561\n",
            "Epoch 325/500\n",
            "31/31 [==============================] - 0s 11ms/step - loss: 1.0770 - accuracy: 0.7265 - val_loss: 1.0981 - val_accuracy: 0.7724\n",
            "Epoch 326/500\n",
            "31/31 [==============================] - 0s 12ms/step - loss: 1.0737 - accuracy: 0.7265 - val_loss: 1.0950 - val_accuracy: 0.7805\n",
            "Epoch 327/500\n",
            "31/31 [==============================] - 0s 11ms/step - loss: 1.0698 - accuracy: 0.7306 - val_loss: 1.0919 - val_accuracy: 0.7805\n",
            "Epoch 328/500\n",
            "31/31 [==============================] - 0s 11ms/step - loss: 1.0665 - accuracy: 0.7388 - val_loss: 1.0887 - val_accuracy: 0.7724\n",
            "Epoch 329/500\n",
            "31/31 [==============================] - 0s 11ms/step - loss: 1.0630 - accuracy: 0.7347 - val_loss: 1.0855 - val_accuracy: 0.7724\n",
            "Epoch 330/500\n",
            "31/31 [==============================] - 0s 11ms/step - loss: 1.0594 - accuracy: 0.7347 - val_loss: 1.0823 - val_accuracy: 0.7724\n",
            "Epoch 331/500\n",
            "31/31 [==============================] - 0s 11ms/step - loss: 1.0559 - accuracy: 0.7347 - val_loss: 1.0790 - val_accuracy: 0.7724\n",
            "Epoch 332/500\n",
            "31/31 [==============================] - 0s 12ms/step - loss: 1.0522 - accuracy: 0.7265 - val_loss: 1.0757 - val_accuracy: 0.7724\n",
            "Epoch 333/500\n",
            "31/31 [==============================] - 0s 11ms/step - loss: 1.0487 - accuracy: 0.7388 - val_loss: 1.0725 - val_accuracy: 0.7724\n",
            "Epoch 334/500\n",
            "31/31 [==============================] - 0s 11ms/step - loss: 1.0449 - accuracy: 0.7408 - val_loss: 1.0692 - val_accuracy: 0.7724\n",
            "Epoch 335/500\n",
            "31/31 [==============================] - 0s 11ms/step - loss: 1.0415 - accuracy: 0.7490 - val_loss: 1.0660 - val_accuracy: 0.7805\n",
            "Epoch 336/500\n",
            "31/31 [==============================] - 0s 11ms/step - loss: 1.0376 - accuracy: 0.7449 - val_loss: 1.0626 - val_accuracy: 0.7805\n",
            "Epoch 337/500\n",
            "31/31 [==============================] - 0s 12ms/step - loss: 1.0340 - accuracy: 0.7469 - val_loss: 1.0591 - val_accuracy: 0.7724\n",
            "Epoch 338/500\n",
            "31/31 [==============================] - 0s 11ms/step - loss: 1.0304 - accuracy: 0.7449 - val_loss: 1.0557 - val_accuracy: 0.7805\n",
            "Epoch 339/500\n",
            "31/31 [==============================] - 0s 11ms/step - loss: 1.0262 - accuracy: 0.7490 - val_loss: 1.0522 - val_accuracy: 0.7805\n",
            "Epoch 340/500\n",
            "31/31 [==============================] - 0s 11ms/step - loss: 1.0224 - accuracy: 0.7449 - val_loss: 1.0487 - val_accuracy: 0.7886\n",
            "Epoch 341/500\n",
            "31/31 [==============================] - 0s 11ms/step - loss: 1.0185 - accuracy: 0.7612 - val_loss: 1.0451 - val_accuracy: 0.7886\n",
            "Epoch 342/500\n",
            "31/31 [==============================] - 0s 11ms/step - loss: 1.0144 - accuracy: 0.7449 - val_loss: 1.0417 - val_accuracy: 0.7967\n",
            "Epoch 343/500\n",
            "31/31 [==============================] - 0s 12ms/step - loss: 1.0106 - accuracy: 0.7449 - val_loss: 1.0381 - val_accuracy: 0.7967\n",
            "Epoch 344/500\n",
            "31/31 [==============================] - 0s 11ms/step - loss: 1.0065 - accuracy: 0.7571 - val_loss: 1.0345 - val_accuracy: 0.7967\n",
            "Epoch 345/500\n",
            "31/31 [==============================] - 0s 11ms/step - loss: 1.0026 - accuracy: 0.7633 - val_loss: 1.0308 - val_accuracy: 0.7967\n",
            "Epoch 346/500\n",
            "31/31 [==============================] - 0s 11ms/step - loss: 0.9983 - accuracy: 0.7551 - val_loss: 1.0271 - val_accuracy: 0.7967\n",
            "Epoch 347/500\n",
            "31/31 [==============================] - 0s 11ms/step - loss: 0.9943 - accuracy: 0.7694 - val_loss: 1.0233 - val_accuracy: 0.7886\n",
            "Epoch 348/500\n",
            "31/31 [==============================] - 0s 11ms/step - loss: 0.9900 - accuracy: 0.7510 - val_loss: 1.0197 - val_accuracy: 0.7967\n",
            "Epoch 349/500\n",
            "31/31 [==============================] - 0s 11ms/step - loss: 0.9858 - accuracy: 0.7612 - val_loss: 1.0159 - val_accuracy: 0.8049\n",
            "Epoch 350/500\n",
            "31/31 [==============================] - 0s 11ms/step - loss: 0.9822 - accuracy: 0.7735 - val_loss: 1.0121 - val_accuracy: 0.8049\n",
            "Epoch 351/500\n",
            "31/31 [==============================] - 0s 11ms/step - loss: 0.9776 - accuracy: 0.7755 - val_loss: 1.0082 - val_accuracy: 0.8049\n",
            "Epoch 352/500\n",
            "31/31 [==============================] - 0s 11ms/step - loss: 0.9731 - accuracy: 0.7592 - val_loss: 1.0045 - val_accuracy: 0.8049\n",
            "Epoch 353/500\n",
            "31/31 [==============================] - 0s 11ms/step - loss: 0.9690 - accuracy: 0.7735 - val_loss: 1.0006 - val_accuracy: 0.8049\n",
            "Epoch 354/500\n",
            "31/31 [==============================] - 0s 11ms/step - loss: 0.9643 - accuracy: 0.7776 - val_loss: 0.9966 - val_accuracy: 0.8049\n",
            "Epoch 355/500\n",
            "31/31 [==============================] - 0s 11ms/step - loss: 0.9606 - accuracy: 0.7714 - val_loss: 0.9928 - val_accuracy: 0.8049\n",
            "Epoch 356/500\n",
            "31/31 [==============================] - 0s 11ms/step - loss: 0.9559 - accuracy: 0.7776 - val_loss: 0.9887 - val_accuracy: 0.8049\n",
            "Epoch 357/500\n",
            "31/31 [==============================] - 0s 11ms/step - loss: 0.9512 - accuracy: 0.7714 - val_loss: 0.9848 - val_accuracy: 0.8130\n",
            "Epoch 358/500\n",
            "31/31 [==============================] - 0s 11ms/step - loss: 0.9468 - accuracy: 0.7816 - val_loss: 0.9808 - val_accuracy: 0.8049\n",
            "Epoch 359/500\n",
            "31/31 [==============================] - 0s 11ms/step - loss: 0.9427 - accuracy: 0.7735 - val_loss: 0.9770 - val_accuracy: 0.8049\n",
            "Epoch 360/500\n",
            "31/31 [==============================] - 0s 11ms/step - loss: 0.9378 - accuracy: 0.7816 - val_loss: 0.9729 - val_accuracy: 0.8049\n",
            "Epoch 361/500\n",
            "31/31 [==============================] - 0s 11ms/step - loss: 0.9337 - accuracy: 0.7837 - val_loss: 0.9687 - val_accuracy: 0.8049\n",
            "Epoch 362/500\n",
            "31/31 [==============================] - 0s 11ms/step - loss: 0.9289 - accuracy: 0.7878 - val_loss: 0.9646 - val_accuracy: 0.8049\n",
            "Epoch 363/500\n",
            "31/31 [==============================] - 0s 11ms/step - loss: 0.9244 - accuracy: 0.7980 - val_loss: 0.9604 - val_accuracy: 0.8049\n",
            "Epoch 364/500\n",
            "31/31 [==============================] - 0s 11ms/step - loss: 0.9194 - accuracy: 0.7980 - val_loss: 0.9564 - val_accuracy: 0.8049\n",
            "Epoch 365/500\n",
            "31/31 [==============================] - 0s 12ms/step - loss: 0.9152 - accuracy: 0.8000 - val_loss: 0.9521 - val_accuracy: 0.8049\n",
            "Epoch 366/500\n",
            "31/31 [==============================] - 0s 11ms/step - loss: 0.9102 - accuracy: 0.8041 - val_loss: 0.9480 - val_accuracy: 0.8049\n",
            "Epoch 367/500\n",
            "31/31 [==============================] - 0s 11ms/step - loss: 0.9055 - accuracy: 0.7980 - val_loss: 0.9437 - val_accuracy: 0.8049\n",
            "Epoch 368/500\n",
            "31/31 [==============================] - 0s 11ms/step - loss: 0.9011 - accuracy: 0.8041 - val_loss: 0.9397 - val_accuracy: 0.8049\n",
            "Epoch 369/500\n",
            "31/31 [==============================] - 0s 11ms/step - loss: 0.8962 - accuracy: 0.8061 - val_loss: 0.9353 - val_accuracy: 0.8130\n",
            "Epoch 370/500\n",
            "31/31 [==============================] - 0s 11ms/step - loss: 0.8912 - accuracy: 0.8122 - val_loss: 0.9310 - val_accuracy: 0.8130\n",
            "Epoch 371/500\n",
            "31/31 [==============================] - 0s 11ms/step - loss: 0.8868 - accuracy: 0.8122 - val_loss: 0.9266 - val_accuracy: 0.8211\n",
            "Epoch 372/500\n",
            "31/31 [==============================] - 0s 11ms/step - loss: 0.8820 - accuracy: 0.8020 - val_loss: 0.9223 - val_accuracy: 0.8211\n",
            "Epoch 373/500\n",
            "31/31 [==============================] - 0s 11ms/step - loss: 0.8770 - accuracy: 0.8204 - val_loss: 0.9179 - val_accuracy: 0.8211\n",
            "Epoch 374/500\n",
            "31/31 [==============================] - 0s 11ms/step - loss: 0.8720 - accuracy: 0.8204 - val_loss: 0.9134 - val_accuracy: 0.8211\n",
            "Epoch 375/500\n",
            "31/31 [==============================] - 0s 11ms/step - loss: 0.8672 - accuracy: 0.8204 - val_loss: 0.9089 - val_accuracy: 0.8211\n",
            "Epoch 376/500\n",
            "31/31 [==============================] - 0s 12ms/step - loss: 0.8617 - accuracy: 0.8286 - val_loss: 0.9041 - val_accuracy: 0.8293\n",
            "Epoch 377/500\n",
            "31/31 [==============================] - 0s 11ms/step - loss: 0.8567 - accuracy: 0.8204 - val_loss: 0.8991 - val_accuracy: 0.8293\n",
            "Epoch 378/500\n",
            "31/31 [==============================] - 0s 11ms/step - loss: 0.8512 - accuracy: 0.8224 - val_loss: 0.8943 - val_accuracy: 0.8293\n",
            "Epoch 379/500\n",
            "31/31 [==============================] - 0s 11ms/step - loss: 0.8459 - accuracy: 0.8327 - val_loss: 0.8896 - val_accuracy: 0.8211\n",
            "Epoch 380/500\n",
            "31/31 [==============================] - 0s 12ms/step - loss: 0.8410 - accuracy: 0.8327 - val_loss: 0.8852 - val_accuracy: 0.8211\n",
            "Epoch 381/500\n",
            "31/31 [==============================] - 0s 11ms/step - loss: 0.8354 - accuracy: 0.8347 - val_loss: 0.8809 - val_accuracy: 0.8211\n",
            "Epoch 382/500\n",
            "31/31 [==============================] - 0s 11ms/step - loss: 0.8303 - accuracy: 0.8367 - val_loss: 0.8769 - val_accuracy: 0.8293\n",
            "Epoch 383/500\n",
            "31/31 [==============================] - 0s 11ms/step - loss: 0.8253 - accuracy: 0.8367 - val_loss: 0.8719 - val_accuracy: 0.8293\n",
            "Epoch 384/500\n",
            "31/31 [==============================] - 0s 11ms/step - loss: 0.8203 - accuracy: 0.8408 - val_loss: 0.8669 - val_accuracy: 0.8374\n",
            "Epoch 385/500\n",
            "31/31 [==============================] - 0s 11ms/step - loss: 0.8148 - accuracy: 0.8388 - val_loss: 0.8627 - val_accuracy: 0.8455\n",
            "Epoch 386/500\n",
            "31/31 [==============================] - 0s 11ms/step - loss: 0.8098 - accuracy: 0.8388 - val_loss: 0.8586 - val_accuracy: 0.8293\n",
            "Epoch 387/500\n",
            "31/31 [==============================] - 0s 11ms/step - loss: 0.8049 - accuracy: 0.8469 - val_loss: 0.8536 - val_accuracy: 0.8455\n",
            "Epoch 388/500\n",
            "31/31 [==============================] - 0s 11ms/step - loss: 0.8000 - accuracy: 0.8388 - val_loss: 0.8493 - val_accuracy: 0.8293\n",
            "Epoch 389/500\n",
            "31/31 [==============================] - 0s 11ms/step - loss: 0.7946 - accuracy: 0.8408 - val_loss: 0.8444 - val_accuracy: 0.8374\n",
            "Epoch 390/500\n",
            "31/31 [==============================] - 0s 11ms/step - loss: 0.7899 - accuracy: 0.8490 - val_loss: 0.8401 - val_accuracy: 0.8293\n",
            "Epoch 391/500\n",
            "31/31 [==============================] - 0s 12ms/step - loss: 0.7844 - accuracy: 0.8510 - val_loss: 0.8353 - val_accuracy: 0.8374\n",
            "Epoch 392/500\n",
            "31/31 [==============================] - 0s 11ms/step - loss: 0.7801 - accuracy: 0.8510 - val_loss: 0.8308 - val_accuracy: 0.8455\n",
            "Epoch 393/500\n",
            "31/31 [==============================] - 0s 11ms/step - loss: 0.7743 - accuracy: 0.8469 - val_loss: 0.8263 - val_accuracy: 0.8374\n",
            "Epoch 394/500\n",
            "31/31 [==============================] - 0s 11ms/step - loss: 0.7687 - accuracy: 0.8510 - val_loss: 0.8220 - val_accuracy: 0.8293\n",
            "Epoch 395/500\n",
            "31/31 [==============================] - 0s 11ms/step - loss: 0.7637 - accuracy: 0.8551 - val_loss: 0.8174 - val_accuracy: 0.8374\n",
            "Epoch 396/500\n",
            "31/31 [==============================] - 0s 11ms/step - loss: 0.7586 - accuracy: 0.8531 - val_loss: 0.8129 - val_accuracy: 0.8374\n",
            "Epoch 397/500\n",
            "31/31 [==============================] - 0s 11ms/step - loss: 0.7539 - accuracy: 0.8531 - val_loss: 0.8084 - val_accuracy: 0.8374\n",
            "Epoch 398/500\n",
            "31/31 [==============================] - 0s 11ms/step - loss: 0.7483 - accuracy: 0.8551 - val_loss: 0.8044 - val_accuracy: 0.8211\n",
            "Epoch 399/500\n",
            "31/31 [==============================] - 0s 11ms/step - loss: 0.7438 - accuracy: 0.8551 - val_loss: 0.8000 - val_accuracy: 0.8211\n",
            "Epoch 400/500\n",
            "31/31 [==============================] - 0s 12ms/step - loss: 0.7386 - accuracy: 0.8490 - val_loss: 0.7950 - val_accuracy: 0.8293\n",
            "Epoch 401/500\n",
            "31/31 [==============================] - 0s 11ms/step - loss: 0.7330 - accuracy: 0.8531 - val_loss: 0.7905 - val_accuracy: 0.8374\n",
            "Epoch 402/500\n",
            "31/31 [==============================] - 0s 11ms/step - loss: 0.7278 - accuracy: 0.8571 - val_loss: 0.7863 - val_accuracy: 0.8374\n",
            "Epoch 403/500\n",
            "31/31 [==============================] - 0s 11ms/step - loss: 0.7228 - accuracy: 0.8571 - val_loss: 0.7819 - val_accuracy: 0.8374\n",
            "Epoch 404/500\n",
            "31/31 [==============================] - 0s 11ms/step - loss: 0.7178 - accuracy: 0.8592 - val_loss: 0.7771 - val_accuracy: 0.8374\n",
            "Epoch 405/500\n",
            "31/31 [==============================] - 0s 12ms/step - loss: 0.7126 - accuracy: 0.8551 - val_loss: 0.7730 - val_accuracy: 0.8293\n",
            "Epoch 406/500\n",
            "31/31 [==============================] - 0s 11ms/step - loss: 0.7083 - accuracy: 0.8673 - val_loss: 0.7683 - val_accuracy: 0.8374\n",
            "Epoch 407/500\n",
            "31/31 [==============================] - 0s 11ms/step - loss: 0.7028 - accuracy: 0.8633 - val_loss: 0.7640 - val_accuracy: 0.8374\n",
            "Epoch 408/500\n",
            "31/31 [==============================] - 0s 11ms/step - loss: 0.6982 - accuracy: 0.8612 - val_loss: 0.7594 - val_accuracy: 0.8455\n",
            "Epoch 409/500\n",
            "31/31 [==============================] - 0s 11ms/step - loss: 0.6933 - accuracy: 0.8633 - val_loss: 0.7552 - val_accuracy: 0.8293\n",
            "Epoch 410/500\n",
            "31/31 [==============================] - 0s 11ms/step - loss: 0.6876 - accuracy: 0.8714 - val_loss: 0.7507 - val_accuracy: 0.8537\n",
            "Epoch 411/500\n",
            "31/31 [==============================] - 0s 11ms/step - loss: 0.6822 - accuracy: 0.8612 - val_loss: 0.7461 - val_accuracy: 0.8455\n",
            "Epoch 412/500\n",
            "31/31 [==============================] - 0s 11ms/step - loss: 0.6777 - accuracy: 0.8735 - val_loss: 0.7417 - val_accuracy: 0.8537\n",
            "Epoch 413/500\n",
            "31/31 [==============================] - 0s 11ms/step - loss: 0.6729 - accuracy: 0.8694 - val_loss: 0.7383 - val_accuracy: 0.8293\n",
            "Epoch 414/500\n",
            "31/31 [==============================] - 0s 11ms/step - loss: 0.6685 - accuracy: 0.8714 - val_loss: 0.7330 - val_accuracy: 0.8618\n",
            "Epoch 415/500\n",
            "31/31 [==============================] - 0s 12ms/step - loss: 0.6628 - accuracy: 0.8653 - val_loss: 0.7295 - val_accuracy: 0.8293\n",
            "Epoch 416/500\n",
            "31/31 [==============================] - 0s 11ms/step - loss: 0.6584 - accuracy: 0.8714 - val_loss: 0.7244 - val_accuracy: 0.8455\n",
            "Epoch 417/500\n",
            "31/31 [==============================] - 0s 11ms/step - loss: 0.6528 - accuracy: 0.8755 - val_loss: 0.7202 - val_accuracy: 0.8618\n",
            "Epoch 418/500\n",
            "31/31 [==============================] - 0s 11ms/step - loss: 0.6487 - accuracy: 0.8755 - val_loss: 0.7161 - val_accuracy: 0.8537\n",
            "Epoch 419/500\n",
            "31/31 [==============================] - 0s 12ms/step - loss: 0.6433 - accuracy: 0.8796 - val_loss: 0.7115 - val_accuracy: 0.8537\n",
            "Epoch 420/500\n",
            "31/31 [==============================] - 0s 11ms/step - loss: 0.6391 - accuracy: 0.8796 - val_loss: 0.7076 - val_accuracy: 0.8455\n",
            "Epoch 421/500\n",
            "31/31 [==============================] - 0s 11ms/step - loss: 0.6350 - accuracy: 0.8796 - val_loss: 0.7034 - val_accuracy: 0.8455\n",
            "Epoch 422/500\n",
            "31/31 [==============================] - 0s 11ms/step - loss: 0.6291 - accuracy: 0.8837 - val_loss: 0.6996 - val_accuracy: 0.8618\n",
            "Epoch 423/500\n",
            "31/31 [==============================] - 0s 11ms/step - loss: 0.6243 - accuracy: 0.8796 - val_loss: 0.6964 - val_accuracy: 0.8374\n",
            "Epoch 424/500\n",
            "31/31 [==============================] - 0s 12ms/step - loss: 0.6201 - accuracy: 0.8816 - val_loss: 0.6926 - val_accuracy: 0.8293\n",
            "Epoch 425/500\n",
            "31/31 [==============================] - 0s 11ms/step - loss: 0.6156 - accuracy: 0.8878 - val_loss: 0.6870 - val_accuracy: 0.8537\n",
            "Epoch 426/500\n",
            "31/31 [==============================] - 0s 11ms/step - loss: 0.6097 - accuracy: 0.8878 - val_loss: 0.6854 - val_accuracy: 0.8293\n",
            "Epoch 427/500\n",
            "31/31 [==============================] - 0s 11ms/step - loss: 0.6069 - accuracy: 0.8837 - val_loss: 0.6793 - val_accuracy: 0.8374\n",
            "Epoch 428/500\n",
            "31/31 [==============================] - 0s 12ms/step - loss: 0.6018 - accuracy: 0.8857 - val_loss: 0.6744 - val_accuracy: 0.8537\n",
            "Epoch 429/500\n",
            "31/31 [==============================] - 0s 11ms/step - loss: 0.5975 - accuracy: 0.8857 - val_loss: 0.6704 - val_accuracy: 0.8618\n",
            "Epoch 430/500\n",
            "31/31 [==============================] - 0s 11ms/step - loss: 0.5937 - accuracy: 0.8939 - val_loss: 0.6667 - val_accuracy: 0.8537\n",
            "Epoch 431/500\n",
            "31/31 [==============================] - 0s 11ms/step - loss: 0.5888 - accuracy: 0.8898 - val_loss: 0.6628 - val_accuracy: 0.8537\n",
            "Epoch 432/500\n",
            "31/31 [==============================] - 0s 11ms/step - loss: 0.5838 - accuracy: 0.8918 - val_loss: 0.6586 - val_accuracy: 0.8618\n",
            "Epoch 433/500\n",
            "31/31 [==============================] - 0s 12ms/step - loss: 0.5793 - accuracy: 0.8939 - val_loss: 0.6555 - val_accuracy: 0.8455\n",
            "Epoch 434/500\n",
            "31/31 [==============================] - 0s 11ms/step - loss: 0.5750 - accuracy: 0.8918 - val_loss: 0.6534 - val_accuracy: 0.8374\n",
            "Epoch 435/500\n",
            "31/31 [==============================] - 0s 11ms/step - loss: 0.5715 - accuracy: 0.8959 - val_loss: 0.6478 - val_accuracy: 0.8618\n",
            "Epoch 436/500\n",
            "31/31 [==============================] - 0s 11ms/step - loss: 0.5667 - accuracy: 0.8918 - val_loss: 0.6444 - val_accuracy: 0.8618\n",
            "Epoch 437/500\n",
            "31/31 [==============================] - 0s 11ms/step - loss: 0.5619 - accuracy: 0.8980 - val_loss: 0.6404 - val_accuracy: 0.8618\n",
            "Epoch 438/500\n",
            "31/31 [==============================] - 0s 12ms/step - loss: 0.5583 - accuracy: 0.9000 - val_loss: 0.6361 - val_accuracy: 0.8699\n",
            "Epoch 439/500\n",
            "31/31 [==============================] - 0s 11ms/step - loss: 0.5540 - accuracy: 0.9000 - val_loss: 0.6324 - val_accuracy: 0.8699\n",
            "Epoch 440/500\n",
            "31/31 [==============================] - 0s 11ms/step - loss: 0.5502 - accuracy: 0.9000 - val_loss: 0.6286 - val_accuracy: 0.8699\n",
            "Epoch 441/500\n",
            "31/31 [==============================] - 0s 11ms/step - loss: 0.5452 - accuracy: 0.9082 - val_loss: 0.6254 - val_accuracy: 0.8618\n",
            "Epoch 442/500\n",
            "31/31 [==============================] - 0s 12ms/step - loss: 0.5416 - accuracy: 0.9020 - val_loss: 0.6213 - val_accuracy: 0.8699\n",
            "Epoch 443/500\n",
            "31/31 [==============================] - 0s 12ms/step - loss: 0.5366 - accuracy: 0.9041 - val_loss: 0.6188 - val_accuracy: 0.8618\n",
            "Epoch 444/500\n",
            "31/31 [==============================] - 0s 11ms/step - loss: 0.5339 - accuracy: 0.9020 - val_loss: 0.6144 - val_accuracy: 0.8699\n",
            "Epoch 445/500\n",
            "31/31 [==============================] - 0s 11ms/step - loss: 0.5292 - accuracy: 0.9041 - val_loss: 0.6119 - val_accuracy: 0.8618\n",
            "Epoch 446/500\n",
            "31/31 [==============================] - 0s 11ms/step - loss: 0.5250 - accuracy: 0.9000 - val_loss: 0.6078 - val_accuracy: 0.8699\n",
            "Epoch 447/500\n",
            "31/31 [==============================] - 0s 12ms/step - loss: 0.5215 - accuracy: 0.9041 - val_loss: 0.6036 - val_accuracy: 0.8699\n",
            "Epoch 448/500\n",
            "31/31 [==============================] - 0s 11ms/step - loss: 0.5177 - accuracy: 0.9102 - val_loss: 0.6005 - val_accuracy: 0.8699\n",
            "Epoch 449/500\n",
            "31/31 [==============================] - 0s 11ms/step - loss: 0.5137 - accuracy: 0.9061 - val_loss: 0.5985 - val_accuracy: 0.8618\n",
            "Epoch 450/500\n",
            "31/31 [==============================] - 0s 11ms/step - loss: 0.5105 - accuracy: 0.9020 - val_loss: 0.5941 - val_accuracy: 0.8618\n",
            "Epoch 451/500\n",
            "31/31 [==============================] - 0s 12ms/step - loss: 0.5056 - accuracy: 0.9082 - val_loss: 0.5900 - val_accuracy: 0.8699\n",
            "Epoch 452/500\n",
            "31/31 [==============================] - 0s 11ms/step - loss: 0.5029 - accuracy: 0.9102 - val_loss: 0.5870 - val_accuracy: 0.8699\n",
            "Epoch 453/500\n",
            "31/31 [==============================] - 0s 12ms/step - loss: 0.4992 - accuracy: 0.9082 - val_loss: 0.5837 - val_accuracy: 0.8699\n",
            "Epoch 454/500\n",
            "31/31 [==============================] - 0s 11ms/step - loss: 0.4951 - accuracy: 0.9041 - val_loss: 0.5809 - val_accuracy: 0.8699\n",
            "Epoch 455/500\n",
            "31/31 [==============================] - 0s 12ms/step - loss: 0.4910 - accuracy: 0.9020 - val_loss: 0.5771 - val_accuracy: 0.8699\n",
            "Epoch 456/500\n",
            "31/31 [==============================] - 0s 11ms/step - loss: 0.4878 - accuracy: 0.9041 - val_loss: 0.5745 - val_accuracy: 0.8618\n",
            "Epoch 457/500\n",
            "31/31 [==============================] - 0s 11ms/step - loss: 0.4847 - accuracy: 0.9102 - val_loss: 0.5710 - val_accuracy: 0.8699\n",
            "Epoch 458/500\n",
            "31/31 [==============================] - 0s 11ms/step - loss: 0.4809 - accuracy: 0.9102 - val_loss: 0.5682 - val_accuracy: 0.8780\n",
            "Epoch 459/500\n",
            "31/31 [==============================] - 0s 11ms/step - loss: 0.4782 - accuracy: 0.9082 - val_loss: 0.5646 - val_accuracy: 0.8780\n",
            "Epoch 460/500\n",
            "31/31 [==============================] - 0s 12ms/step - loss: 0.4743 - accuracy: 0.9082 - val_loss: 0.5614 - val_accuracy: 0.8699\n",
            "Epoch 461/500\n",
            "31/31 [==============================] - 0s 11ms/step - loss: 0.4699 - accuracy: 0.9082 - val_loss: 0.5587 - val_accuracy: 0.8699\n",
            "Epoch 462/500\n",
            "31/31 [==============================] - 0s 11ms/step - loss: 0.4671 - accuracy: 0.9143 - val_loss: 0.5557 - val_accuracy: 0.8780\n",
            "Epoch 463/500\n",
            "31/31 [==============================] - 0s 11ms/step - loss: 0.4642 - accuracy: 0.9082 - val_loss: 0.5524 - val_accuracy: 0.8780\n",
            "Epoch 464/500\n",
            "31/31 [==============================] - 0s 11ms/step - loss: 0.4598 - accuracy: 0.9102 - val_loss: 0.5497 - val_accuracy: 0.8780\n",
            "Epoch 465/500\n",
            "31/31 [==============================] - 0s 12ms/step - loss: 0.4578 - accuracy: 0.9143 - val_loss: 0.5466 - val_accuracy: 0.8780\n",
            "Epoch 466/500\n",
            "31/31 [==============================] - 0s 13ms/step - loss: 0.4531 - accuracy: 0.9082 - val_loss: 0.5437 - val_accuracy: 0.8862\n",
            "Epoch 467/500\n",
            "31/31 [==============================] - 0s 11ms/step - loss: 0.4506 - accuracy: 0.9102 - val_loss: 0.5412 - val_accuracy: 0.8862\n",
            "Epoch 468/500\n",
            "31/31 [==============================] - 0s 12ms/step - loss: 0.4468 - accuracy: 0.9082 - val_loss: 0.5377 - val_accuracy: 0.8862\n",
            "Epoch 469/500\n",
            "31/31 [==============================] - 0s 12ms/step - loss: 0.4442 - accuracy: 0.9163 - val_loss: 0.5363 - val_accuracy: 0.8862\n",
            "Epoch 470/500\n",
            "31/31 [==============================] - 0s 12ms/step - loss: 0.4412 - accuracy: 0.9082 - val_loss: 0.5326 - val_accuracy: 0.8862\n",
            "Epoch 471/500\n",
            "31/31 [==============================] - 0s 12ms/step - loss: 0.4375 - accuracy: 0.9184 - val_loss: 0.5298 - val_accuracy: 0.8862\n",
            "Epoch 472/500\n",
            "31/31 [==============================] - 0s 11ms/step - loss: 0.4347 - accuracy: 0.9061 - val_loss: 0.5280 - val_accuracy: 0.8862\n",
            "Epoch 473/500\n",
            "31/31 [==============================] - 0s 11ms/step - loss: 0.4318 - accuracy: 0.9143 - val_loss: 0.5244 - val_accuracy: 0.8780\n",
            "Epoch 474/500\n",
            "31/31 [==============================] - 0s 12ms/step - loss: 0.4278 - accuracy: 0.9184 - val_loss: 0.5228 - val_accuracy: 0.8862\n",
            "Epoch 475/500\n",
            "31/31 [==============================] - 0s 11ms/step - loss: 0.4254 - accuracy: 0.9143 - val_loss: 0.5198 - val_accuracy: 0.8862\n",
            "Epoch 476/500\n",
            "31/31 [==============================] - 0s 11ms/step - loss: 0.4215 - accuracy: 0.9204 - val_loss: 0.5175 - val_accuracy: 0.8862\n",
            "Epoch 477/500\n",
            "31/31 [==============================] - 0s 12ms/step - loss: 0.4196 - accuracy: 0.9204 - val_loss: 0.5142 - val_accuracy: 0.8862\n",
            "Epoch 478/500\n",
            "31/31 [==============================] - 0s 13ms/step - loss: 0.4167 - accuracy: 0.9204 - val_loss: 0.5108 - val_accuracy: 0.8862\n",
            "Epoch 479/500\n",
            "31/31 [==============================] - 0s 13ms/step - loss: 0.4132 - accuracy: 0.9163 - val_loss: 0.5089 - val_accuracy: 0.8862\n",
            "Epoch 480/500\n",
            "31/31 [==============================] - 0s 14ms/step - loss: 0.4100 - accuracy: 0.9184 - val_loss: 0.5062 - val_accuracy: 0.8780\n",
            "Epoch 481/500\n",
            "31/31 [==============================] - 0s 12ms/step - loss: 0.4076 - accuracy: 0.9204 - val_loss: 0.5035 - val_accuracy: 0.8862\n",
            "Epoch 482/500\n",
            "31/31 [==============================] - 0s 12ms/step - loss: 0.4045 - accuracy: 0.9163 - val_loss: 0.5015 - val_accuracy: 0.8862\n",
            "Epoch 483/500\n",
            "31/31 [==============================] - 0s 12ms/step - loss: 0.4025 - accuracy: 0.9204 - val_loss: 0.5006 - val_accuracy: 0.8862\n",
            "Epoch 484/500\n",
            "31/31 [==============================] - 0s 12ms/step - loss: 0.3990 - accuracy: 0.9163 - val_loss: 0.4961 - val_accuracy: 0.8862\n",
            "Epoch 485/500\n",
            "31/31 [==============================] - 0s 12ms/step - loss: 0.3970 - accuracy: 0.9245 - val_loss: 0.4939 - val_accuracy: 0.8862\n",
            "Epoch 486/500\n",
            "31/31 [==============================] - 0s 12ms/step - loss: 0.3933 - accuracy: 0.9286 - val_loss: 0.4911 - val_accuracy: 0.8862\n",
            "Epoch 487/500\n",
            "31/31 [==============================] - 0s 11ms/step - loss: 0.3912 - accuracy: 0.9245 - val_loss: 0.4889 - val_accuracy: 0.8862\n",
            "Epoch 488/500\n",
            "31/31 [==============================] - 0s 12ms/step - loss: 0.3884 - accuracy: 0.9224 - val_loss: 0.4868 - val_accuracy: 0.8862\n",
            "Epoch 489/500\n",
            "31/31 [==============================] - 0s 11ms/step - loss: 0.3860 - accuracy: 0.9286 - val_loss: 0.4845 - val_accuracy: 0.8862\n",
            "Epoch 490/500\n",
            "31/31 [==============================] - 0s 11ms/step - loss: 0.3836 - accuracy: 0.9306 - val_loss: 0.4817 - val_accuracy: 0.8862\n",
            "Epoch 491/500\n",
            "31/31 [==============================] - 0s 11ms/step - loss: 0.3807 - accuracy: 0.9286 - val_loss: 0.4796 - val_accuracy: 0.8862\n",
            "Epoch 492/500\n",
            "31/31 [==============================] - 0s 12ms/step - loss: 0.3774 - accuracy: 0.9265 - val_loss: 0.4773 - val_accuracy: 0.8862\n",
            "Epoch 493/500\n",
            "31/31 [==============================] - 0s 11ms/step - loss: 0.3758 - accuracy: 0.9327 - val_loss: 0.4756 - val_accuracy: 0.8862\n",
            "Epoch 494/500\n",
            "31/31 [==============================] - 0s 11ms/step - loss: 0.3715 - accuracy: 0.9306 - val_loss: 0.4751 - val_accuracy: 0.8943\n",
            "Epoch 495/500\n",
            "31/31 [==============================] - 0s 11ms/step - loss: 0.3709 - accuracy: 0.9367 - val_loss: 0.4714 - val_accuracy: 0.8862\n",
            "Epoch 496/500\n",
            "31/31 [==============================] - 0s 11ms/step - loss: 0.3680 - accuracy: 0.9367 - val_loss: 0.4688 - val_accuracy: 0.8862\n",
            "Epoch 497/500\n",
            "31/31 [==============================] - 0s 12ms/step - loss: 0.3646 - accuracy: 0.9347 - val_loss: 0.4676 - val_accuracy: 0.8862\n",
            "Epoch 498/500\n",
            "31/31 [==============================] - 0s 11ms/step - loss: 0.3622 - accuracy: 0.9306 - val_loss: 0.4669 - val_accuracy: 0.8862\n",
            "Epoch 499/500\n",
            "31/31 [==============================] - 0s 11ms/step - loss: 0.3607 - accuracy: 0.9388 - val_loss: 0.4634 - val_accuracy: 0.8862\n",
            "Epoch 500/500\n",
            "31/31 [==============================] - 0s 11ms/step - loss: 0.3581 - accuracy: 0.9367 - val_loss: 0.4612 - val_accuracy: 0.8862\n"
          ]
        }
      ],
      "source": [
        "log = model.fit(X_train, y_train, batch_size=bs, epochs=500, validation_data=(X_test, y_test))"
      ]
    },
    {
      "cell_type": "code",
      "execution_count": 22,
      "metadata": {
        "id": "kQ6FwN8eurrg"
      },
      "outputs": [],
      "source": [
        "def show_results(model, log):\n",
        "    loss, acc = model.evaluate(X_test, y_test, batch_size=512, verbose=False)\n",
        "    print(f'Loss     = {loss:.4f}')\n",
        "    print(f'Accuracy = {acc:.4f}')\n",
        "    val_loss = log.history['val_loss']\n",
        "    val_acc = log.history['val_accuracy']\n",
        "    fig, axes = plt.subplots(1, 2, figsize=(14,4))\n",
        "    ax1, ax2 = axes\n",
        "    ax1.plot(log.history['loss'], label='train')\n",
        "    ax1.plot(val_loss, label='test')\n",
        "    ax1.set_xlabel('epoch'); ax1.set_ylabel('loss')\n",
        "    ax2.plot(log.history['accuracy'], label='train')\n",
        "    ax2.plot(val_acc, label='test')\n",
        "    ax2.set_xlabel('epoch'); ax2.set_ylabel('acc')\n",
        "    for ax in axes: ax.legend()"
      ]
    },
    {
      "cell_type": "code",
      "execution_count": 23,
      "metadata": {
        "colab": {
          "base_uri": "https://localhost:8080/",
          "height": 428
        },
        "id": "u2gq4oP4rose",
        "outputId": "566a14b0-67af-4c7d-ee59-39ac59f79e02"
      },
      "outputs": [
        {
          "name": "stdout",
          "output_type": "stream",
          "text": [
            "Loss     = 0.4612\n",
            "Accuracy = 0.8862\n"
          ]
        },
        {
          "data": {
            "image/png": "[encoded data removed]",
            "text/plain": [
              "<Figure size 1400x400 with 2 Axes>"
            ]
          },
          "metadata": {},
          "output_type": "display_data"
        }
      ],
      "source": [
        "show_results(model, log)"
      ]
    },
    {
      "cell_type": "markdown",
      "metadata": {
        "id": "qNgZtFfylqyS"
      },
      "source": [
        "## Probando el modelo"
      ]
    },
    {
      "cell_type": "code",
      "execution_count": 24,
      "metadata": {
        "colab": {
          "base_uri": "https://localhost:8080/",
          "height": 428
        },
        "id": "68Sohfl7g5BT",
        "outputId": "2b6258ec-e4cf-4ee4-8d9c-00673d7bb7b2"
      },
      "outputs": [
        {
          "data": {
            "image/png": "[encoded data removed]",
            "text/plain": [
              "<Figure size 640x480 with 1 Axes>"
            ]
          },
          "metadata": {},
          "output_type": "display_data"
        }
      ],
      "source": [
        "idx = np.random.choice(X_test.shape[0], 1)[0]\n",
        "im = X_test[idx]\n",
        "label = y_test[idx]\n",
        "plt.title('(test) id:{} val:{}'.format(idx, label ))\n",
        "plt.axis('off')\n",
        "plt.imshow(-im[:,:,0], cmap='gray')\n",
        "plt.show()"
      ]
    },
    {
      "cell_type": "markdown",
      "metadata": {
        "id": "v3W6WqMvmRP5"
      },
      "source": [
        "## Usando el modelo entrenado"
      ]
    },
    {
      "cell_type": "code",
      "execution_count": 25,
      "metadata": {
        "colab": {
          "base_uri": "https://localhost:8080/"
        },
        "id": "arNeSd_gmB2Y",
        "outputId": "130ca75f-2010-43ed-b818-0893ebac92f8"
      },
      "outputs": [
        {
          "data": {
            "text/plain": [
              "array([0.20794897, 0.1042537 , 0.6848942 , 0.00290317], dtype=float32)"
            ]
          },
          "execution_count": 25,
          "metadata": {},
          "output_type": "execute_result"
        }
      ],
      "source": [
        "salida = model.predict(im[None,:,:,:])[0]\n",
        "salida"
      ]
    },
    {
      "cell_type": "code",
      "execution_count": 26,
      "metadata": {
        "colab": {
          "base_uri": "https://localhost:8080/",
          "height": 490
        },
        "id": "kxGGKcpIm7Ch",
        "outputId": "af84f0b6-c692-4e6c-981b-f2243abb6e21"
      },
      "outputs": [
        {
          "data": {
            "text/plain": [
              "[]"
            ]
          },
          "execution_count": 26,
          "metadata": {},
          "output_type": "execute_result"
        },
        {
          "data": {
            "image/png": "[encoded data removed]",
            "text/plain": [
              "<Figure size 640x480 with 1 Axes>"
            ]
          },
          "metadata": {},
          "output_type": "display_data"
        }
      ],
      "source": [
        "plt.figure()\n",
        "plt.title(\"Predicción: {} Label: {}\".format(salida.argmax(), label ))\n",
        "plt.ylabel(\"Probabilidad\")\n",
        "plt.xlabel(\"Dígito\")\n",
        "plt.ylim([0,1])\n",
        "plt.bar(np.arange(4), salida)\n",
        "plt.plot()"
      ]
    },
    {
      "cell_type": "markdown",
      "metadata": {},
      "source": [
        "Para guardar el modelo"
      ]
    },
    {
      "cell_type": "code",
      "execution_count": 27,
      "metadata": {
        "id": "0yQxdb_8oFwZ"
      },
      "outputs": [],
      "source": [
        "model.save('modelo_entrenado.h5')"
      ]
    }
  ],
  "metadata": {
    "colab": {
      "provenance": []
    },
    "kernelspec": {
      "display_name": "Python 3",
      "name": "python3"
    },
    "language_info": {
      "codemirror_mode": {
        "name": "ipython",
        "version": 3
      },
      "file_extension": ".py",
      "mimetype": "text/x-python",
      "name": "python",
      "nbconvert_exporter": "python",
      "pygments_lexer": "ipython3",
      "version": "3.10.5"
    }
  },
  "nbformat": 4,
  "nbformat_minor": 0
}
